{
  "nbformat": 4,
  "nbformat_minor": 0,
  "metadata": {
    "colab": {
      "name": "20190828_6.텍스트와 시퀀스를 위한 딥러닝(2/3).ipynb",
      "version": "0.3.2",
      "provenance": [],
      "collapsed_sections": [],
      "include_colab_link": true
    },
    "kernelspec": {
      "name": "python3",
      "display_name": "Python 3"
    }
  },
  "cells": [
    {
      "cell_type": "markdown",
      "metadata": {
        "id": "view-in-github",
        "colab_type": "text"
      },
      "source": [
        "<a href=\"https://colab.research.google.com/github/viridis45/Python-data-analysis/blob/master/20190828_6_%ED%85%8D%EC%8A%A4%ED%8A%B8%EC%99%80_%EC%8B%9C%ED%80%80%EC%8A%A4%EB%A5%BC_%EC%9C%84%ED%95%9C_%EB%94%A5%EB%9F%AC%EB%8B%9D(2_3).ipynb\" target=\"_parent\"><img src=\"https://colab.research.google.com/assets/colab-badge.svg\" alt=\"Open In Colab\"/></a>"
      ]
    },
    {
      "cell_type": "markdown",
      "metadata": {
        "id": "omXHQeKRxDJu",
        "colab_type": "text"
      },
      "source": [
        "순환 신경망의 사용법\n",
        "- 기상 데이터 사용하기\n",
        "- Recurrent Dropoup (순환드롭아웃): prevents overfitting\n",
        "- Stacking Recurrent Layer : increases representational power but takes up much computing power\n",
        "- Bidirectional Recurrent Layer : self explanatory. enhances accuracy, 기억 오래 유지\n"
      ]
    },
    {
      "cell_type": "code",
      "metadata": {
        "id": "WZ-W_0Oi0lt3",
        "colab_type": "code",
        "colab": {}
      },
      "source": [
        "from google.colab import drive\n",
        "drive.mount('/content/drive')"
      ],
      "execution_count": 0,
      "outputs": []
    },
    {
      "cell_type": "markdown",
      "metadata": {
        "id": "LGiXjsSfEEuO",
        "colab_type": "text"
      },
      "source": [
        "# By hand"
      ]
    },
    {
      "cell_type": "markdown",
      "metadata": {
        "id": "lNQj3LjKCJyg",
        "colab_type": "text"
      },
      "source": [
        "\n",
        "## 데이터 둘러보기"
      ]
    },
    {
      "cell_type": "code",
      "metadata": {
        "id": "aQCRpugzwrck",
        "colab_type": "code",
        "colab": {
          "base_uri": "https://localhost:8080/",
          "height": 90
        },
        "outputId": "52fb8b9d-6d83-46e4-ba97-f25ff90c8723"
      },
      "source": [
        "data_dir = '/content/drive/My Drive/study/CS/ai/data/jena_climate_2009_2016.csv'\n",
        "#data_dir = './data/jena_climate_2009_2016.csv'\n",
        "f = open(data_dir)\n",
        "\n",
        "#reading csv w/o pandas yay\n",
        "data = f.read()\n",
        "f.close()\n",
        "lines = data.split('\\n') # csv -- sep by , and newline\n",
        "header = lines[0].split(',')\n",
        "lines = lines[1:] #take out the header and rest is the body\n",
        "\n",
        "print(len(lines))\n",
        "print(len(header))\n",
        "print(header)\n",
        "\n",
        "\n",
        "import numpy as np\n",
        "float_data = np.zeros((len(lines), len(header) -1)) #creating the empty dimension\n",
        "\n",
        "for i, line in enumerate(lines):\n",
        "  values = [float(x) for x in line.split(',')[1:]] # the first element in a line is datetime. taking it out. now i know y len(header)-1\n",
        "  float_data[i,:] = values # writing the values onto the empty dimension\n",
        "  \n",
        "\n",
        "  \n",
        "from matplotlib import pyplot as plt\n",
        "temp = float_data[:,1] # == \"T (degC)\"\n",
        "# plt.plot(range(len(temp)), temp)\n",
        "# plt.plot(range(1440), temp[:1440]) #처음 10일간의 온도 데이터. 10분마다 데이터 기록 -> 10*6*24*10 = 1440"
      ],
      "execution_count": 21,
      "outputs": [
        {
          "output_type": "stream",
          "text": [
            "420551\n",
            "15\n",
            "['\"Date Time\"', '\"p (mbar)\"', '\"T (degC)\"', '\"Tpot (K)\"', '\"Tdew (degC)\"', '\"rh (%)\"', '\"VPmax (mbar)\"', '\"VPact (mbar)\"', '\"VPdef (mbar)\"', '\"sh (g/kg)\"', '\"H2OC (mmol/mol)\"', '\"rho (g/m**3)\"', '\"wv (m/s)\"', '\"max. wv (m/s)\"', '\"wd (deg)\"']\n"
          ],
          "name": "stdout"
        }
      ]
    },
    {
      "cell_type": "markdown",
      "metadata": {
        "id": "giR6nPt3-4Wo",
        "colab_type": "text"
      },
      "source": [
        "strategy:\n",
        "- x 일 전의 데이터를 가져와 y increment 만큼씩 샘플링, z 시간 이후의 온도 예측\n",
        "- x : lookback, 10일 전 == 1440\n",
        "- y : stpes, 1시간마다 샘플링 == 6\n",
        "- z : delay, 24시간 이후의 온도 예측 == 144\n",
        "\n",
        "시계열 특성의 범위가 다르므로 전처리 필요 (온도, 습도 등 개별 정규화)\n",
        "\n",
        "generator를 이용하여 필요한 정보 빼내기\n"
      ]
    },
    {
      "cell_type": "markdown",
      "metadata": {
        "id": "IXIqdPNUCJBp",
        "colab_type": "text"
      },
      "source": [
        "## 정규화"
      ]
    },
    {
      "cell_type": "code",
      "metadata": {
        "id": "1qTzW_ppACJ-",
        "colab_type": "code",
        "colab": {}
      },
      "source": [
        "# 20만개 데이터만 사용합니다\n",
        "\n",
        "\n",
        "mean = float_data[:200000].mean(axis=0)\n",
        "float_data -= mean # normalization, by subtracting the mean\n",
        "std = float_data[:200000].std(axis=0)\n",
        "float_data /= std # standardization, by dividing by std\n"
      ],
      "execution_count": 0,
      "outputs": []
    },
    {
      "cell_type": "markdown",
      "metadata": {
        "id": "YxmkbuH_-4NZ",
        "colab_type": "text"
      },
      "source": [
        "## 데이터 떼오는 '제너레이터' 만들기"
      ]
    },
    {
      "cell_type": "code",
      "metadata": {
        "id": "nghEhoYI0nDJ",
        "colab_type": "code",
        "colab": {}
      },
      "source": [
        "# delay = 타켓용 미래의 타임샘플\n",
        "# lookback : 입력용 배치사이즈\n",
        "\n",
        "\n",
        "def generator(data, lookback, delay, min_index, max_index, shuffle=False, batch_size=128, step=6):\n",
        "  if max_index is None:\n",
        "    max_index = len(data) - delay - 1 # maxindex 가 정해지지 않았을 경우 미래에셋뺀것을 맥스인덱스로\n",
        " \n",
        "\n",
        "  i = min_index + lookback # 룩백수만큼 떼오기. 이거 맥스인덱스넘버값인듯\n",
        "  while 1:\n",
        "    if shuffle:\n",
        "      rows = np.random.randint( min_index + lookback, max_index, size=batch_size) # 랜덤하게 배치사이즈개 뽑아내기\n",
        "      \n",
        "    else:\n",
        "      if i+batch_size >= max_index: # 떼온 시간값이 최대시간값을 넘긴 경우\n",
        "        i = min_index + lookback # but you've decleared it already why again\n",
        "      rows = np.arange(i, min(i+batch_size, max_index)) #랜덤뽑기가 싫은 경우 배치사이즈만큼 뽑아내기. 맥스인덱스를 최대뽑힐수있는값으로 제한해주기\n",
        "      # 그런데 i값 내에서 쓰지 않고 한 배치 엑스트라를 줍니다 왜?\n",
        "      i += len(rows) \n",
        "      \n",
        "    samples = np.zeros((len(rows), lookback//step, data.shape[-1])) #배치만큼 자리맹길기\n",
        "    targets = np.zeros((len(rows), ))\n",
        "\n",
        "    for j,row in enumerate(rows):\n",
        "      indices = range(rows[j] - lookback, rows[j], step)\n",
        "      samples[j] = data[indices]\n",
        "      targets[j] = data[rows[j] + delay][1]\n",
        "      \n",
        "    yield samples, targets # wait why not return is it because of while\n",
        "  "
      ],
      "execution_count": 0,
      "outputs": []
    },
    {
      "cell_type": "code",
      "metadata": {
        "id": "7Xw5aaWiQzny",
        "colab_type": "code",
        "colab": {}
      },
      "source": [
        "lookback = 1440\n",
        "step = 6\n",
        "delay = 144\n",
        "batch_size = 128\n",
        "\n",
        "train_gen = generator(float_data, lookback = lookback, delay = delay, \n",
        "                      min_index = 0, max_index = 200000, shuffle=True, step = step, batch_size = batch_size)\n",
        "\n",
        "val_gen = generator(float_data, lookback = lookback, delay = delay, \n",
        "                      min_index = 200001, max_index = 300000, shuffle=True, step = step, batch_size = batch_size)\n",
        "\n",
        "test_gen = generator(float_data, lookback = lookback, delay = delay, \n",
        "                      min_index = 300001, max_index = None, shuffle=True, step = step, batch_size = batch_size)\n",
        "\n",
        "val_steps = (300000 - 200001 - lookback) // batch_size\n",
        "test_stepa = (len(float_data) - 300001 - lookback) // batch_size\n"
      ],
      "execution_count": 0,
      "outputs": []
    },
    {
      "cell_type": "code",
      "metadata": {
        "id": "qkDpVKxuRsjJ",
        "colab_type": "code",
        "colab": {
          "base_uri": "https://localhost:8080/",
          "height": 52
        },
        "outputId": "c7d196df-30bc-486b-d4de-ca004a7beb7d"
      },
      "source": [
        "#np.mean(np.abs(preds - targets))\n",
        "\n",
        "def evaluate_naive_method ():\n",
        "  batch_maes = []\n",
        "  for step in range(val_steps):\n",
        "    samples, targets = next(val_gen)\n",
        "    preds = samples[:, -1, 1]\n",
        "    mae = np.mean(np.abs(preds - targets))\n",
        "    batch_maes.append(mae)\n",
        "    \n",
        "  print(np.mean(batch_maes))\n",
        "  return np.mean(batch_maes)\n",
        "  \n",
        "  \n",
        "celcius_mae = float(evaluate_naive_method()) * std[1]\n",
        "print(celcius_mae)"
      ],
      "execution_count": 39,
      "outputs": [
        {
          "output_type": "stream",
          "text": [
            "0.289617159976239\n",
            "2.563835642880364\n"
          ],
          "name": "stdout"
        }
      ]
    },
    {
      "cell_type": "markdown",
      "metadata": {
        "id": "Mkk976evS9T9",
        "colab_type": "text"
      },
      "source": [
        "# By ML"
      ]
    },
    {
      "cell_type": "markdown",
      "metadata": {
        "id": "II-o7kqSTOiI",
        "colab_type": "text"
      },
      "source": [
        "## 모델 만들기\n",
        "회귀문제이므로 dense에 활성화함수가 없음\n"
      ]
    },
    {
      "cell_type": "code",
      "metadata": {
        "id": "wzAp5dWKS8aF",
        "colab_type": "code",
        "colab": {
          "base_uri": "https://localhost:8080/",
          "height": 846
        },
        "outputId": "a63f3fc5-e342-40bc-b38c-950487aa2b93"
      },
      "source": [
        "from keras.models import Sequential\n",
        "from keras import layers\n",
        "from keras.optimizers import RMSprop\n",
        "\n",
        "model = Sequential()\n",
        "model.add(layers.Flatten(input_shape = (lookback // step, float_data.shape[-1])))\n",
        "model.add(layers.Dense(32, activation='relu'))\n",
        "model.add(layers.Dense(1))\n",
        "model.compile(optimizer=RMSprop(), loss='mae')\n",
        "history = model.fit_generator(train_gen, steps_per_epoch = 500, epochs = 20, validation_data = val_gen, validation_steps=val_steps)"
      ],
      "execution_count": 44,
      "outputs": [
        {
          "output_type": "stream",
          "text": [
            "W0829 02:58:27.506194 140528603277184 deprecation_wrapper.py:119] From /usr/local/lib/python3.6/dist-packages/keras/optimizers.py:790: The name tf.train.Optimizer is deprecated. Please use tf.compat.v1.train.Optimizer instead.\n",
            "\n",
            "W0829 02:58:27.695552 140528603277184 deprecation_wrapper.py:119] From /usr/local/lib/python3.6/dist-packages/keras/backend/tensorflow_backend.py:986: The name tf.assign_add is deprecated. Please use tf.compat.v1.assign_add instead.\n",
            "\n",
            "W0829 02:58:27.703026 140528603277184 deprecation_wrapper.py:119] From /usr/local/lib/python3.6/dist-packages/keras/backend/tensorflow_backend.py:973: The name tf.assign is deprecated. Please use tf.compat.v1.assign instead.\n",
            "\n"
          ],
          "name": "stderr"
        },
        {
          "output_type": "stream",
          "text": [
            "Epoch 1/20\n",
            "500/500 [==============================] - 16s 32ms/step - loss: 1.3061 - val_loss: 0.6006\n",
            "Epoch 2/20\n",
            "500/500 [==============================] - 16s 32ms/step - loss: 0.4842 - val_loss: 0.3795\n",
            "Epoch 3/20\n",
            "500/500 [==============================] - 16s 32ms/step - loss: 0.3093 - val_loss: 0.3186\n",
            "Epoch 4/20\n",
            "500/500 [==============================] - 16s 32ms/step - loss: 0.2748 - val_loss: 0.3131\n",
            "Epoch 5/20\n",
            "500/500 [==============================] - 16s 32ms/step - loss: 0.2595 - val_loss: 0.3392\n",
            "Epoch 6/20\n",
            "500/500 [==============================] - 16s 32ms/step - loss: 0.2496 - val_loss: 0.3575\n",
            "Epoch 7/20\n",
            "500/500 [==============================] - 16s 32ms/step - loss: 0.2408 - val_loss: 0.3686\n",
            "Epoch 8/20\n",
            "500/500 [==============================] - 16s 32ms/step - loss: 0.2349 - val_loss: 0.3259\n",
            "Epoch 9/20\n",
            "500/500 [==============================] - 16s 32ms/step - loss: 0.2309 - val_loss: 0.3346\n",
            "Epoch 10/20\n",
            "500/500 [==============================] - 16s 32ms/step - loss: 0.2253 - val_loss: 0.3349\n",
            "Epoch 11/20\n",
            "500/500 [==============================] - 16s 31ms/step - loss: 0.2233 - val_loss: 0.3578\n",
            "Epoch 12/20\n",
            "500/500 [==============================] - 16s 32ms/step - loss: 0.2212 - val_loss: 0.3447\n",
            "Epoch 13/20\n",
            "500/500 [==============================] - 16s 32ms/step - loss: 0.2169 - val_loss: 0.3326\n",
            "Epoch 14/20\n",
            "500/500 [==============================] - 16s 32ms/step - loss: 0.2139 - val_loss: 0.3664\n",
            "Epoch 15/20\n",
            "500/500 [==============================] - 16s 33ms/step - loss: 0.2131 - val_loss: 0.3186\n",
            "Epoch 16/20\n",
            "500/500 [==============================] - 16s 32ms/step - loss: 0.2087 - val_loss: 0.3519\n",
            "Epoch 17/20\n",
            "500/500 [==============================] - 16s 33ms/step - loss: 0.2091 - val_loss: 0.3437\n",
            "Epoch 18/20\n",
            "500/500 [==============================] - 16s 32ms/step - loss: 0.2058 - val_loss: 0.3451\n",
            "Epoch 19/20\n",
            "500/500 [==============================] - 16s 33ms/step - loss: 0.2045 - val_loss: 0.3487\n",
            "Epoch 20/20\n",
            "500/500 [==============================] - 16s 32ms/step - loss: 0.2036 - val_loss: 0.3236\n"
          ],
          "name": "stdout"
        }
      ]
    },
    {
      "cell_type": "markdown",
      "metadata": {
        "id": "T_WdGyN7VULB",
        "colab_type": "text"
      },
      "source": [
        "##막간을 이용한 케라스의 세 가지 모델 트레이닝법 리뷰\n",
        ".fit\n",
        ".fit_generator\n",
        ".train_on_batch\n",
        "\n",
        "all returns history obj\n",
        "\n",
        ": record of training loss values and metrics values at successive epochs, as well as validation loss values and validation metrics values (if applicable).\n",
        "\n",
        "fit:\n",
        "\n",
        "fit(x=None, y=None, batch_size=None, epochs=1, verbose=1, callbacks=None, validation_split=0.0, validation_data=None, shuffle=True, class_weight=None, sample_weight=None, initial_epoch=0, steps_per_epoch=None, validation_steps=None, validation_freq=1)\n",
        "- entire training set will be fit into RAM\n",
        "- provided data will be used as is -- no manipulation of it will be performed in between\n",
        "- no need moving batches of data in and out of RAM\n",
        "\n",
        "\n",
        "fit_generator:\n",
        "\n",
        "- when the data needs to be processed first\n",
        "- model.fit_generator(somefunction.flow(trainX, trainY, batch_size=stm ),\n",
        "\tvalidation_data=(testX, testY), steps_per_epoch = len(trainX) // stm,\n",
        "\tepochs=stme)\n",
        "- somefunction manipulates the data. ex) image manipulation\n",
        "- batch_size feeds stm만큼씩\n",
        "- steps_per_epoch : so this fit_generator actually takes a generator function i.e. infinite loop. why designed like this idk but therefore need something that will stop the somefunction. somefunction will run len(trainX)//stm times. and fit_generator will run stme times.\n",
        "\n",
        "\n",
        "train_on_batch\n",
        "\n",
        "train_on_batch(x, y, sample_weight=None, class_weight=None)\n",
        "- finr-grade control.\n",
        "- for training on one explicit batch of data\n",
        "- allows to control weight\n",
        "\n",
        "\n",
        "\n"
      ]
    },
    {
      "cell_type": "code",
      "metadata": {
        "id": "OQrMll1ZUQHZ",
        "colab_type": "code",
        "colab": {
          "base_uri": "https://localhost:8080/",
          "height": 281
        },
        "outputId": "d668bbe2-c68f-4faa-9d3a-0dc3955d0d54"
      },
      "source": [
        "import matplotlib.pyplot as plt\n",
        "\n",
        "loss = history.history['loss']\n",
        "val_loss = history.history['val_loss']\n",
        "\n",
        "epochs = range(1, len(loss)+1)\n",
        "\n",
        "plt.plot(epochs, loss, 'bo', label = 'Training Loss')\n",
        "plt.plot(epochs, val_loss, 'b', label = 'Validation Loss')\n",
        "plt.title('Training, Val Loss')\n",
        "plt.legend()\n",
        "plt.show()"
      ],
      "execution_count": 45,
      "outputs": [
        {
          "output_type": "display_data",
          "data": {
            "image/png": "[encoded data removed]",
            "text/plain": [
              "<Figure size 432x288 with 1 Axes>"
            ]
          },
          "metadata": {
            "tags": []
          }
        }
      ]
    },
    {
      "cell_type": "markdown",
      "metadata": {
        "id": "p5UG4af_ulCs",
        "colab_type": "text"
      },
      "source": [
        "## 순환 신경망 이용하기\n",
        "위의 완전 연결 네트워크는 시계열 데이터를 펼쳐놓았기에 시간개념 손실.\n",
        "\n",
        "인과관계와 순서를 중시하는 시퀀스를 사용해보자\n",
        "\n",
        "LSTM / GRU\n",
        "\n",
        "LSTM은 정교하지만 computationally expensive and complex.\n",
        "\n",
        "trying GRU"
      ]
    },
    {
      "cell_type": "code",
      "metadata": {
        "id": "V-tuBIb3u9bM",
        "colab_type": "code",
        "colab": {
          "base_uri": "https://localhost:8080/",
          "height": 1000
        },
        "outputId": "c96368bc-0067-4e8b-b532-fca087e0d1b1"
      },
      "source": [
        "from keras.models import Sequential\n",
        "from keras import layers\n",
        "from keras.optimizers import RMSprop\n",
        "\n",
        "model = Sequential()\n",
        "model.add(layers.GRU(32, input_shape = (None, float_data.shape[-1])))\n",
        "model.add(layers.Dense(1))\n",
        "\n",
        "model.compile(optimizer = RMSprop(), loss='mae')\n",
        "\n",
        "history = model.fit_generator(train_gen, steps_per_epoch = 500, epochs = 20, validation_data = val_gen, validation_steps = val_steps)\n",
        "\n",
        "\n",
        "loss = history.history['loss']\n",
        "val_loss = history.history['val_loss']\n",
        "\n",
        "epochs = range(1, len(loss)+1)\n",
        "\n",
        "plt.plot(epochs, loss, 'bo', label = 'Training Loss')\n",
        "plt.plot(epochs, val_loss, 'b', label = 'Validation Loss')\n",
        "plt.title('Training, Val Loss')\n",
        "plt.legend()\n",
        "plt.show()"
      ],
      "execution_count": 52,
      "outputs": [
        {
          "output_type": "stream",
          "text": [
            "W0829 05:01:07.426043 140528603277184 deprecation.py:323] From /usr/local/lib/python3.6/dist-packages/tensorflow/python/ops/math_grad.py:1250: add_dispatch_support.<locals>.wrapper (from tensorflow.python.ops.array_ops) is deprecated and will be removed in a future version.\n",
            "Instructions for updating:\n",
            "Use tf.where in 2.0, which has the same broadcast rule as np.where\n"
          ],
          "name": "stderr"
        },
        {
          "output_type": "stream",
          "text": [
            "Epoch 1/20\n",
            "500/500 [==============================] - 97s 195ms/step - loss: 0.3046 - val_loss: 0.2692\n",
            "Epoch 2/20\n",
            "500/500 [==============================] - 97s 193ms/step - loss: 0.2817 - val_loss: 0.2721\n",
            "Epoch 3/20\n",
            "500/500 [==============================] - 97s 195ms/step - loss: 0.2759 - val_loss: 0.2697\n",
            "Epoch 4/20\n",
            "500/500 [==============================] - 97s 195ms/step - loss: 0.2708 - val_loss: 0.2739\n",
            "Epoch 5/20\n",
            "500/500 [==============================] - 97s 194ms/step - loss: 0.2683 - val_loss: 0.2679\n",
            "Epoch 6/20\n",
            "500/500 [==============================] - 97s 193ms/step - loss: 0.2642 - val_loss: 0.2706\n",
            "Epoch 7/20\n",
            "500/500 [==============================] - 97s 193ms/step - loss: 0.2585 - val_loss: 0.2732\n",
            "Epoch 8/20\n",
            "500/500 [==============================] - 96s 192ms/step - loss: 0.2579 - val_loss: 0.2737\n",
            "Epoch 9/20\n",
            "500/500 [==============================] - 96s 192ms/step - loss: 0.2503 - val_loss: 0.2694\n",
            "Epoch 10/20\n",
            "500/500 [==============================] - 97s 194ms/step - loss: 0.2482 - val_loss: 0.2704\n",
            "Epoch 11/20\n",
            "500/500 [==============================] - 97s 193ms/step - loss: 0.2434 - val_loss: 0.2728\n",
            "Epoch 12/20\n",
            "500/500 [==============================] - 97s 193ms/step - loss: 0.2410 - val_loss: 0.2805\n",
            "Epoch 13/20\n",
            "500/500 [==============================] - 96s 193ms/step - loss: 0.2368 - val_loss: 0.2793\n",
            "Epoch 14/20\n",
            "500/500 [==============================] - 97s 195ms/step - loss: 0.2331 - val_loss: 0.2817\n",
            "Epoch 15/20\n",
            "500/500 [==============================] - 97s 195ms/step - loss: 0.2319 - val_loss: 0.2841\n",
            "Epoch 16/20\n",
            "500/500 [==============================] - 97s 194ms/step - loss: 0.2280 - val_loss: 0.2845\n",
            "Epoch 17/20\n",
            "500/500 [==============================] - 97s 194ms/step - loss: 0.2250 - val_loss: 0.2799\n",
            "Epoch 18/20\n",
            "500/500 [==============================] - 97s 194ms/step - loss: 0.2219 - val_loss: 0.2968\n",
            "Epoch 19/20\n",
            "500/500 [==============================] - 97s 193ms/step - loss: 0.2194 - val_loss: 0.2927\n",
            "Epoch 20/20\n",
            "500/500 [==============================] - 97s 193ms/step - loss: 0.2165 - val_loss: 0.2956\n"
          ],
          "name": "stdout"
        },
        {
          "output_type": "display_data",
          "data": {
            "image/png": "[encoded data removed]",
            "text/plain": [
              "<Figure size 432x288 with 1 Axes>"
            ]
          },
          "metadata": {
            "tags": []
          }
        }
      ]
    },
    {
      "cell_type": "code",
      "metadata": {
        "id": "E4eZRDG9waS6",
        "colab_type": "code",
        "colab": {}
      },
      "source": [
        ""
      ],
      "execution_count": 0,
      "outputs": []
    },
    {
      "cell_type": "code",
      "metadata": {
        "id": "IH_ALgRowaMC",
        "colab_type": "code",
        "colab": {}
      },
      "source": [
        "\n",
        "  "
      ],
      "execution_count": 0,
      "outputs": []
    },
    {
      "cell_type": "code",
      "metadata": {
        "id": "rl_efov0waGg",
        "colab_type": "code",
        "colab": {}
      },
      "source": [
        ""
      ],
      "execution_count": 0,
      "outputs": []
    },
    {
      "cell_type": "code",
      "metadata": {
        "id": "sgWtWMuzwaAG",
        "colab_type": "code",
        "colab": {}
      },
      "source": [
        ""
      ],
      "execution_count": 0,
      "outputs": []
    },
    {
      "cell_type": "code",
      "metadata": {
        "id": "_6yGLAdyUCR4",
        "colab_type": "code",
        "colab": {}
      },
      "source": [
        ""
      ],
      "execution_count": 0,
      "outputs": []
    }
  ]
}