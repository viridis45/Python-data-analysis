{
  "nbformat": 4,
  "nbformat_minor": 0,
  "metadata": {
    "colab": {
      "name": "20190828_6.텍스트와 시퀀스를 위한 딥러닝(1/3).ipynb",
      "version": "0.3.2",
      "provenance": [],
      "collapsed_sections": [],
      "include_colab_link": true
    },
    "kernelspec": {
      "name": "python3",
      "display_name": "Python 3"
    }
  },
  "cells": [
    {
      "cell_type": "markdown",
      "metadata": {
        "id": "view-in-github",
        "colab_type": "text"
      },
      "source": [
        "<a href=\"https://colab.research.google.com/github/viridis45/Python-data-analysis/blob/master/20190828_6_%ED%85%8D%EC%8A%A4%ED%8A%B8%EC%99%80_%EC%8B%9C%ED%80%80%EC%8A%A4%EB%A5%BC_%EC%9C%84%ED%95%9C_%EB%94%A5%EB%9F%AC%EB%8B%9D(1_3).ipynb\" target=\"_parent\"><img src=\"https://colab.research.google.com/assets/colab-badge.svg\" alt=\"Open In Colab\"/></a>"
      ]
    },
    {
      "cell_type": "markdown",
      "metadata": {
        "id": "4FO6BS40yQH7",
        "colab_type": "text"
      },
      "source": [
        "케라스 창시자에게 배우는 딥러닝 _ 프랑소와 숄레\n",
        "- NLP딥러닝이란 패턴 인식에 지나지 않는다\n",
        "- 텍스트를 수치로 변환 -- 벡터화 : (단어, 문자, n-그램) == 토큰\n",
        "- 원핫인코딩과 토큰임베딩\n",
        "f\n"
      ]
    },
    {
      "cell_type": "code",
      "metadata": {
        "id": "c8KJZk87-rQT",
        "colab_type": "code",
        "outputId": "fd17d503-9913-4b23-f235-5e8a087848f3",
        "colab": {
          "base_uri": "https://localhost:8080/",
          "height": 52
        }
      },
      "source": [
        "from keras.preprocessing.text import Tokenizer\n",
        "\n",
        "samples = [\"We ain't guiltless, Lord our witness.\", \"Pray forgiveness but don't turn around.\", \"Your kiss excites me, kiss indicts me time to leave this God forsaken town.\"]\n",
        "\n",
        "tokenizer = Tokenizer(num_words = 1000) #가장 빈도가 높은 1000개의 단어만\n",
        "tokenizer.fit_on_texts(samples) # 단어 인덱스 구축\n",
        "sequences = tokenizer.texts_to_sequences(samples) #문자열을 정수 인덱스로\n",
        "\n",
        "one_hot_results = tokenizer.texts_to_matrix(samples, mode='binary') # but why not to_categorical?\n",
        "\n",
        "word_index = tokenizer.word_index\n",
        "print('{:.2f} 개의 토큰을 찾았습니다'.format(len(word_index)))\n",
        "\n",
        "\n",
        "\n",
        "\n",
        "\n",
        "\n",
        "print(\"\\n=========해싱기법을 통한 원핫인코딩============\")\n",
        "\n",
        "dimensionality = 1000 # 1000개 이상의 단어가 있을 시 해싱 충돌\n",
        "max_length = 10\n",
        "\n",
        "results = np.zeros((len(samples), max_length, dimensionality)) #3차원공간을 만들고\n",
        "\n",
        "for i, sample in enumerate(samples): #샘플들에 정수태그를 부여하고\n",
        "  for j, word in list(enumerate(sample.split()))[:max_length]: # 샘플을 단어단위로 잘라내어 만든 리스트에서 천개만 뽑아낸다\n",
        "    index = abs(hash(word)) %dimensionality #랜덤한 정수 인덱스로\n",
        "    results[i,j,index] = 1 #원하는 위치의 0만 1로 변환\n",
        "    \n",
        "    \n",
        " "
      ],
      "execution_count": 0,
      "outputs": [
        {
          "output_type": "stream",
          "text": [
            "24.00 개의 토큰을 찾았습니다\n",
            "=====================\n"
          ],
          "name": "stdout"
        }
      ]
    },
    {
      "cell_type": "markdown",
      "metadata": {
        "id": "xm2in_K7BwlD",
        "colab_type": "text"
      },
      "source": [
        "단어 임베딩이란 무엇인가요\n",
        "- 원핫인코딩은 고차원 벡터를 리턴한다 (단어 총 갯수의 차원ㅋ)\n",
        "- 단어 임베딩은 데이터로부터 학습. 태깅이랑 비슷하다고 보면 됨\n",
        "- 학습시켜도 되고 미리 맹길어져있는것 가져와도 됨.\n",
        "- ex) accurate 와 exact사이의 관계를 반영\n",
        "\n",
        "\n",
        "임베딩 맹길기\n",
        "1. (samples, sequence_length)를 받아서 --> (samples, sequence_length, embedding_dimensionality) 를 변환\n",
        "2. 이것 또한 마찬가지로 weight가 랜덤하게 주어지고 역전파를 통해 업데이트됨\n",
        "3. 연습: 1만개 단어 -- 8차원 임베딩 -> 정수 시퀀스를(2D) 임베딩 시퀀스로(3D) --> 다시 2d로 바꾸어 dense 훈련"
      ]
    },
    {
      "cell_type": "code",
      "metadata": {
        "id": "ffV6HsR8-rOA",
        "colab_type": "code",
        "colab": {}
      },
      "source": [
        "from keras.datasets import imdb\n",
        "from keras import preprocessing\n",
        "\n",
        "max_features = 10000\n",
        "maxlen = 20\n",
        "\n",
        "(x_train, y_train), (x_test, y_test) = imdb.load_data(num_words = max_features) #만개단어만\n",
        "\n",
        "x_train = preprocessing.sequence.pad_sequences(x_train, maxlen = maxlen) # remember how you had to pad everything into same length? this is doing that automatically, how nice.\n",
        "x_test = preprocessing.sequence.pad_sequences(x_test, maxlen = maxlen)\n"
      ],
      "execution_count": 0,
      "outputs": []
    },
    {
      "cell_type": "code",
      "metadata": {
        "id": "0kheoTWr-rLf",
        "colab_type": "code",
        "outputId": "12cfef04-1bb3-4072-ba22-28789da0a64b",
        "colab": {
          "base_uri": "https://localhost:8080/",
          "height": 670
        }
      },
      "source": [
        "from keras.models import Sequential\n",
        "from keras.layers import Flatten, Dense, Embedding\n",
        "\n",
        "model = Sequential()\n",
        "model.add(Embedding(10000, 8, input_length = maxlen)) #have 10000words. randomly decided to have 8 dimensions. like how conv2d had input data, give the input length.\n",
        "model.add(Flatten()) # woah already?\n",
        "\n",
        "model.add(Dense(1, activation='sigmoid')) #why one tho\n",
        "model.compile(optimizer='rmsprop', loss='binary_crossentropy', metrics=['accuracy'])\n",
        "model.summary()\n",
        "\n",
        "history = model.fit(x_train, y_train, epochs=10, batch_size=32, validation_split=0.2)"
      ],
      "execution_count": 0,
      "outputs": [
        {
          "output_type": "stream",
          "text": [
            "_________________________________________________________________\n",
            "Layer (type)                 Output Shape              Param #   \n",
            "=================================================================\n",
            "embedding_4 (Embedding)      (None, 20, 8)             80000     \n",
            "_________________________________________________________________\n",
            "flatten_3 (Flatten)          (None, 160)               0         \n",
            "_________________________________________________________________\n",
            "dense_3 (Dense)              (None, 1)                 161       \n",
            "=================================================================\n",
            "Total params: 80,161\n",
            "Trainable params: 80,161\n",
            "Non-trainable params: 0\n",
            "_________________________________________________________________\n"
          ],
          "name": "stdout"
        },
        {
          "output_type": "stream",
          "text": [
            "W0828 02:43:20.512517 140430620292992 deprecation_wrapper.py:119] From /usr/local/lib/python3.6/dist-packages/keras/backend/tensorflow_backend.py:986: The name tf.assign_add is deprecated. Please use tf.compat.v1.assign_add instead.\n",
            "\n"
          ],
          "name": "stderr"
        },
        {
          "output_type": "stream",
          "text": [
            "Train on 20000 samples, validate on 5000 samples\n",
            "Epoch 1/10\n",
            "20000/20000 [==============================] - 2s 100us/step - loss: 0.6778 - acc: 0.5976 - val_loss: 0.6398 - val_acc: 0.6840\n",
            "Epoch 2/10\n",
            "20000/20000 [==============================] - 1s 59us/step - loss: 0.5612 - acc: 0.7441 - val_loss: 0.5374 - val_acc: 0.7270\n",
            "Epoch 3/10\n",
            "20000/20000 [==============================] - 1s 57us/step - loss: 0.4687 - acc: 0.7849 - val_loss: 0.5066 - val_acc: 0.7442\n",
            "Epoch 4/10\n",
            "20000/20000 [==============================] - 1s 59us/step - loss: 0.4231 - acc: 0.8071 - val_loss: 0.4941 - val_acc: 0.7552\n",
            "Epoch 5/10\n",
            "20000/20000 [==============================] - 1s 57us/step - loss: 0.3925 - acc: 0.8250 - val_loss: 0.4946 - val_acc: 0.7582\n",
            "Epoch 6/10\n",
            "20000/20000 [==============================] - 1s 57us/step - loss: 0.3681 - acc: 0.8381 - val_loss: 0.4972 - val_acc: 0.7540\n",
            "Epoch 7/10\n",
            "20000/20000 [==============================] - 1s 58us/step - loss: 0.3474 - acc: 0.8501 - val_loss: 0.5037 - val_acc: 0.7528\n",
            "Epoch 8/10\n",
            "20000/20000 [==============================] - 1s 58us/step - loss: 0.3290 - acc: 0.8604 - val_loss: 0.5098 - val_acc: 0.7526\n",
            "Epoch 9/10\n",
            "20000/20000 [==============================] - 1s 57us/step - loss: 0.3112 - acc: 0.8700 - val_loss: 0.5177 - val_acc: 0.7532\n",
            "Epoch 10/10\n",
            "20000/20000 [==============================] - 1s 58us/step - loss: 0.2950 - acc: 0.8782 - val_loss: 0.5271 - val_acc: 0.7492\n"
          ],
          "name": "stdout"
        }
      ]
    },
    {
      "cell_type": "code",
      "metadata": {
        "id": "wXGBp0-v-rI_",
        "colab_type": "code",
        "outputId": "1403c1a5-55ff-4fca-dc6d-943a56a2fc45",
        "colab": {
          "base_uri": "https://localhost:8080/",
          "height": 52
        }
      },
      "source": [
        "test_loss, test_acc = model.evaluate(x_test, y_test)\n",
        "test_acc\n",
        "\n",
        "# 하나의 Dense층을 훈련함 == 각 단어를 독립적으로 다룸\n",
        "# 시퀀스 전체 특성을 알게하려면 임베딩 층 위에 순환 층이나 1d합성곱 필요"
      ],
      "execution_count": 0,
      "outputs": [
        {
          "output_type": "stream",
          "text": [
            "25000/25000 [==============================] - 0s 17us/step\n"
          ],
          "name": "stdout"
        },
        {
          "output_type": "execute_result",
          "data": {
            "text/plain": [
              "0.75548"
            ]
          },
          "metadata": {
            "tags": []
          },
          "execution_count": 47
        }
      ]
    },
    {
      "cell_type": "code",
      "metadata": {
        "id": "_NuuO5ca-rEp",
        "colab_type": "code",
        "colab": {}
      },
      "source": [
        ""
      ],
      "execution_count": 0,
      "outputs": []
    },
    {
      "cell_type": "markdown",
      "metadata": {
        "id": "si2Ck_wdJAz3",
        "colab_type": "text"
      },
      "source": [
        "순환신경망, Recurrent Neural Network\n",
        "- 이전 학습내용을 기억하며 정보를 처리\n",
        "- 반복할 때 이전에 계산한 정보를 재사용함"
      ]
    },
    {
      "cell_type": "code",
      "metadata": {
        "id": "YZ8mWB8qpWGs",
        "colab_type": "code",
        "colab": {}
      },
      "source": [
        "# SimpleRNN 을 넘파이로 구현해보자\n",
        "\n",
        "import numpy as np\n",
        "\n",
        "timesteps = 100\n",
        "input_features = 32\n",
        "output_features = 64\n",
        "\n",
        "inputs = np.random.random((timesteps, input_features)) # 그냥 난수\n",
        "state_t = np.zeros((output_features, )) # 초기상태를 모두 0으로\n",
        "\n",
        "w = np.random.random((output_features, input_features)) #2차원 랜덤수 가중치\n",
        "u = np.random.random((output_features, output_features))\n",
        "b = np.random.random((output_features, )) #1차원 랜덤수 가중치\n",
        "\n",
        "successive_outputs = []\n",
        "for input_t in inputs: #taking the row\n",
        "  output_t = np.tanh(np.dot(w, input_t) + np.dot(u, state_t) + b) # state_t becomes the 'previous' value\n",
        "  successive_outputs.append(output_t)\n",
        "  \n",
        "  state_t = output_t #current output becomes next computation's 'previous' value\n",
        "  \n",
        "final_output_sequence = np.stack(successive_outputs, axis=0)"
      ],
      "execution_count": 0,
      "outputs": []
    },
    {
      "cell_type": "code",
      "metadata": {
        "id": "FEMTbPkGH7Tk",
        "colab_type": "code",
        "outputId": "2278e313-d14c-4818-f26e-6ba275534be0",
        "colab": {
          "base_uri": "https://localhost:8080/",
          "height": 210
        }
      },
      "source": [
        "#SimpleRNN_마지막 타임스텝의 출력만 받는 경우\n",
        "\n",
        "from keras.models import Sequential\n",
        "from keras.layers import Embedding, SimpleRNN\n",
        "model = Sequential()\n",
        "model.add(Embedding(10000, 32))\n",
        "model.add(SimpleRNN(32))\n",
        "model.summary()"
      ],
      "execution_count": 0,
      "outputs": [
        {
          "output_type": "stream",
          "text": [
            "_________________________________________________________________\n",
            "Layer (type)                 Output Shape              Param #   \n",
            "=================================================================\n",
            "embedding_5 (Embedding)      (None, None, 32)          320000    \n",
            "_________________________________________________________________\n",
            "simple_rnn_1 (SimpleRNN)     (None, 32)                2080      \n",
            "=================================================================\n",
            "Total params: 322,080\n",
            "Trainable params: 322,080\n",
            "Non-trainable params: 0\n",
            "_________________________________________________________________\n"
          ],
          "name": "stdout"
        }
      ]
    },
    {
      "cell_type": "code",
      "metadata": {
        "id": "RpaEKeWpH7WI",
        "colab_type": "code",
        "outputId": "f2bbc227-5754-4f52-9069-c8c9679c97c2",
        "colab": {
          "base_uri": "https://localhost:8080/",
          "height": 210
        }
      },
      "source": [
        "# SimpleRNN, 전체 상태 시퀀스만 반환하는 경우\n",
        "\n",
        "model = Sequential()\n",
        "model.add(Embedding(10000, 32))\n",
        "model.add(SimpleRNN (32, return_sequences = True))\n",
        "model.summary()\n",
        "\n",
        "# tbh i see no difference "
      ],
      "execution_count": 0,
      "outputs": [
        {
          "output_type": "stream",
          "text": [
            "_________________________________________________________________\n",
            "Layer (type)                 Output Shape              Param #   \n",
            "=================================================================\n",
            "embedding_6 (Embedding)      (None, None, 32)          320000    \n",
            "_________________________________________________________________\n",
            "simple_rnn_2 (SimpleRNN)     (None, None, 32)          2080      \n",
            "=================================================================\n",
            "Total params: 322,080\n",
            "Trainable params: 322,080\n",
            "Non-trainable params: 0\n",
            "_________________________________________________________________\n"
          ],
          "name": "stdout"
        }
      ]
    },
    {
      "cell_type": "code",
      "metadata": {
        "id": "P8ByLqJPH7Ya",
        "colab_type": "code",
        "outputId": "4989f589-b5a3-4dfc-a489-c351d5171ae5",
        "colab": {
          "base_uri": "https://localhost:8080/",
          "height": 316
        }
      },
      "source": [
        "# and multiple return seq for middle layers, and the final layer만 마지막 출력 반환\n",
        "\n",
        "model = Sequential()\n",
        "model.add(Embedding(10000, 32))\n",
        "model.add(SimpleRNN (32, return_sequences = True))\n",
        "model.add(SimpleRNN (32, return_sequences = True))\n",
        "model.add(SimpleRNN (32, return_sequences = True))\n",
        "model.add(SimpleRNN (32))\n",
        "model.summary()"
      ],
      "execution_count": 0,
      "outputs": [
        {
          "output_type": "stream",
          "text": [
            "_________________________________________________________________\n",
            "Layer (type)                 Output Shape              Param #   \n",
            "=================================================================\n",
            "embedding_7 (Embedding)      (None, None, 32)          320000    \n",
            "_________________________________________________________________\n",
            "simple_rnn_3 (SimpleRNN)     (None, None, 32)          2080      \n",
            "_________________________________________________________________\n",
            "simple_rnn_4 (SimpleRNN)     (None, None, 32)          2080      \n",
            "_________________________________________________________________\n",
            "simple_rnn_5 (SimpleRNN)     (None, None, 32)          2080      \n",
            "_________________________________________________________________\n",
            "simple_rnn_6 (SimpleRNN)     (None, 32)                2080      \n",
            "=================================================================\n",
            "Total params: 328,320\n",
            "Trainable params: 328,320\n",
            "Non-trainable params: 0\n",
            "_________________________________________________________________\n"
          ],
          "name": "stdout"
        }
      ]
    },
    {
      "cell_type": "code",
      "metadata": {
        "id": "h6O02XIeH7am",
        "colab_type": "code",
        "outputId": "76417a45-ec07-4122-a706-38e2f3ee2c66",
        "colab": {
          "base_uri": "https://localhost:8080/",
          "height": 474
        }
      },
      "source": [
        "# 문제에 적용해보기\n",
        "\n",
        "from keras.datasets import imdb\n",
        "from keras.preprocessing import sequence\n",
        "\n",
        "max_features = 10000\n",
        "maxlen = 500\n",
        "batch_size = 32\n",
        "\n",
        "print('loading data...')\n",
        "(input_train, y_train), (input_test, y_test) = imdb.load_data(num_words = max_features)\n",
        "print(len(input_train), 'train sequence')\n",
        "print(len(input_test), 'test sequence')\n",
        "\n",
        "\n",
        "input_train = sequence.pad_sequences(input_train, maxlen =  maxlen)\n",
        "input_test = sequence.pad_sequences(input_test, maxlen = maxlen)\n",
        "print('input_train size :', input_train.shape)\n",
        "print('input_test size :', input_test.shape)\n",
        "\n",
        "from keras.layers import Dense\n",
        "model = Sequential()\n",
        "model.add(Embedding(max_features, 32))\n",
        "model.add(SimpleRNN(32))\n",
        "model.add(Dense(1, activation = 'sigmoid'))\n",
        "\n",
        "model.compile(optimizer = 'rmsprop', loss = 'binary_crossentropy', metrics = ['acc'])\n",
        "history = model.fit(input_train, y_train, epochs = 10, batch_size=128, validation_split = 0.2)"
      ],
      "execution_count": 0,
      "outputs": [
        {
          "output_type": "stream",
          "text": [
            "loading data...\n",
            "25000 train sequence\n",
            "25000 test sequence\n",
            "input_train size : (25000, 500)\n",
            "input_test size : (25000, 500)\n",
            "Train on 20000 samples, validate on 5000 samples\n",
            "Epoch 1/10\n",
            "20000/20000 [==============================] - 19s 927us/step - loss: 0.6449 - acc: 0.6116 - val_loss: 0.4951 - val_acc: 0.7790\n",
            "Epoch 2/10\n",
            "20000/20000 [==============================] - 18s 888us/step - loss: 0.4118 - acc: 0.8226 - val_loss: 0.4730 - val_acc: 0.7724\n",
            "Epoch 3/10\n",
            "20000/20000 [==============================] - 17s 875us/step - loss: 0.2960 - acc: 0.8823 - val_loss: 0.3538 - val_acc: 0.8506\n",
            "Epoch 4/10\n",
            "20000/20000 [==============================] - 18s 879us/step - loss: 0.2166 - acc: 0.9168 - val_loss: 0.4070 - val_acc: 0.8404\n",
            "Epoch 5/10\n",
            "20000/20000 [==============================] - 18s 878us/step - loss: 0.1519 - acc: 0.9446 - val_loss: 0.4137 - val_acc: 0.8434\n",
            "Epoch 6/10\n",
            "20000/20000 [==============================] - 18s 876us/step - loss: 0.1014 - acc: 0.9647 - val_loss: 0.4244 - val_acc: 0.8530\n",
            "Epoch 7/10\n",
            "20000/20000 [==============================] - 18s 891us/step - loss: 0.0655 - acc: 0.9800 - val_loss: 0.4564 - val_acc: 0.8536\n",
            "Epoch 8/10\n",
            "20000/20000 [==============================] - 18s 893us/step - loss: 0.0420 - acc: 0.9867 - val_loss: 0.5759 - val_acc: 0.8126\n",
            "Epoch 9/10\n",
            "20000/20000 [==============================] - 18s 897us/step - loss: 0.0277 - acc: 0.9922 - val_loss: 0.5798 - val_acc: 0.8382\n",
            "Epoch 10/10\n",
            "20000/20000 [==============================] - 18s 889us/step - loss: 0.0231 - acc: 0.9934 - val_loss: 0.6632 - val_acc: 0.8138\n"
          ],
          "name": "stdout"
        }
      ]
    },
    {
      "cell_type": "code",
      "metadata": {
        "id": "dgJwmUcdH7c4",
        "colab_type": "code",
        "colab": {}
      },
      "source": [
        ""
      ],
      "execution_count": 0,
      "outputs": []
    },
    {
      "cell_type": "code",
      "metadata": {
        "id": "LPk-gLdCH7fL",
        "colab_type": "code",
        "colab": {}
      },
      "source": [
        ""
      ],
      "execution_count": 0,
      "outputs": []
    },
    {
      "cell_type": "code",
      "metadata": {
        "id": "I6rrRG8_H7hs",
        "colab_type": "code",
        "colab": {}
      },
      "source": [
        ""
      ],
      "execution_count": 0,
      "outputs": []
    },
    {
      "cell_type": "code",
      "metadata": {
        "id": "9Xvx7Oh6H7jr",
        "colab_type": "code",
        "colab": {}
      },
      "source": [
        ""
      ],
      "execution_count": 0,
      "outputs": []
    },
    {
      "cell_type": "code",
      "metadata": {
        "id": "asEaj-fKyLuk",
        "colab_type": "code",
        "outputId": "b8974814-22d3-4aee-c506-6efd78dbf619",
        "colab": {
          "base_uri": "https://localhost:8080/",
          "height": 228
        }
      },
      "source": [
        "from nltk import word_tokenize, pos_tag, ne_chunk\n",
        "import nltk\n",
        "nltk.download('punkt')\n",
        "nltk.download('averaged_perceptron_tagger')\n",
        "nltk.download('maxent_ne_chunker')\n",
        "nltk.download('words')\n"
      ],
      "execution_count": 0,
      "outputs": [
        {
          "output_type": "stream",
          "text": [
            "[nltk_data] Downloading package punkt to /root/nltk_data...\n",
            "[nltk_data]   Package punkt is already up-to-date!\n",
            "[nltk_data] Downloading package averaged_perceptron_tagger to\n",
            "[nltk_data]     /root/nltk_data...\n",
            "[nltk_data]   Package averaged_perceptron_tagger is already up-to-\n",
            "[nltk_data]       date!\n",
            "[nltk_data] Downloading package maxent_ne_chunker to\n",
            "[nltk_data]     /root/nltk_data...\n",
            "[nltk_data]   Package maxent_ne_chunker is already up-to-date!\n",
            "[nltk_data] Downloading package words to /root/nltk_data...\n",
            "[nltk_data]   Unzipping corpora/words.zip.\n"
          ],
          "name": "stdout"
        },
        {
          "output_type": "execute_result",
          "data": {
            "text/plain": [
              "True"
            ]
          },
          "metadata": {
            "tags": []
          },
          "execution_count": 13
        }
      ]
    },
    {
      "cell_type": "code",
      "metadata": {
        "id": "O6xHC5lr0sXd",
        "colab_type": "code",
        "outputId": "18c4d304-e289-487d-dfe6-2f322417cfa7",
        "colab": {
          "base_uri": "https://localhost:8080/",
          "height": 424
        }
      },
      "source": [
        "sentence = '홍길동이는 오늘 멀캠에 지각했습니다'\n",
        "pos_tag(word_tokenize(sentence))\n",
        "sentence2 = 'Gildong is studying at Mulcam in Seoul'\n",
        "sentence2 = pos_tag(word_tokenize(sentence2))\n",
        "\n",
        "ne_chunk(sentence2)"
      ],
      "execution_count": 0,
      "outputs": [
        {
          "output_type": "error",
          "ename": "TclError",
          "evalue": "ignored",
          "traceback": [
            "\u001b[0;31m---------------------------------------------------------------------------\u001b[0m",
            "\u001b[0;31mTclError\u001b[0m                                  Traceback (most recent call last)",
            "\u001b[0;32m/usr/local/lib/python3.6/dist-packages/IPython/core/formatters.py\u001b[0m in \u001b[0;36m__call__\u001b[0;34m(self, obj)\u001b[0m\n\u001b[1;32m    336\u001b[0m             \u001b[0mmethod\u001b[0m \u001b[0;34m=\u001b[0m \u001b[0mget_real_method\u001b[0m\u001b[0;34m(\u001b[0m\u001b[0mobj\u001b[0m\u001b[0;34m,\u001b[0m \u001b[0mself\u001b[0m\u001b[0;34m.\u001b[0m\u001b[0mprint_method\u001b[0m\u001b[0;34m)\u001b[0m\u001b[0;34m\u001b[0m\u001b[0;34m\u001b[0m\u001b[0m\n\u001b[1;32m    337\u001b[0m             \u001b[0;32mif\u001b[0m \u001b[0mmethod\u001b[0m \u001b[0;32mis\u001b[0m \u001b[0;32mnot\u001b[0m \u001b[0;32mNone\u001b[0m\u001b[0;34m:\u001b[0m\u001b[0;34m\u001b[0m\u001b[0;34m\u001b[0m\u001b[0m\n\u001b[0;32m--> 338\u001b[0;31m                 \u001b[0;32mreturn\u001b[0m \u001b[0mmethod\u001b[0m\u001b[0;34m(\u001b[0m\u001b[0;34m)\u001b[0m\u001b[0;34m\u001b[0m\u001b[0;34m\u001b[0m\u001b[0m\n\u001b[0m\u001b[1;32m    339\u001b[0m             \u001b[0;32mreturn\u001b[0m \u001b[0;32mNone\u001b[0m\u001b[0;34m\u001b[0m\u001b[0;34m\u001b[0m\u001b[0m\n\u001b[1;32m    340\u001b[0m         \u001b[0;32melse\u001b[0m\u001b[0;34m:\u001b[0m\u001b[0;34m\u001b[0m\u001b[0;34m\u001b[0m\u001b[0m\n",
            "\u001b[0;32m/usr/local/lib/python3.6/dist-packages/nltk/tree.py\u001b[0m in \u001b[0;36m_repr_png_\u001b[0;34m(self)\u001b[0m\n\u001b[1;32m    717\u001b[0m         \u001b[0;32mfrom\u001b[0m \u001b[0mnltk\u001b[0m\u001b[0;34m.\u001b[0m\u001b[0mdraw\u001b[0m\u001b[0;34m.\u001b[0m\u001b[0mutil\u001b[0m \u001b[0;32mimport\u001b[0m \u001b[0mCanvasFrame\u001b[0m\u001b[0;34m\u001b[0m\u001b[0;34m\u001b[0m\u001b[0m\n\u001b[1;32m    718\u001b[0m         \u001b[0;32mfrom\u001b[0m \u001b[0mnltk\u001b[0m\u001b[0;34m.\u001b[0m\u001b[0minternals\u001b[0m \u001b[0;32mimport\u001b[0m \u001b[0mfind_binary\u001b[0m\u001b[0;34m\u001b[0m\u001b[0;34m\u001b[0m\u001b[0m\n\u001b[0;32m--> 719\u001b[0;31m         \u001b[0m_canvas_frame\u001b[0m \u001b[0;34m=\u001b[0m \u001b[0mCanvasFrame\u001b[0m\u001b[0;34m(\u001b[0m\u001b[0;34m)\u001b[0m\u001b[0;34m\u001b[0m\u001b[0;34m\u001b[0m\u001b[0m\n\u001b[0m\u001b[1;32m    720\u001b[0m         \u001b[0mwidget\u001b[0m \u001b[0;34m=\u001b[0m \u001b[0mtree_to_treesegment\u001b[0m\u001b[0;34m(\u001b[0m\u001b[0m_canvas_frame\u001b[0m\u001b[0;34m.\u001b[0m\u001b[0mcanvas\u001b[0m\u001b[0;34m(\u001b[0m\u001b[0;34m)\u001b[0m\u001b[0;34m,\u001b[0m \u001b[0mself\u001b[0m\u001b[0;34m)\u001b[0m\u001b[0;34m\u001b[0m\u001b[0;34m\u001b[0m\u001b[0m\n\u001b[1;32m    721\u001b[0m         \u001b[0m_canvas_frame\u001b[0m\u001b[0;34m.\u001b[0m\u001b[0madd_widget\u001b[0m\u001b[0;34m(\u001b[0m\u001b[0mwidget\u001b[0m\u001b[0;34m)\u001b[0m\u001b[0;34m\u001b[0m\u001b[0;34m\u001b[0m\u001b[0m\n",
            "\u001b[0;32m/usr/local/lib/python3.6/dist-packages/nltk/draw/util.py\u001b[0m in \u001b[0;36m__init__\u001b[0;34m(self, parent, **kw)\u001b[0m\n\u001b[1;32m   1651\u001b[0m         \u001b[0;31m# If no parent was given, set up a top-level window.\u001b[0m\u001b[0;34m\u001b[0m\u001b[0;34m\u001b[0m\u001b[0;34m\u001b[0m\u001b[0m\n\u001b[1;32m   1652\u001b[0m         \u001b[0;32mif\u001b[0m \u001b[0mparent\u001b[0m \u001b[0;32mis\u001b[0m \u001b[0;32mNone\u001b[0m\u001b[0;34m:\u001b[0m\u001b[0;34m\u001b[0m\u001b[0;34m\u001b[0m\u001b[0m\n\u001b[0;32m-> 1653\u001b[0;31m             \u001b[0mself\u001b[0m\u001b[0;34m.\u001b[0m\u001b[0m_parent\u001b[0m \u001b[0;34m=\u001b[0m \u001b[0mTk\u001b[0m\u001b[0;34m(\u001b[0m\u001b[0;34m)\u001b[0m\u001b[0;34m\u001b[0m\u001b[0;34m\u001b[0m\u001b[0m\n\u001b[0m\u001b[1;32m   1654\u001b[0m             \u001b[0mself\u001b[0m\u001b[0;34m.\u001b[0m\u001b[0m_parent\u001b[0m\u001b[0;34m.\u001b[0m\u001b[0mtitle\u001b[0m\u001b[0;34m(\u001b[0m\u001b[0;34m'NLTK'\u001b[0m\u001b[0;34m)\u001b[0m\u001b[0;34m\u001b[0m\u001b[0;34m\u001b[0m\u001b[0m\n\u001b[1;32m   1655\u001b[0m             \u001b[0mself\u001b[0m\u001b[0;34m.\u001b[0m\u001b[0m_parent\u001b[0m\u001b[0;34m.\u001b[0m\u001b[0mbind\u001b[0m\u001b[0;34m(\u001b[0m\u001b[0;34m'<Control-p>'\u001b[0m\u001b[0;34m,\u001b[0m \u001b[0;32mlambda\u001b[0m \u001b[0me\u001b[0m\u001b[0;34m:\u001b[0m \u001b[0mself\u001b[0m\u001b[0;34m.\u001b[0m\u001b[0mprint_to_file\u001b[0m\u001b[0;34m(\u001b[0m\u001b[0;34m)\u001b[0m\u001b[0;34m)\u001b[0m\u001b[0;34m\u001b[0m\u001b[0;34m\u001b[0m\u001b[0m\n",
            "\u001b[0;32m/usr/lib/python3.6/tkinter/__init__.py\u001b[0m in \u001b[0;36m__init__\u001b[0;34m(self, screenName, baseName, className, useTk, sync, use)\u001b[0m\n\u001b[1;32m   2021\u001b[0m                 \u001b[0mbaseName\u001b[0m \u001b[0;34m=\u001b[0m \u001b[0mbaseName\u001b[0m \u001b[0;34m+\u001b[0m \u001b[0mext\u001b[0m\u001b[0;34m\u001b[0m\u001b[0;34m\u001b[0m\u001b[0m\n\u001b[1;32m   2022\u001b[0m         \u001b[0minteractive\u001b[0m \u001b[0;34m=\u001b[0m \u001b[0;36m0\u001b[0m\u001b[0;34m\u001b[0m\u001b[0;34m\u001b[0m\u001b[0m\n\u001b[0;32m-> 2023\u001b[0;31m         \u001b[0mself\u001b[0m\u001b[0;34m.\u001b[0m\u001b[0mtk\u001b[0m \u001b[0;34m=\u001b[0m \u001b[0m_tkinter\u001b[0m\u001b[0;34m.\u001b[0m\u001b[0mcreate\u001b[0m\u001b[0;34m(\u001b[0m\u001b[0mscreenName\u001b[0m\u001b[0;34m,\u001b[0m \u001b[0mbaseName\u001b[0m\u001b[0;34m,\u001b[0m \u001b[0mclassName\u001b[0m\u001b[0;34m,\u001b[0m \u001b[0minteractive\u001b[0m\u001b[0;34m,\u001b[0m \u001b[0mwantobjects\u001b[0m\u001b[0;34m,\u001b[0m \u001b[0museTk\u001b[0m\u001b[0;34m,\u001b[0m \u001b[0msync\u001b[0m\u001b[0;34m,\u001b[0m \u001b[0muse\u001b[0m\u001b[0;34m)\u001b[0m\u001b[0;34m\u001b[0m\u001b[0;34m\u001b[0m\u001b[0m\n\u001b[0m\u001b[1;32m   2024\u001b[0m         \u001b[0;32mif\u001b[0m \u001b[0museTk\u001b[0m\u001b[0;34m:\u001b[0m\u001b[0;34m\u001b[0m\u001b[0;34m\u001b[0m\u001b[0m\n\u001b[1;32m   2025\u001b[0m             \u001b[0mself\u001b[0m\u001b[0;34m.\u001b[0m\u001b[0m_loadtk\u001b[0m\u001b[0;34m(\u001b[0m\u001b[0;34m)\u001b[0m\u001b[0;34m\u001b[0m\u001b[0;34m\u001b[0m\u001b[0m\n",
            "\u001b[0;31mTclError\u001b[0m: no display name and no $DISPLAY environment variable"
          ]
        },
        {
          "output_type": "execute_result",
          "data": {
            "text/plain": [
              "Tree('S', [Tree('GPE', [('Gildong', 'NNP')]), ('is', 'VBZ'), ('studying', 'VBG'), ('at', 'IN'), Tree('ORGANIZATION', [('Mulcam', 'NNP')]), ('in', 'IN'), Tree('GPE', [('Seoul', 'NNP')])])"
            ]
          },
          "metadata": {
            "tags": []
          },
          "execution_count": 14
        }
      ]
    },
    {
      "cell_type": "code",
      "metadata": {
        "id": "9LZubf101Jfr",
        "colab_type": "code",
        "colab": {}
      },
      "source": [
        "from keras.datasets import reuters\n",
        "import numpy as np\n",
        "# save np.load\n",
        "np_load_old = np.load\n",
        "\n",
        "# modify the default parameters of np.load\n",
        "np.load = lambda *a,**k: np_load_old(*a, allow_pickle=True, **k)\n",
        "\n",
        "\n",
        "(xtrain, ytrain),(xtest, ytest) = reuters.load_data(num_words=None, test_split = 0.2)\n"
      ],
      "execution_count": 0,
      "outputs": []
    },
    {
      "cell_type": "code",
      "metadata": {
        "id": "fiBLKmUe40oe",
        "colab_type": "code",
        "outputId": "81f2bf04-382c-42ac-9986-03734a73a3a5",
        "colab": {
          "base_uri": "https://localhost:8080/",
          "height": 34
        }
      },
      "source": [
        "from keras.utils import to_categorical\n",
        "len(np.unique(ytrain)) # 태그가 46종류 있습니다\n"
      ],
      "execution_count": 0,
      "outputs": [
        {
          "output_type": "execute_result",
          "data": {
            "text/plain": [
              "46"
            ]
          },
          "metadata": {
            "tags": []
          },
          "execution_count": 34
        }
      ]
    }
  ]
}