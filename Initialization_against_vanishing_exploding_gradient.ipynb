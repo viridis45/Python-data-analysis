{
  "nbformat": 4,
  "nbformat_minor": 0,
  "metadata": {
    "colab": {
      "name": "Initialization against vanishing/exploding gradient.ipynb",
      "provenance": [],
      "collapsed_sections": [
        "8QKm6CaCau48"
      ],
      "toc_visible": true,
      "include_colab_link": true
    },
    "kernelspec": {
      "name": "python3",
      "display_name": "Python 3"
    }
  },
  "cells": [
    {
      "cell_type": "markdown",
      "metadata": {
        "id": "view-in-github",
        "colab_type": "text"
      },
      "source": [
        "<a href=\"https://colab.research.google.com/github/viridis45/Python-data-analysis/blob/master/Initialization_against_vanishing_exploding_gradient.ipynb\" target=\"_parent\"><img src=\"https://colab.research.google.com/assets/colab-badge.svg\" alt=\"Open In Colab\"/></a>"
      ]
    },
    {
      "cell_type": "markdown",
      "metadata": {
        "id": "bUJGIUsuStqF",
        "colab_type": "text"
      },
      "source": [
        "# 뉴럴넷에서의 변수 초기화\n",
        "starting with 10 layers with 500 nodes\n",
        "\n",
        "1. small random number, avg = 0, stdev = 0.1, gausian"
      ]
    },
    {
      "cell_type": "code",
      "metadata": {
        "id": "gsfZDOF2TY0n",
        "colab_type": "code",
        "colab": {}
      },
      "source": [
        "import random\n",
        "import numpy as np\n",
        "import tensorflow as tf\n",
        "import matplotlib.pyplot as plt\n",
        "\n",
        "\n",
        "#testing this weight : w = 0.01*np.random.randn(inp, outp)\n",
        "np.random.seed(0)\n",
        "D = np.random.randn(1000, 500) #1000x500 2차원 layer를 만들고\n",
        "hidden_layer_sizes = [500]*10"
      ],
      "execution_count": 0,
      "outputs": []
    },
    {
      "cell_type": "code",
      "metadata": {
        "id": "Ps_jE9f4UU8k",
        "colab_type": "code",
        "outputId": "e9f53175-7e9f-4749-9de1-0a46b52a6524",
        "colab": {
          "base_uri": "https://localhost:8080/",
          "height": 207
        }
      },
      "source": [
        "# 첫 입력계층에서 wx곱하고 해당 노드값이 weight와 곱해져 전달하는 과정을 만듦으로써 weight가 어떻게 변화하는지 확인해보자\n",
        "\n",
        "Hs = {}\n",
        "\n",
        "for i in range(len(hidden_layer_sizes)):\n",
        "  X = D if i == 0 else Hs[i-1]\n",
        " # print(X.shape[1])\n",
        "  fan_in = X.shape[1]\n",
        "  fan_out = hidden_layer_sizes[i]\n",
        "  w = np.random.randn(fan_in, fan_out)*0.01\n",
        "  H = np.dot(X,w)\n",
        "  H = np.tanh(H)\n",
        "  Hs[i] = H\n",
        "\n",
        "  \n",
        "print( '입력계층 평균 %f and 표준편차 %f' %(np.mean(D), np.std(D)) )\n",
        "\n",
        "layer_means = [np.mean(H) for i,H in Hs.items()] #\n",
        "layer_std = [np.std(H) for i,H in Hs.items()]\n",
        "\n",
        "\n",
        "for i,H in Hs.items():\n",
        "  print('hidden layer %d average %f and stdev %f' %(i+1, layer_means[i], layer_std[i]))\n",
        "  \n",
        "  \n",
        "# as shown, too many layers kills it\n",
        "# effective only for smol networks."
      ],
      "execution_count": 0,
      "outputs": [
        {
          "output_type": "stream",
          "text": [
            "입력계층 평균 0.002633 and 표준편차 0.999400\n",
            "hidden layer 1 average 0.000462 and stdev 0.213176\n",
            "hidden layer 2 average -0.000005 and stdev 0.047407\n",
            "hidden layer 3 average -0.000007 and stdev 0.010610\n",
            "hidden layer 4 average 0.000001 and stdev 0.002370\n",
            "hidden layer 5 average -0.000000 and stdev 0.000532\n",
            "hidden layer 6 average -0.000000 and stdev 0.000119\n",
            "hidden layer 7 average 0.000000 and stdev 0.000027\n",
            "hidden layer 8 average -0.000000 and stdev 0.000006\n",
            "hidden layer 9 average -0.000000 and stdev 0.000001\n",
            "hidden layer 10 average -0.000000 and stdev 0.000000\n"
          ],
          "name": "stdout"
        }
      ]
    },
    {
      "cell_type": "code",
      "metadata": {
        "id": "8OQRbiJ6Sshi",
        "colab_type": "code",
        "outputId": "c6e057ae-8b46-494e-d438-859dda68c631",
        "colab": {
          "base_uri": "https://localhost:8080/",
          "height": 568
        }
      },
      "source": [
        "plt.figure()\n",
        "plt.subplot(211)\n",
        "plt.plot(Hs.keys(), layer_means, 'ob-')\n",
        "plt.xlabel('layer')\n",
        "plt.title('layer_mean')\n",
        "\n",
        "plt.figure()\n",
        "plt.subplot(212)\n",
        "plt.plot(Hs.keys(), layer_std, 'ob-')\n",
        "plt.xlabel('layer')\n",
        "plt.title('layer_std')\n",
        "\n",
        "plt.figure(figsize=(15,3))\n",
        "for i, H in Hs.items():\n",
        "  plt.subplot(1, len(Hs), i+1)\n",
        "  plt.hist(H.ravel(), 30, range=(-1,1))\n",
        "  plt.xlabel('layer'+str(i+1))\n",
        "plt.show()\n",
        "\n"
      ],
      "execution_count": 0,
      "outputs": [
        {
          "output_type": "display_data",
          "data": {
            "image/png": "[encoded data removed]",
            "text/plain": [
              "<Figure size 432x288 with 1 Axes>"
            ]
          },
          "metadata": {
            "tags": []
          }
        },
        {
          "output_type": "display_data",
          "data": {
            "image/png": "[encoded data removed]",
            "text/plain": [
              "<Figure size 432x288 with 1 Axes>"
            ]
          },
          "metadata": {
            "tags": []
          }
        },
        {
          "output_type": "display_data",
          "data": {
            "image/png": "[encoded data removed]",
            "text/plain": [
              "<Figure size 1080x216 with 10 Axes>"
            ]
          },
          "metadata": {
            "tags": []
          }
        }
      ]
    },
    {
      "cell_type": "markdown",
      "metadata": {
        "id": "dGlmtwFGaMGO",
        "colab_type": "text"
      },
      "source": [
        "## Xavier Initialization [Glorot et al, 2010]"
      ]
    },
    {
      "cell_type": "code",
      "metadata": {
        "id": "rMA-TVnYZttE",
        "colab_type": "code",
        "outputId": "7ed4edcd-e8b9-4076-f870-f072f2b9e328",
        "colab": {
          "base_uri": "https://localhost:8080/",
          "height": 758
        }
      },
      "source": [
        "for i in range(len(hidden_layer_sizes)):\n",
        "  X = D if i == 0 else Hs[i-1]\n",
        " # print(X.shape[1])\n",
        "  fan_in = X.shape[1]\n",
        "  fan_out = hidden_layer_sizes[i]\n",
        "  w = np.random.randn(fan_in, fan_out)/np.sqrt(fan_in) ####################altering this buddy only since weight\n",
        "  H = np.dot(X,w)\n",
        "  H = np.tanh(H)\n",
        "  Hs[i] = H\n",
        "  \n",
        "  \n",
        "print( '입력계층 평균 %f and 표준편차 %f' %(np.mean(D), np.std(D)) )\n",
        "\n",
        "layer_means = [np.mean(H) for i,H in Hs.items()] #\n",
        "layer_std = [np.std(H) for i,H in Hs.items()]\n",
        "\n",
        "\n",
        "for i,H in Hs.items():\n",
        "  print('hidden layer %d average %f and stdev %f' %(i+1, layer_means[i], layer_std[i]))\n",
        "  \n",
        "  \n",
        "  \n",
        "plt.figure()\n",
        "plt.subplot(211)\n",
        "plt.plot(Hs.keys(), layer_means, 'ob-')\n",
        "plt.xlabel('layer')\n",
        "plt.title('layer_mean')\n",
        "\n",
        "plt.figure()\n",
        "plt.subplot(212)\n",
        "plt.plot(Hs.keys(), layer_std, 'ob-')\n",
        "plt.xlabel('layer')\n",
        "plt.title('layer_std')\n",
        "\n",
        "plt.figure(figsize=(15,3))\n",
        "for i, H in Hs.items():\n",
        "  plt.subplot(1, len(Hs), i+1)\n",
        "  plt.hist(H.ravel(), 30, range=(-1,1))\n",
        "  plt.xlabel('layer'+str(i+1))\n",
        "plt.show()\n",
        "\n"
      ],
      "execution_count": 0,
      "outputs": [
        {
          "output_type": "stream",
          "text": [
            "입력계층 평균 0.002633 and 표준편차 0.999400\n",
            "hidden layer 1 average -0.000401 and stdev 0.626918\n",
            "hidden layer 2 average 0.000084 and stdev 0.486770\n",
            "hidden layer 3 average 0.000441 and stdev 0.408986\n",
            "hidden layer 4 average 0.000064 and stdev 0.357355\n",
            "hidden layer 5 average 0.000182 and stdev 0.321845\n",
            "hidden layer 6 average -0.000659 and stdev 0.294276\n",
            "hidden layer 7 average 0.000043 and stdev 0.271892\n",
            "hidden layer 8 average -0.000195 and stdev 0.254005\n",
            "hidden layer 9 average 0.000354 and stdev 0.237914\n",
            "hidden layer 10 average -0.000143 and stdev 0.225586\n"
          ],
          "name": "stdout"
        },
        {
          "output_type": "display_data",
          "data": {
            "image/png": "[encoded data removed]",
            "text/plain": [
              "<Figure size 432x288 with 1 Axes>"
            ]
          },
          "metadata": {
            "tags": []
          }
        },
        {
          "output_type": "display_data",
          "data": {
            "image/png": "[encoded data removed]",
            "text/plain": [
              "<Figure size 432x288 with 1 Axes>"
            ]
          },
          "metadata": {
            "tags": []
          }
        },
        {
          "output_type": "display_data",
          "data": {
            "image/png": "[encoded data removed]",
            "text/plain": [
              "<Figure size 1080x216 with 10 Axes>"
            ]
          },
          "metadata": {
            "tags": []
          }
        }
      ]
    },
    {
      "cell_type": "markdown",
      "metadata": {
        "id": "Kbgjk8R3oDMe",
        "colab_type": "text"
      },
      "source": [
        "### applying it on a larger dataset"
      ]
    },
    {
      "cell_type": "code",
      "metadata": {
        "id": "w_EHjBwKl0GB",
        "colab_type": "code",
        "outputId": "7cb420cc-a885-4e46-c5c3-63d82e8e1bbb",
        "colab": {
          "base_uri": "https://localhost:8080/",
          "height": 538
        }
      },
      "source": [
        "from tensorflow.examples.tutorials.mnist import input_data \n",
        "mnist=input_data.read_data_sets(\"MNIST_data/\", one_hot=True)"
      ],
      "execution_count": 0,
      "outputs": [
        {
          "output_type": "stream",
          "text": [
            "W0806 04:26:31.125772 140685694543744 deprecation.py:323] From <ipython-input-50-0c7f7bbf8f0d>:2: read_data_sets (from tensorflow.contrib.learn.python.learn.datasets.mnist) is deprecated and will be removed in a future version.\n",
            "Instructions for updating:\n",
            "Please use alternatives such as official/mnist/dataset.py from tensorflow/models.\n",
            "W0806 04:26:31.128110 140685694543744 deprecation.py:323] From /usr/local/lib/python3.6/dist-packages/tensorflow/contrib/learn/python/learn/datasets/mnist.py:260: maybe_download (from tensorflow.contrib.learn.python.learn.datasets.base) is deprecated and will be removed in a future version.\n",
            "Instructions for updating:\n",
            "Please write your own downloading logic.\n",
            "W0806 04:26:31.131329 140685694543744 deprecation.py:323] From /usr/local/lib/python3.6/dist-packages/tensorflow/contrib/learn/python/learn/datasets/base.py:252: _internal_retry.<locals>.wrap.<locals>.wrapped_fn (from tensorflow.contrib.learn.python.learn.datasets.base) is deprecated and will be removed in a future version.\n",
            "Instructions for updating:\n",
            "Please use urllib or similar directly.\n",
            "W0806 04:26:31.442108 140685694543744 deprecation.py:323] From /usr/local/lib/python3.6/dist-packages/tensorflow/contrib/learn/python/learn/datasets/mnist.py:262: extract_images (from tensorflow.contrib.learn.python.learn.datasets.mnist) is deprecated and will be removed in a future version.\n",
            "Instructions for updating:\n",
            "Please use tf.data to implement this functionality.\n"
          ],
          "name": "stderr"
        },
        {
          "output_type": "stream",
          "text": [
            "Successfully downloaded train-images-idx3-ubyte.gz 9912422 bytes.\n",
            "Extracting MNIST_data/train-images-idx3-ubyte.gz\n"
          ],
          "name": "stdout"
        },
        {
          "output_type": "stream",
          "text": [
            "W0806 04:26:31.826692 140685694543744 deprecation.py:323] From /usr/local/lib/python3.6/dist-packages/tensorflow/contrib/learn/python/learn/datasets/mnist.py:267: extract_labels (from tensorflow.contrib.learn.python.learn.datasets.mnist) is deprecated and will be removed in a future version.\n",
            "Instructions for updating:\n",
            "Please use tf.data to implement this functionality.\n",
            "W0806 04:26:31.831556 140685694543744 deprecation.py:323] From /usr/local/lib/python3.6/dist-packages/tensorflow/contrib/learn/python/learn/datasets/mnist.py:110: dense_to_one_hot (from tensorflow.contrib.learn.python.learn.datasets.mnist) is deprecated and will be removed in a future version.\n",
            "Instructions for updating:\n",
            "Please use tf.one_hot on tensors.\n"
          ],
          "name": "stderr"
        },
        {
          "output_type": "stream",
          "text": [
            "Successfully downloaded train-labels-idx1-ubyte.gz 28881 bytes.\n",
            "Extracting MNIST_data/train-labels-idx1-ubyte.gz\n",
            "Successfully downloaded t10k-images-idx3-ubyte.gz 1648877 bytes.\n",
            "Extracting MNIST_data/t10k-images-idx3-ubyte.gz\n"
          ],
          "name": "stdout"
        },
        {
          "output_type": "stream",
          "text": [
            "W0806 04:26:32.180883 140685694543744 deprecation.py:323] From /usr/local/lib/python3.6/dist-packages/tensorflow/contrib/learn/python/learn/datasets/mnist.py:290: DataSet.__init__ (from tensorflow.contrib.learn.python.learn.datasets.mnist) is deprecated and will be removed in a future version.\n",
            "Instructions for updating:\n",
            "Please use alternatives such as official/mnist/dataset.py from tensorflow/models.\n"
          ],
          "name": "stderr"
        },
        {
          "output_type": "stream",
          "text": [
            "Successfully downloaded t10k-labels-idx1-ubyte.gz 4542 bytes.\n",
            "Extracting MNIST_data/t10k-labels-idx1-ubyte.gz\n"
          ],
          "name": "stdout"
        }
      ]
    },
    {
      "cell_type": "code",
      "metadata": {
        "id": "Q1hc1LnAmCKC",
        "colab_type": "code",
        "colab": {}
      },
      "source": [
        "tf.reset_default_graph()\n",
        "\n",
        "learning_rate = 0.001\n",
        "training_epochs = 15\n",
        "batch_size = 100\n",
        "\n",
        "keep_prob = tf.placeholder(tf.float32)\n",
        "x = tf.placeholder(tf.float32, [None, 784])\n",
        "y = tf.placeholder(tf.float32, [None, 10])\n",
        "w1 = tf.get_variable('w1', shape=[784,256], initializer = tf.contrib.layers.xavier_initializer())\n",
        "b1 = tf.Variable(tf.random_normal([256]))\n",
        "L1 = tf.nn.relu(tf.matmul(x,w1)+b1)\n",
        "                \n",
        "w2 = tf.get_variable('w2', shape=[256,256], initializer = tf.contrib.layers.xavier_initializer())\n",
        "b2 = tf.Variable(tf.random_normal([256]))\n",
        "L2 = tf.nn.relu(tf.matmul(L1,w2)+b2)\n",
        "                \n",
        "w3 = tf.get_variable('w3', shape=[256,10], initializer = tf.contrib.layers.xavier_initializer())\n",
        "b3 = tf.Variable(tf.random_normal([10]))\n",
        "hf = tf.nn.relu(tf.matmul(L2,w3)+b3)\n",
        "\n",
        "\n",
        "cost = tf.reduce_mean(tf.nn.softmax_cross_entropy_with_logits(logits=hf, labels=y))\n",
        "train = tf.train.AdamOptimizer(learning_rate = learning_rate).minimize(cost)"
      ],
      "execution_count": 0,
      "outputs": []
    },
    {
      "cell_type": "code",
      "metadata": {
        "id": "HCGe6Vukm0kl",
        "colab_type": "code",
        "outputId": "0442d6f9-0e8e-4f16-89a5-88d17953f4b5",
        "colab": {
          "base_uri": "https://localhost:8080/",
          "height": 294
        }
      },
      "source": [
        "\n",
        "sess = tf.Session()\n",
        "sess.run(tf.global_variables_initializer())\n",
        "for epoch in range(training_epochs):\n",
        "  avg_cost = 0\n",
        "  total_batch = int(mnist.train.num_examples / batch_size)\n",
        "  for i in range(total_batch):\n",
        "    batchxs, batchys = mnist.train.next_batch(batch_size)\n",
        "    myfeed = {x:batchxs, y:batchys}\n",
        "    cv, _ = sess.run( [cost, train], feed_dict=myfeed)\n",
        "    avg_cost += cv/total_batch\n",
        "    \n",
        "  print('cost:','{:.9f}'.format(avg_cost))\n",
        "  \n",
        "c_pre = tf.equal(tf.argmax(hf,1), tf.argmax(y,1))\n",
        "acc = tf.reduce_mean(tf.cast(c_pre, tf.float32))\n",
        "print('acc:', sess.run(acc, feed_dict={x:mnist.test.images, y:mnist.test.labels}))\n"
      ],
      "execution_count": 0,
      "outputs": [
        {
          "output_type": "stream",
          "text": [
            "cost: 1.523965202\n",
            "cost: 1.444389411\n",
            "cost: 1.425204574\n",
            "cost: 1.413849445\n",
            "cost: 1.406109656\n",
            "cost: 1.401762556\n",
            "cost: 1.397112741\n",
            "cost: 1.394119264\n",
            "cost: 1.392598011\n",
            "cost: 1.391229284\n",
            "cost: 1.389465691\n",
            "cost: 1.391010012\n",
            "cost: 1.388931809\n",
            "cost: 1.301762486\n",
            "cost: 1.174218876\n",
            "acc: 0.5726\n"
          ],
          "name": "stdout"
        }
      ]
    },
    {
      "cell_type": "code",
      "metadata": {
        "id": "sZHoEouLPnR7",
        "colab_type": "code",
        "colab": {}
      },
      "source": [
        "tf.reset_default_graph()\n",
        "\n",
        "learning_rate = 0.001\n",
        "training_epochs = 15\n",
        "batch_size = 100\n",
        "\n",
        "keep_prob = tf.placeholder(tf.float32)\n",
        "x = tf.placeholder(tf.float32, [None, 784])\n",
        "y = tf.placeholder(tf.float32, [None, 10])\n",
        "w1 = tf.get_variable('w1', shape=[784,256], initializer = tf.contrib.layers.xavier_initializer())\n",
        "b1 = tf.Variable(tf.random_normal([256]))\n",
        "L1 = tf.nn.relu(tf.matmul(x,w1)+b1)\n",
        "L1 = tf.nn.dropout(L1, keep_prob=keep_prob)\n",
        "                \n",
        "w2 = tf.get_variable('w2', shape=[256,256], initializer = tf.contrib.layers.xavier_initializer())\n",
        "b2 = tf.Variable(tf.random_normal([256]))\n",
        "L2 = tf.nn.relu(tf.matmul(L1,w2)+b2)\n",
        "L2 = tf.nn.dropout(L1, keep_prob=keep_prob)\n",
        "                \n",
        "w3 = tf.get_variable('w3', shape=[256,10], initializer = tf.contrib.layers.xavier_initializer())\n",
        "b3 = tf.Variable(tf.random_normal([10]))\n",
        "hf = tf.nn.relu(tf.matmul(L2,w3)+b3)\n",
        "\n",
        "\n",
        "cost = tf.reduce_mean(tf.nn.softmax_cross_entropy_with_logits(logits=hf, labels=y))\n",
        "train = tf.train.AdamOptimizer(learning_rate = learning_rate).minimize(cost)\n",
        "\n",
        "\n",
        "\n",
        "\n",
        "sess = tf.Session()\n",
        "sess.run(tf.global_variables_initializer())\n",
        "for epoch in range(training_epochs):\n",
        "  avg_cost = 0\n",
        "  total_batch = int(mnist.train.num_examples / batch_size)\n",
        "  for i in range(total_batch):\n",
        "    batchxs, batchys = mnist.train.next_batch(batch_size)\n",
        "    myfeed = {x:batchx, y:batchys, keep_prob:0.7}\n",
        "    cv, _ = sess.run( [cost, train], feed_dict=myfeed)\n",
        "    avg_cost += cv/total_batch\n",
        "    \n",
        "  print('cost:','{:.9f}'.format(avg_cost))\n",
        "  \n",
        "c_pre = tf.equal(tf.argmax(hf,1), tf.argmax(y,1))\n",
        "acc = tf.reduce_mean(tf.cast(c_pre, tf.float32))\n",
        "print('acc:', sess.run(acc, feed_dict={x:mnist.test.images, y:mnist.test.labels, keep_prob:1}))"
      ],
      "execution_count": 0,
      "outputs": []
    },
    {
      "cell_type": "code",
      "metadata": {
        "id": "XV1PNm8oPnNs",
        "colab_type": "code",
        "colab": {}
      },
      "source": [
        ""
      ],
      "execution_count": 0,
      "outputs": []
    },
    {
      "cell_type": "markdown",
      "metadata": {
        "id": "yATkeGxEL_ox",
        "colab_type": "text"
      },
      "source": [
        "### adding layers and nodes"
      ]
    },
    {
      "cell_type": "code",
      "metadata": {
        "id": "jrEL8RM2MB4w",
        "colab_type": "code",
        "outputId": "2e19082c-c032-4b2f-a093-4f24c054151a",
        "colab": {
          "base_uri": "https://localhost:8080/",
          "height": 365
        }
      },
      "source": [
        "tf.reset_default_graph() #그래프에 있는 모든 텐서를 초기화\n",
        "x=tf.placeholder(tf.float32, [None,784])\n",
        "y=tf.placeholder(tf.float32, [None,10])\n",
        "\n",
        "keep_prob=tf.placeholder(tf.float32)\n",
        "\n",
        "w1=tf.get_variable(\"w1\", shape=[784,512],initializer=tf.contrib.layers.xavier_initializer())\n",
        "b1=tf.Variable(tf.random_normal([512]))\n",
        "L1=tf.nn.relu(tf.matmul(x,w1)+b1)\n",
        "L1=tf.nn.dropout(L1, keep_prob=keep_prob)\n",
        "\n",
        "w2=tf.get_variable(\"w2\", shape=[512,512],initializer=tf.contrib.layers.xavier_initializer())\n",
        "b2=tf.Variable(tf.random_normal([512]))\n",
        "L2=tf.nn.relu(tf.matmul(L1,w2)+b2)\n",
        "L2=tf.nn.dropout(L2, keep_prob=keep_prob)\n",
        "\n",
        "\n",
        "w3=tf.get_variable(\"w3\", shape=[512,512],initializer=tf.contrib.layers.xavier_initializer())\n",
        "b3=tf.Variable(tf.random_normal([512]))\n",
        "L3=tf.nn.relu(tf.matmul(L2,w3)+b3)\n",
        "L3=tf.nn.dropout(L3, keep_prob=keep_prob)\n",
        "\n",
        "\n",
        "w4=tf.get_variable(\"w4\", shape=[512,512],initializer=tf.contrib.layers.xavier_initializer())\n",
        "b4=tf.Variable(tf.random_normal([512]))\n",
        "L4=tf.nn.relu(tf.matmul(L3,w4)+b4)\n",
        "L4=tf.nn.dropout(L4, keep_prob=keep_prob)\n",
        "\n",
        "\n",
        "w5=tf.get_variable(\"w5\", shape=[512,10],initializer=tf.contrib.layers.xavier_initializer())\n",
        "b5=tf.Variable(tf.random_normal([10]))\n",
        "hf=tf.matmul(L4,w5)+b5\n",
        "\n",
        "cost=tf.reduce_mean(tf.nn.softmax_cross_entropy_with_logits\n",
        "               (logits=hf, labels=y))\n",
        "train=tf.train.AdamOptimizer(learning_rate=learning_rate).minimize(cost)\n",
        "\n",
        "sess=tf.Session()\n",
        "sess.run(tf.global_variables_initializer())\n",
        "for epoch in range(training_epochs):\n",
        "    avg_cost=0\n",
        "    total_batch=int(mnist.train.num_examples/batch_size)\n",
        "    for i in range(total_batch):\n",
        "        batchxs,batchys=mnist.train.next_batch(batch_size)\n",
        "        myfeed={x:batchxs, y:batchys, keep_prob:0.7}\n",
        "        cv,_=sess.run([cost, train], feed_dict=myfeed)\n",
        "        avg_cost+=cv/total_batch\n",
        "    print('cost:','{:.9f}'.format(avg_cost))\n",
        "\n",
        "c_pre=tf.equal(tf.argmax(hf, 1), tf.argmax(y,1))\n",
        "acc=tf.reduce_mean(tf.cast(c_pre, tf.float32))\n",
        "print('acc:', sess.run(acc, feed_dict=\n",
        "                       {x:mnist.test.images, \n",
        "                        y:mnist.test.labels,\n",
        "                       keep_prob:1}))\n"
      ],
      "execution_count": 0,
      "outputs": [
        {
          "output_type": "stream",
          "text": [
            "W0806 04:29:41.620149 140685694543744 deprecation.py:506] From <ipython-input-54-72839f2b3ed2>:10: calling dropout (from tensorflow.python.ops.nn_ops) with keep_prob is deprecated and will be removed in a future version.\n",
            "Instructions for updating:\n",
            "Please use `rate` instead of `keep_prob`. Rate should be set to `rate = 1 - keep_prob`.\n"
          ],
          "name": "stderr"
        },
        {
          "output_type": "stream",
          "text": [
            "cost: 0.471522972\n",
            "cost: 0.174829402\n",
            "cost: 0.132343483\n",
            "cost: 0.109694483\n",
            "cost: 0.094156396\n",
            "cost: 0.082459497\n",
            "cost: 0.074660015\n",
            "cost: 0.068364204\n",
            "cost: 0.064643061\n",
            "cost: 0.056771077\n",
            "cost: 0.055892879\n",
            "cost: 0.053227231\n",
            "cost: 0.050886509\n",
            "cost: 0.045605055\n",
            "cost: 0.045556464\n",
            "acc: 0.9809\n"
          ],
          "name": "stdout"
        }
      ]
    },
    {
      "cell_type": "code",
      "metadata": {
        "id": "-WuAf1weMJHs",
        "colab_type": "code",
        "colab": {}
      },
      "source": [
        ""
      ],
      "execution_count": 0,
      "outputs": []
    },
    {
      "cell_type": "markdown",
      "metadata": {
        "id": "8QKm6CaCau48",
        "colab_type": "text"
      },
      "source": [
        "## He et al"
      ]
    },
    {
      "cell_type": "code",
      "metadata": {
        "id": "EknfpjO-aXA2",
        "colab_type": "code",
        "outputId": "898ab43b-f050-41e9-9b55-97448fd6b230",
        "colab": {
          "base_uri": "https://localhost:8080/"
        }
      },
      "source": [
        "for i in range(len(hidden_layer_sizes)):\n",
        "  X = D if i == 0 else Hs[i-1]\n",
        " # print(X.shape[1])\n",
        "  fan_in = X.shape[1]\n",
        "  fan_out = hidden_layer_sizes[i]\n",
        "  w = np.random.randn(fan_in, fan_out)/np.sqrt(fan_in/2) ####################only added /2 \n",
        "  H = np.dot(X,w)\n",
        "  H = np.tanh(H)\n",
        "  Hs[i] = H\n",
        "  \n",
        "  \n",
        "print( '입력계층 평균 %f and 표준편차 %f' %(np.mean(D), np.std(D)) )\n",
        "\n",
        "layer_means = [np.mean(H) for i,H in Hs.items()] #\n",
        "layer_std = [np.std(H) for i,H in Hs.items()]\n",
        "\n",
        "\n",
        "for i,H in Hs.items():\n",
        "  print('hidden layer %d average %f and stdev %f' %(i+1, layer_means[i], layer_std[i]))\n",
        "  \n",
        "  \n",
        "  \n",
        "plt.figure()\n",
        "plt.subplot(211)\n",
        "plt.plot(Hs.keys(), layer_means, 'ob-')\n",
        "plt.xlabel('layer')\n",
        "plt.title('layer_mean')\n",
        "\n",
        "plt.figure()\n",
        "plt.subplot(212)\n",
        "plt.plot(Hs.keys(), layer_std, 'ob-')\n",
        "plt.xlabel('layer')\n",
        "plt.title('layer_std')\n",
        "\n",
        "plt.figure(figsize=(15,3))\n",
        "for i, H in Hs.items():\n",
        "  plt.subplot(1, len(Hs), i+1)\n",
        "  plt.hist(H.ravel(), 30, range=(-1,1))\n",
        "  plt.xlabel('layer'+str(i+1))\n",
        "plt.show()\n",
        "\n"
      ],
      "execution_count": 0,
      "outputs": [
        {
          "output_type": "stream",
          "text": [
            "입력계층 평균 0.002633 and 표준편차 0.999400\n",
            "hidden layer 1 average 0.001984 and stdev 0.720451\n",
            "hidden layer 2 average -0.002336 and stdev 0.631621\n",
            "hidden layer 3 average 0.000044 and stdev 0.593328\n",
            "hidden layer 4 average -0.000015 and stdev 0.575658\n",
            "hidden layer 5 average 0.000200 and stdev 0.566828\n",
            "hidden layer 6 average 0.000324 and stdev 0.560351\n",
            "hidden layer 7 average 0.000931 and stdev 0.555643\n",
            "hidden layer 8 average -0.001170 and stdev 0.554673\n",
            "hidden layer 9 average 0.001653 and stdev 0.556539\n",
            "hidden layer 10 average -0.000876 and stdev 0.556090\n"
          ],
          "name": "stdout"
        },
        {
          "output_type": "display_data",
          "data": {
            "image/png": "[encoded data removed]",
            "text/plain": [
              "<Figure size 432x288 with 1 Axes>"
            ]
          },
          "metadata": {
            "tags": []
          }
        },
        {
          "output_type": "display_data",
          "data": {
            "image/png": "[encoded data removed]",
            "text/plain": [
              "<Figure size 432x288 with 1 Axes>"
            ]
          },
          "metadata": {
            "tags": []
          }
        },
        {
          "output_type": "display_data",
          "data": {
            "image/png": "[encoded data removed]",
            "text/plain": [
              "<Figure size 1080x216 with 10 Axes>"
            ]
          },
          "metadata": {
            "tags": []
          }
        }
      ]
    },
    {
      "cell_type": "code",
      "metadata": {
        "id": "38J9US7Na0GK",
        "colab_type": "code",
        "colab": {}
      },
      "source": [
        ""
      ],
      "execution_count": 0,
      "outputs": []
    },
    {
      "cell_type": "code",
      "metadata": {
        "id": "r82BorJHxxLU",
        "colab_type": "code",
        "colab": {}
      },
      "source": [
        ""
      ],
      "execution_count": 0,
      "outputs": []
    },
    {
      "cell_type": "markdown",
      "metadata": {
        "id": "rYwsSOdEms0S",
        "colab_type": "text"
      },
      "source": [
        "\n",
        "# mnist model based CNN\n"
      ]
    },
    {
      "cell_type": "code",
      "metadata": {
        "id": "vS72jV-JxxGg",
        "colab_type": "code",
        "colab": {}
      },
      "source": [
        "\n"
      ],
      "execution_count": 0,
      "outputs": []
    },
    {
      "cell_type": "code",
      "metadata": {
        "id": "pmvUkw1yxw2d",
        "colab_type": "code",
        "outputId": "eae0c6e4-54be-415b-9350-49b3c01f3f4b",
        "colab": {
          "base_uri": "https://localhost:8080/",
          "height": 294
        }
      },
      "source": [
        "tf.reset_default_graph()\n",
        "\n",
        "\n",
        "learning_rate = 0.001\n",
        "training_epohs=15\n",
        "batch_size=100\n",
        "\n",
        "x = tf.placeholder(tf.float32, [None, 28*28])\n",
        "ximg = tf.reshape(x,[-1, 28, 28, 1]) #image 28x28x1\n",
        "y = tf.placeholder(tf.float32, [None, 10])\n",
        "\n",
        "w1 = tf.Variable(tf.random_normal([3,3,1,32])) #3x3x1 filters 32개\n",
        "L1 = tf.nn.conv2d(ximg, w1, strides=[1,1,1,1], padding='SAME')\n",
        "L1 = tf.nn.relu(L1)\n",
        "L1 = tf.nn.max_pool(L1, ksize=[1,2,2,1], strides=[1,2,2,1], padding='SAME')\n",
        "# L1 이미지 shape -> ?,28,28,1\n",
        "# conv -> (?,28,28,32)\n",
        "# pooling -> (?,14,14,32)\n",
        "\n",
        "#28x28 이미지를 3x3 convolution해서 28x28을 32개 만듬\n",
        "# 그리고 2x2 풀링\n",
        "\n",
        "\n",
        "\n",
        "\n",
        "\n",
        "\n",
        "w2 = tf.Variable(tf.random_normal([3,3,32,64])) #3x3x1 filters 32개\n",
        "L2 = tf.nn.conv2d(L1, w2, strides=[1,1,1,1], padding='SAME')\n",
        "L2 = tf.nn.relu(L2)\n",
        "L2 = tf.nn.max_pool(L2, ksize=[1,2,2,1], strides=[1,2,2,1], padding='SAME')\n",
        "# conv2D? (?,14,14,64)\n",
        "# relu (?,14,14,64)\n",
        "# max_pool (?,7,7,64)\n",
        "L2_flat = tf.reshape(L2, [-1, 7*7*64])\n",
        "# reshape -> (?, 7*7*64)\n",
        "\n",
        "\n",
        "w3 = tf.get_variable('w3', shape=[7*7*64, 10], initializer=tf.contrib.layers.xavier_initializer())\n",
        "b = tf.Variable(tf.random_normal([10]))\n",
        "logits = tf.matmul(L2_flat, w3)+b\n",
        "cost = tf.reduce_mean(tf.nn.softmax_cross_entropy_with_logits(logits=logits, labels=y))\n",
        "train = tf.train.AdamOptimizer(learning_rate = learning_rate).minimize(cost)\n",
        "\n",
        "\n",
        "\n",
        "\n",
        "\n",
        "sess=tf.Session()\n",
        "sess.run(tf.global_variables_initializer())\n",
        "for epoch in range(training_epochs):\n",
        "    avg_cost=0\n",
        "    total_batch=int(mnist.train.num_examples/batch_size)\n",
        "    for i in range(total_batch):\n",
        "        batchxs,batchys = mnist.train.next_batch(batch_size)\n",
        "        myfeed = {x:batchxs, y:batchys}\n",
        "        cv,_ = sess.run([cost, train], feed_dict=myfeed)\n",
        "        avg_cost+=cv/total_batch\n",
        "    print('cost:','{:.9f}'.format(avg_cost))\n",
        "\n",
        "c_pre=tf.equal(tf.argmax(logits, 1), tf.argmax(y,1))\n",
        "acc=tf.reduce_mean(tf.cast(c_pre, tf.float32))\n",
        "print('acc:', sess.run(acc, feed_dict=\n",
        "                       {x:mnist.test.images, \n",
        "                        y:mnist.test.labels\n",
        "                       }))\n"
      ],
      "execution_count": 0,
      "outputs": [
        {
          "output_type": "stream",
          "text": [
            "cost: 1.038907200\n",
            "cost: 0.277821656\n",
            "cost: 0.150061912\n",
            "cost: 0.110569031\n",
            "cost: 0.078033307\n",
            "cost: 0.050205591\n",
            "cost: 0.043297456\n",
            "cost: 0.035303812\n",
            "cost: 0.029946699\n",
            "cost: 0.025815850\n",
            "cost: 0.022332749\n",
            "cost: 0.022793350\n",
            "cost: 0.014696258\n",
            "cost: 0.014995147\n",
            "cost: 0.012589780\n",
            "acc: 0.9852\n"
          ],
          "name": "stdout"
        }
      ]
    },
    {
      "cell_type": "code",
      "metadata": {
        "id": "OnmMFnscozQV",
        "colab_type": "code",
        "colab": {}
      },
      "source": [
        ""
      ],
      "execution_count": 0,
      "outputs": []
    }
  ]
}