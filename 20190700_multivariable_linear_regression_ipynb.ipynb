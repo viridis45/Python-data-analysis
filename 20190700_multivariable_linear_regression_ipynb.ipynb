{
  "nbformat": 4,
  "nbformat_minor": 0,
  "metadata": {
    "colab": {
      "name": "multivariable linear regression. ipynb",
      "provenance": [],
      "collapsed_sections": [
        "CohImoFgnvvB"
      ],
      "toc_visible": true,
      "include_colab_link": true
    },
    "kernelspec": {
      "name": "python3",
      "display_name": "Python 3"
    }
  },
  "cells": [
    {
      "cell_type": "markdown",
      "metadata": {
        "id": "view-in-github",
        "colab_type": "text"
      },
      "source": [
        "<a href=\"https://colab.research.google.com/github/viridis45/Python-data-analysis/blob/master/multivariable_linear_regression_ipynb.ipynb\" target=\"_parent\"><img src=\"https://colab.research.google.com/assets/colab-badge.svg\" alt=\"Open In Colab\"/></a>"
      ]
    },
    {
      "cell_type": "markdown",
      "metadata": {
        "id": "CohImoFgnvvB",
        "colab_type": "text"
      },
      "source": [
        "# Understanding the basic structure"
      ]
    },
    {
      "cell_type": "code",
      "metadata": {
        "id": "wDmgc8bNSgCT",
        "colab_type": "code",
        "colab": {}
      },
      "source": [
        "import pandas as pd\n",
        "import numpy as np\n",
        "import tensorflow as tf\n",
        "\n",
        "\n",
        "x1d = [70,90, 88,95,75]\n",
        "x2d = [80,88,90,98,65]\n",
        "x3d = [75,93,90,100,70]\n",
        "yd = [150, 185, 180, 200, 140]\n",
        "\n",
        "x1 = tf.placeholder(tf.float32)\n",
        "x2 = tf.placeholder(tf.float32)\n",
        "x3 = tf.placeholder(tf.float32)\n",
        "y = tf.placeholder(tf.float32)\n",
        "\n",
        "w1 = tf.Variable(tf.random_normal([1]), name='weight1')\n",
        "w2 = tf.Variable(tf.random_normal([1]), name='weight2')\n",
        "w3 = tf.Variable(tf.random_normal([1]), name='weight3')\n",
        "b = tf.Variable(tf.random_normal([1]), name='bias')\n",
        "\n",
        "hf = x1*w1 + x2*w2 + x3*w3 + b\n",
        "cost = tf.reduce_mean(tf.square(hf-y))\n",
        "train = tf.train.GradientDescentOptimizer(1e-5).minimize(cost)\n",
        "sess = tf.Session()\n",
        "sess.run(tf.global_variables_initializer())\n",
        "\n",
        "for step in range(2001):\n",
        "  cv, hv, _ = sess.run([cost, hf, train], feed_dict={x1:x1d, x2:x2d, x3:x3d, y:yd})\n",
        "  if step % 10 == 0:\n",
        "    print(step, 'cost:', cv, 'prediction:', hv)\n",
        "    "
      ],
      "execution_count": 0,
      "outputs": []
    },
    {
      "cell_type": "code",
      "metadata": {
        "id": "wlyJ4tQeeJXr",
        "colab_type": "code",
        "colab": {}
      },
      "source": [
        ""
      ],
      "execution_count": 0,
      "outputs": []
    },
    {
      "cell_type": "code",
      "metadata": {
        "id": "UrK9Qy4_eJUf",
        "colab_type": "code",
        "colab": {}
      },
      "source": [
        ""
      ],
      "execution_count": 0,
      "outputs": []
    },
    {
      "cell_type": "markdown",
      "metadata": {
        "id": "JeLWiBbOn4ix",
        "colab_type": "text"
      },
      "source": [
        "## collected laout"
      ]
    },
    {
      "cell_type": "code",
      "metadata": {
        "id": "Ad-JKEvVTyMT",
        "colab_type": "code",
        "outputId": "d0ba0c15-4360-4661-844b-336e3433b67d",
        "colab": {
          "base_uri": "https://localhost:8080/",
          "height": 389
        }
      },
      "source": [
        "# same thing but for collected layout\n",
        "\n",
        "\n",
        "x1d = [ [70,90, 88,95,75],[80,88,90,98,65],[75,93,90,100,70] ]\n",
        "x1d = np.transpose(x1d)\n",
        "yd = np.transpose([150, 185, 180, 200, 140])\n",
        "\n",
        "\n",
        "x = tf.placeholder(tf.float32, shape = [None, 3]) #not 5,3\n",
        "y = tf.placeholder(tf.float32, shape=[None, 1])\n",
        "\n",
        "w = tf.Variable(tf.random_normal([3,1]), name='weight1')\n",
        "b = tf.Variable(tf.random_normal([1]), name='bias')\n",
        "\n",
        "#hf = x1*w1 + x2*w2 + x3*w3 + b #cannot be used due to elementwise product. need dot product\n",
        "hf = tf.matmul(x,w)+b\n",
        "cost = tf.reduce_mean(tf.square(hf-y))\n",
        "train = tf.train.GradientDescentOptimizer(1e-5).minimize(cost)\n",
        "sess = tf.Session()\n",
        "sess.run(tf.global_variables_initializer())\n",
        "\n",
        "for step in range(2001):\n",
        "  cv, hv, _ = sess.run([cost, hf, train], feed_dict={x:x1d, y:yd})\n",
        "  if step % 10 == 0:\n",
        "    print(step, 'cost:', cv, 'prediction:', hv)\n",
        "    "
      ],
      "execution_count": 0,
      "outputs": [
        {
          "output_type": "error",
          "ename": "ValueError",
          "evalue": "ignored",
          "traceback": [
            "\u001b[0;31m---------------------------------------------------------------------------\u001b[0m",
            "\u001b[0;31mValueError\u001b[0m                                Traceback (most recent call last)",
            "\u001b[0;32m<ipython-input-24-a9b268b63193>\u001b[0m in \u001b[0;36m<module>\u001b[0;34m()\u001b[0m\n\u001b[1;32m     20\u001b[0m \u001b[0;34m\u001b[0m\u001b[0m\n\u001b[1;32m     21\u001b[0m \u001b[0;32mfor\u001b[0m \u001b[0mstep\u001b[0m \u001b[0;32min\u001b[0m \u001b[0mrange\u001b[0m\u001b[0;34m(\u001b[0m\u001b[0;36m2001\u001b[0m\u001b[0;34m)\u001b[0m\u001b[0;34m:\u001b[0m\u001b[0;34m\u001b[0m\u001b[0;34m\u001b[0m\u001b[0m\n\u001b[0;32m---> 22\u001b[0;31m   \u001b[0mcv\u001b[0m\u001b[0;34m,\u001b[0m \u001b[0mhv\u001b[0m\u001b[0;34m,\u001b[0m \u001b[0m_\u001b[0m \u001b[0;34m=\u001b[0m \u001b[0msess\u001b[0m\u001b[0;34m.\u001b[0m\u001b[0mrun\u001b[0m\u001b[0;34m(\u001b[0m\u001b[0;34m[\u001b[0m\u001b[0mcost\u001b[0m\u001b[0;34m,\u001b[0m \u001b[0mhf\u001b[0m\u001b[0;34m,\u001b[0m \u001b[0mtrain\u001b[0m\u001b[0;34m]\u001b[0m\u001b[0;34m,\u001b[0m \u001b[0mfeed_dict\u001b[0m\u001b[0;34m=\u001b[0m\u001b[0;34m{\u001b[0m\u001b[0mx\u001b[0m\u001b[0;34m:\u001b[0m\u001b[0mx1d\u001b[0m\u001b[0;34m,\u001b[0m \u001b[0my\u001b[0m\u001b[0;34m:\u001b[0m\u001b[0myd\u001b[0m\u001b[0;34m}\u001b[0m\u001b[0;34m)\u001b[0m\u001b[0;34m\u001b[0m\u001b[0;34m\u001b[0m\u001b[0m\n\u001b[0m\u001b[1;32m     23\u001b[0m   \u001b[0;32mif\u001b[0m \u001b[0mstep\u001b[0m \u001b[0;34m%\u001b[0m \u001b[0;36m10\u001b[0m \u001b[0;34m==\u001b[0m \u001b[0;36m0\u001b[0m\u001b[0;34m:\u001b[0m\u001b[0;34m\u001b[0m\u001b[0;34m\u001b[0m\u001b[0m\n\u001b[1;32m     24\u001b[0m     \u001b[0mprint\u001b[0m\u001b[0;34m(\u001b[0m\u001b[0mstep\u001b[0m\u001b[0;34m,\u001b[0m \u001b[0;34m'cost:'\u001b[0m\u001b[0;34m,\u001b[0m \u001b[0mcv\u001b[0m\u001b[0;34m,\u001b[0m \u001b[0;34m'prediction:'\u001b[0m\u001b[0;34m,\u001b[0m \u001b[0mhv\u001b[0m\u001b[0;34m)\u001b[0m\u001b[0;34m\u001b[0m\u001b[0;34m\u001b[0m\u001b[0m\n",
            "\u001b[0;32m/usr/local/lib/python3.6/dist-packages/tensorflow/python/client/session.py\u001b[0m in \u001b[0;36mrun\u001b[0;34m(self, fetches, feed_dict, options, run_metadata)\u001b[0m\n\u001b[1;32m    948\u001b[0m     \u001b[0;32mtry\u001b[0m\u001b[0;34m:\u001b[0m\u001b[0;34m\u001b[0m\u001b[0;34m\u001b[0m\u001b[0m\n\u001b[1;32m    949\u001b[0m       result = self._run(None, fetches, feed_dict, options_ptr,\n\u001b[0;32m--> 950\u001b[0;31m                          run_metadata_ptr)\n\u001b[0m\u001b[1;32m    951\u001b[0m       \u001b[0;32mif\u001b[0m \u001b[0mrun_metadata\u001b[0m\u001b[0;34m:\u001b[0m\u001b[0;34m\u001b[0m\u001b[0;34m\u001b[0m\u001b[0m\n\u001b[1;32m    952\u001b[0m         \u001b[0mproto_data\u001b[0m \u001b[0;34m=\u001b[0m \u001b[0mtf_session\u001b[0m\u001b[0;34m.\u001b[0m\u001b[0mTF_GetBuffer\u001b[0m\u001b[0;34m(\u001b[0m\u001b[0mrun_metadata_ptr\u001b[0m\u001b[0;34m)\u001b[0m\u001b[0;34m\u001b[0m\u001b[0;34m\u001b[0m\u001b[0m\n",
            "\u001b[0;32m/usr/local/lib/python3.6/dist-packages/tensorflow/python/client/session.py\u001b[0m in \u001b[0;36m_run\u001b[0;34m(self, handle, fetches, feed_dict, options, run_metadata)\u001b[0m\n\u001b[1;32m   1147\u001b[0m                              \u001b[0;34m'which has shape %r'\u001b[0m \u001b[0;34m%\u001b[0m\u001b[0;34m\u001b[0m\u001b[0;34m\u001b[0m\u001b[0m\n\u001b[1;32m   1148\u001b[0m                              (np_val.shape, subfeed_t.name,\n\u001b[0;32m-> 1149\u001b[0;31m                               str(subfeed_t.get_shape())))\n\u001b[0m\u001b[1;32m   1150\u001b[0m           \u001b[0;32mif\u001b[0m \u001b[0;32mnot\u001b[0m \u001b[0mself\u001b[0m\u001b[0;34m.\u001b[0m\u001b[0mgraph\u001b[0m\u001b[0;34m.\u001b[0m\u001b[0mis_feedable\u001b[0m\u001b[0;34m(\u001b[0m\u001b[0msubfeed_t\u001b[0m\u001b[0;34m)\u001b[0m\u001b[0;34m:\u001b[0m\u001b[0;34m\u001b[0m\u001b[0;34m\u001b[0m\u001b[0m\n\u001b[1;32m   1151\u001b[0m             \u001b[0;32mraise\u001b[0m \u001b[0mValueError\u001b[0m\u001b[0;34m(\u001b[0m\u001b[0;34m'Tensor %s may not be fed.'\u001b[0m \u001b[0;34m%\u001b[0m \u001b[0msubfeed_t\u001b[0m\u001b[0;34m)\u001b[0m\u001b[0;34m\u001b[0m\u001b[0;34m\u001b[0m\u001b[0m\n",
            "\u001b[0;31mValueError\u001b[0m: Cannot feed value of shape (5,) for Tensor 'Placeholder_25:0', which has shape '(?, 1)'"
          ]
        }
      ]
    },
    {
      "cell_type": "markdown",
      "metadata": {
        "id": "cpKvo_Fin-ci",
        "colab_type": "text"
      },
      "source": [
        "## another one"
      ]
    },
    {
      "cell_type": "code",
      "metadata": {
        "id": "iZzrbTswfi4A",
        "colab_type": "code",
        "outputId": "df252a02-0e04-4f4f-b593-2c4ff158c3bd",
        "colab": {
          "base_uri": "https://localhost:8080/",
          "height": 120
        }
      },
      "source": [
        "from google.colab import drive\n",
        "drive.mount('/content/drive')"
      ],
      "execution_count": 0,
      "outputs": [
        {
          "output_type": "stream",
          "text": [
            "Go to this URL in a browser: https://accounts.google.com/o/oauth2/auth?client_id=947318989803-6bn6qk8qdgf4n4g3pfee6491hc0brc4i.apps.googleusercontent.com&redirect_uri=urn%3Aietf%3Awg%3Aoauth%3A2.0%3Aoob&scope=email%20https%3A%2F%2Fwww.googleapis.com%2Fauth%2Fdocs.test%20https%3A%2F%2Fwww.googleapis.com%2Fauth%2Fdrive%20https%3A%2F%2Fwww.googleapis.com%2Fauth%2Fdrive.photos.readonly%20https%3A%2F%2Fwww.googleapis.com%2Fauth%2Fpeopleapi.readonly&response_type=code\n",
            "\n",
            "Enter your authorization code:\n",
            "··········\n",
            "Mounted at /content/drive\n"
          ],
          "name": "stdout"
        }
      ]
    },
    {
      "cell_type": "code",
      "metadata": {
        "id": "4vJG0e6SbMsh",
        "colab_type": "code",
        "colab": {}
      },
      "source": [
        "\n",
        "\n",
        "xy = np.loadtxt('/content/drive/My Drive/T4IR/colab/0730data/test-score.csv',\n",
        "               delimiter = ',', dtype = np.float32)\n",
        "xtrain = xy[:,0:3]\n",
        "ytrain = np.vstack(xy[:,3])\n",
        "\n",
        "\n",
        "xdata = tf.placeholder(tf.float32, shape = [None, 3])\n",
        "ydata = tf.placeholder(tf.float32, shape=[None, 1])\n",
        "\n",
        "w = tf.Variable(tf.random_normal([3,1]), name='weight1')\n",
        "b = tf.Variable(tf.random_normal([1]), name='bias')\n",
        "\n",
        "hf = tf.matmul(x,w)+b\n",
        "cost = tf.reduce_mean(tf.square(hf-y))\n",
        "train = tf.train.GradientDescentOptimizer(1e-5).minimize(cost)\n",
        "sess = tf.Session()\n",
        "sess.run(tf.global_variables_initializer())\n",
        "\n",
        "\n",
        "\n",
        "\n",
        "init = tf.initialize_all_variables()\n",
        "sess.run(init)\n",
        "\n",
        "\n",
        "\n",
        "for step in range(2001):\n",
        "  cv, hv, _ = sess.run([cost, hf, train], feed_dict={x:xtrain, y:ytrain})\n",
        "  if step == 2000:\n",
        "    print(step, 'cost:', cv, 'prediction:', hv)\n",
        "\n",
        "\n",
        "print(\"========================================\")\n",
        "    \n",
        "q = [[100,70,102],[60,70,100],[80, 90, 95]]\n",
        "q = np.transpose(q)\n",
        "for i in q:\n",
        "  print(sess.run(hf, feed_dict={x:i.reshape(-1,3)}))\n",
        "\n",
        "\n",
        "\n"
      ],
      "execution_count": 0,
      "outputs": []
    },
    {
      "cell_type": "code",
      "metadata": {
        "id": "kES5rq9ef3q8",
        "colab_type": "code",
        "outputId": "fb908011-9703-4538-ce75-b03f23757594",
        "colab": {
          "base_uri": "https://localhost:8080/",
          "height": 33
        }
      },
      "source": [
        "test_label.shape"
      ],
      "execution_count": 0,
      "outputs": [
        {
          "output_type": "execute_result",
          "data": {
            "text/plain": [
              "(10, 1)"
            ]
          },
          "metadata": {
            "tags": []
          },
          "execution_count": 92
        }
      ]
    },
    {
      "cell_type": "markdown",
      "metadata": {
        "id": "sAJiEIqUoN41",
        "colab_type": "text"
      },
      "source": [
        "## Practice with stock price"
      ]
    },
    {
      "cell_type": "code",
      "metadata": {
        "id": "oWKo3he_ihRa",
        "colab_type": "code",
        "outputId": "14d9c99e-88f5-47aa-831b-43b691820f38",
        "colab": {
          "base_uri": "https://localhost:8080/",
          "height": 251
        }
      },
      "source": [
        "import pandas as pd\n",
        "tsla = pd.read_csv('/content/drive/My Drive/T4IR/colab/0730data/TSLA.csv', parse_dates = ['Date'])\n",
        "\n",
        "train_data = tsla[['Open', 'High', 'Low']].iloc[:-10,:]\n",
        "train_label = tsla[['Close']].iloc[:-10,:]\n",
        "test_data = tsla[['Open', 'High', 'Low']].iloc[-10:,:]\n",
        "test_label =tsla[['Close']].iloc[-10:,:]\n",
        "\n",
        "\n",
        "init = tf.initialize_all_variables()\n",
        "sess.run(init)\n",
        "\n",
        "tdata = tf.placeholder(tf.float32, shape = [None, 3])\n",
        "tlabel = tf.placeholder(tf.float32, shape=[None, 1])\n",
        "\n",
        "w = tf.Variable(tf.random_normal([3,1]), name='weight')\n",
        "b = tf.Variable(tf.random_normal([1]), name='bias')\n",
        "\n",
        "hf = tf.matmul(x,w)+b\n",
        "cost = tf.reduce_mean(tf.square(hf-y))\n",
        "train = tf.train.GradientDescentOptimizer(1e-7).minimize(cost) #diverged --> lowered the leraning rate meh\n",
        "sess = tf.Session()\n",
        "sess.run(tf.global_variables_initializer())\n",
        "\n",
        "\n",
        "for step in range(2001):\n",
        "  cv, hv, _ = sess.run([cost, hf, train], feed_dict={x:train_data, y:train_label})\n",
        "#  if step == 2000:\n",
        "#     print(step, 'cost:', cv, 'prediction:', hv)\n",
        "    \n",
        "    \n",
        "print (\"==============difference from the real value==================\")\n",
        "print(test_label - sess.run(hf, feed_dict={x:test_data}))\n",
        "\n",
        "\n",
        "\n",
        "\n",
        "\n",
        "print(\"===============volume prediction=====================\")\n",
        "init = tf.initialize_all_variables()\n",
        "sess.run(init)\n",
        "\n",
        "\n",
        "train_data = tsla[['Open']]\n",
        "train_label = tsla[['Close']]\n",
        "\n",
        "init = tf.initialize_all_variables()\n",
        "sess.run(init)\n",
        "\n",
        "tdata = tf.placeholder(tf.float32, shape = [None, 1])\n",
        "tlabel = tf.placeholder(tf.float32, shape=[None, 1])\n",
        "\n",
        "w2 = tf.Variable(tf.random_normal([1,1]), name='weight')\n",
        "b2 = tf.Variable(tf.random_normal([1]), name='bias')\n",
        "y2 = tf.placeholder(tf.float32)\n",
        "\n",
        "\n",
        "\n",
        "hf = x2*w2 + b2\n",
        "cost = tf.reduce_mean(tf.square(hf-y2))\n",
        "train = tf.train.GradientDescentOptimizer(1e-7).minimize(cost)\n",
        "sess = tf.Session()\n",
        "sess.run(tf.global_variables_initializer())\n",
        "\n",
        "for step in range(2001):\n",
        "  cv, hv, _ = sess.run([cost, hf, train], feed_dict={x2:train_data, y2:train_label})\n",
        "\n",
        "\n",
        "  \n",
        "print('predicted volume:',sess.run(hf, feed_dict={x2:227.09}))\n",
        "\n"
      ],
      "execution_count": 0,
      "outputs": [
        {
          "output_type": "stream",
          "text": [
            "==============difference from the real value==================\n",
            "         Close\n",
            "241   8.923691\n",
            "242   3.475190\n",
            "243   1.135666\n",
            "244   9.005173\n",
            "245  -2.153289\n",
            "246   8.115676\n",
            "247  12.806152\n",
            "248 -10.256653\n",
            "249   0.917953\n",
            "250  15.038650\n",
            "===============volume prediction=====================\n",
            "predicted volume: [[227.09866]]\n"
          ],
          "name": "stdout"
        }
      ]
    },
    {
      "cell_type": "markdown",
      "metadata": {
        "id": "ERIu-qBHnnWM",
        "colab_type": "text"
      },
      "source": [
        "# practice with housing price\n",
        "\n",
        "1. sqt_living 에 따른 가격\n",
        "- 데이터 8:2 분리\n",
        "2. sqft_living, bedrooms, bathrooms 에 따른 price\n",
        "3. sqft_living, bedrooms, bathrooms, sqft_lot, floor2 zipcode 에 따른 price"
      ]
    },
    {
      "cell_type": "code",
      "metadata": {
        "id": "AehYlg6_nnHS",
        "colab_type": "code",
        "colab": {}
      },
      "source": [
        "import pandas as pd\n",
        "root = '/content/drive/My Drive/T4IR/colab/0730data/hosing_kaggle'\n",
        "data1 = pd.read_csv(root+'/train.csv', usecols=['bedrooms', 'bathrooms', 'sqft_living'])\n",
        "data2 = pd.read_csv(root+'/train.csv', usecols=['bedrooms', 'bathrooms', 'sqft_living','sqft_lot', 'floors', 'zipcode'])\n",
        "label = pd.read_csv(root+'/train.csv', usecols=['price'])"
      ],
      "execution_count": 0,
      "outputs": []
    },
    {
      "cell_type": "code",
      "metadata": {
        "id": "sicm1ero1UJf",
        "colab_type": "code",
        "colab": {}
      },
      "source": [
        "from sklearn.model_selection import train_test_split\n",
        "train_data, test_data, train_label, test_label = train_test_split(data1, label, test_size=0.2, random_state=42)\n",
        "train_data2, test_data2, train_label2, test_label2 = train_test_split(data2, label, test_size=0.2, random_state=42)"
      ],
      "execution_count": 0,
      "outputs": []
    },
    {
      "cell_type": "code",
      "metadata": {
        "id": "gQN9t7l6sBkk",
        "colab_type": "code",
        "outputId": "e5d74abf-6f11-46e6-9782-64f434fd482d",
        "colab": {
          "base_uri": "https://localhost:8080/",
          "height": 33
        }
      },
      "source": [
        "print(train_data.shape, test_data.shape, train_label.shape, test_label.shape)"
      ],
      "execution_count": 0,
      "outputs": [
        {
          "output_type": "stream",
          "text": [
            "(12028, 3) (3007, 3) (12028, 1) (3007, 1)\n"
          ],
          "name": "stdout"
        }
      ]
    },
    {
      "cell_type": "code",
      "metadata": {
        "id": "NiS2vO7qrMHY",
        "colab_type": "code",
        "colab": {}
      },
      "source": [
        "import tensorflow as tf\n",
        "\n",
        "# init = tf.initialize_all_variables()\n",
        "# sess.run(init)\n",
        "\n",
        "tdata = tf.placeholder(tf.float32, shape = [None, 3])\n",
        "tlabel = tf.placeholder(tf.float32, shape=[None, 1])\n",
        "\n",
        "\n",
        "\n",
        "x = tf.placeholder(tf.float32)\n",
        "y = tf.placeholder(tf.float32)\n",
        "w = tf.Variable(tf.random_normal([3,1]), name='weight')\n",
        "b = tf.Variable(tf.random_normal([1]), name='bias')\n",
        "\n",
        "hf = tf.matmul(x,w)+b\n",
        "cost = tf.reduce_mean(tf.square(hf-y))\n",
        "train = tf.train.GradientDescentOptimizer(1e-7).minimize(cost)\n",
        "sess = tf.Session()\n",
        "sess.run(tf.global_variables_initializer())\n",
        "\n",
        "\n",
        "for step in range(2001):\n",
        "  cv, hv, _ = sess.run([cost, hf, train], feed_dict={x:train_data, y:train_label})\n",
        "#   if step == 2000:\n",
        "#     print(step, 'cost:', cv, 'prediction:', hv)\n",
        "    \n",
        "    \n",
        "print (\"==============difference from the real value==================\")\n",
        "print(test_label - sess.run(hf, feed_dict={x:test_data}))"
      ],
      "execution_count": 0,
      "outputs": []
    },
    {
      "cell_type": "code",
      "metadata": {
        "id": "_B3_zzaNuFmL",
        "colab_type": "code",
        "colab": {}
      },
      "source": [
        "\n",
        "init = tf.initialize_all_variables()\n",
        "sess.run(init)\n",
        "\n",
        "tdata = tf.placeholder(tf.float32, shape = [None, 6])\n",
        "tlabel = tf.placeholder(tf.float32, shape=[None, 1])\n",
        "\n",
        "\n",
        "\n",
        "x = tf.placeholder(tf.float32)\n",
        "y = tf.placeholder(tf.float32)\n",
        "w = tf.Variable(tf.random_normal([6,1]), name='weight')\n",
        "b = tf.Variable(tf.random_normal([1]), name='bias')\n",
        "\n",
        "hf = tf.matmul(x,w)+b\n",
        "cost = tf.reduce_mean(tf.square(hf-y))\n",
        "train = tf.train.GradientDescentOptimizer(1e-10).minimize(cost)\n",
        "sess.run(tf.global_variables_initializer())\n",
        "\n",
        "\n",
        "for step in range(3001):\n",
        "  cv, hv, _ = sess.run([cost, hf, train], feed_dict={x:train_data2, y:train_label2})\n",
        "#   if step == 3000:\n",
        "#     print(step, 'cost:', cv, 'prediction:', hv)\n",
        "\n",
        "\n",
        "\n",
        "    \n",
        "print (\"==============difference from the real value==================\")\n",
        "print(test_label2 - sess.run(hf, feed_dict={x:test_data2}))"
      ],
      "execution_count": 0,
      "outputs": []
    },
    {
      "cell_type": "code",
      "metadata": {
        "id": "aovy0qL_0ODf",
        "colab_type": "code",
        "outputId": "86cf3731-7a36-402d-9ae4-f845af499079",
        "colab": {
          "base_uri": "https://localhost:8080/",
          "height": 117
        }
      },
      "source": [
        "##############\n",
        "##############\n",
        "##############\n",
        "for step in range(3001):\n",
        "  cv, hv, _ = sess.run([cost, hf, train], feed_dict={x:train_data2, y:train_label2})\n",
        "  if step == 3000:\n",
        "      wv,bv,lv,_ = sess.run([cost, w, b, train], feed_dict={x:test_data2, y:test_label2})\n",
        "      print(\"w:%s b:%s cost:%s\" % (wv, bv, lv))"
      ],
      "execution_count": 0,
      "outputs": [
        {
          "output_type": "stream",
          "text": [
            "w:68811420000.0 b:[[-1.2588859e+00]\n",
            " [ 8.5329622e-01]\n",
            " [ 2.2278195e+02]\n",
            " [ 2.3646345e-02]\n",
            " [-1.9491901e-01]\n",
            " [ 8.1520897e-01]] cost:[0.4146298]\n"
          ],
          "name": "stdout"
        }
      ]
    },
    {
      "cell_type": "code",
      "metadata": {
        "id": "5nEtuU-RuSzy",
        "colab_type": "code",
        "outputId": "816f5422-47fb-45a2-9fd5-23a22a72a4f8",
        "colab": {
          "base_uri": "https://localhost:8080/",
          "height": 286
        }
      },
      "source": [
        "from sklearn import preprocessing\n",
        "\n",
        "data2_scaled = preprocessing.scale(data2)\n",
        "label_scaled = preprocessing.scale(label)\n",
        "\n",
        "import matplotlib.pyplot as plt\n",
        "plt.hist(data2_scaled)\n",
        "plt.axis([-5, 10, 0, 15000])\n",
        "# i think it's maybe okay"
      ],
      "execution_count": 0,
      "outputs": [
        {
          "output_type": "execute_result",
          "data": {
            "text/plain": [
              "[-5, 10, 0, 15000]"
            ]
          },
          "metadata": {
            "tags": []
          },
          "execution_count": 56
        },
        {
          "output_type": "display_data",
          "data": {
            "image/png": "[encoded data removed]",
            "text/plain": [
              "<Figure size 432x288 with 1 Axes>"
            ]
          },
          "metadata": {
            "tags": []
          }
        }
      ]
    },
    {
      "cell_type": "code",
      "metadata": {
        "id": "k5IItGWjv4Uy",
        "colab_type": "code",
        "colab": {}
      },
      "source": [
        "train_data2_2, test_data2_2, train_label2_2, test_label2_2 = train_test_split(data2_scaled, label_scaled, test_size=0.2, random_state=42)"
      ],
      "execution_count": 0,
      "outputs": []
    },
    {
      "cell_type": "code",
      "metadata": {
        "id": "esXUmwOzv7XW",
        "colab_type": "code",
        "outputId": "36d56275-a1d8-4617-f8c0-1267bf86c199",
        "colab": {
          "base_uri": "https://localhost:8080/",
          "height": 150
        }
      },
      "source": [
        "\n",
        "init = tf.initialize_all_variables()\n",
        "sess.run(init)\n",
        "\n",
        "tdata = tf.placeholder(tf.float32, shape = [None, 6])\n",
        "tlabel = tf.placeholder(tf.float32, shape=[None, 1])\n",
        "\n",
        "\n",
        "\n",
        "x = tf.placeholder(tf.float32)\n",
        "y = tf.placeholder(tf.float32)\n",
        "w = tf.Variable(tf.random_normal([6,1]), name='weight')\n",
        "b = tf.Variable(tf.random_normal([1]), name='bias')\n",
        "\n",
        "hf = tf.matmul(x,w)+b\n",
        "cost = tf.reduce_mean(tf.square(hf-y))\n",
        "train = tf.train.GradientDescentOptimizer(1e-5).minimize(cost)\n",
        "sess.run(tf.global_variables_initializer())\n",
        "\n",
        "\n",
        "for step in range(3001):\n",
        "  cv, hv, _ = sess.run([cost, hf, train], feed_dict={x:train_data2_2, y:train_label2_2})\n",
        "#   if step == 3000:\n",
        "#     print(step, 'cost:', cv, 'prediction:', hv)\n",
        "\n",
        "\n",
        "    \n",
        "print (\"==============difference from the real value==================\")\n",
        "print(test_label2_2 - sess.run(hf, feed_dict={x:test_data2_2}))\n",
        "# I used scale!\n",
        "# it's not very effective..."
      ],
      "execution_count": 0,
      "outputs": [
        {
          "output_type": "stream",
          "text": [
            "==============difference from the real value==================\n",
            "[[-0.2192659 ]\n",
            " [-3.53402486]\n",
            " [-1.60742124]\n",
            " ...\n",
            " [-2.41806873]\n",
            " [-1.51358731]\n",
            " [-3.19507753]]\n"
          ],
          "name": "stdout"
        }
      ]
    },
    {
      "cell_type": "code",
      "metadata": {
        "id": "anlmsoFc2Cg3",
        "colab_type": "code",
        "colab": {}
      },
      "source": [
        "sess.close()"
      ],
      "execution_count": 0,
      "outputs": []
    }
  ]
}