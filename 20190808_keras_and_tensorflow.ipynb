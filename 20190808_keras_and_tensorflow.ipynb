{
  "nbformat": 4,
  "nbformat_minor": 0,
  "metadata": {
    "colab": {
      "name": "08082019_keras and tensorflow.ipynb",
      "provenance": [],
      "collapsed_sections": [],
      "include_colab_link": true
    },
    "kernelspec": {
      "name": "python3",
      "display_name": "Python 3"
    }
  },
  "cells": [
    {
      "cell_type": "markdown",
      "metadata": {
        "id": "view-in-github",
        "colab_type": "text"
      },
      "source": [
        "<a href=\"https://colab.research.google.com/github/viridis45/Python-data-analysis/blob/master/08082019_keras_and_tensorflow.ipynb\" target=\"_parent\"><img src=\"https://colab.research.google.com/assets/colab-badge.svg\" alt=\"Open In Colab\"/></a>"
      ]
    },
    {
      "cell_type": "markdown",
      "metadata": {
        "id": "xzub6q3DLTdA",
        "colab_type": "text"
      },
      "source": [
        "# Loading data"
      ]
    },
    {
      "cell_type": "code",
      "metadata": {
        "id": "iv_9TO10itdF",
        "colab_type": "code",
        "outputId": "89df0cee-9c73-4345-9338-e7124a1c594d",
        "colab": {
          "base_uri": "https://localhost:8080/",
          "height": 155
        }
      },
      "source": [
        "#gspark@kw.ac.kr\n",
        "import tensorflow as tf\n",
        "from tensorflow import keras\n",
        "\n",
        "fasion_mnist = keras.datasets.fashion_mnist\n",
        "(train_images, train_labels), (test_images, test_labels) = fasion_mnist.load_data()"
      ],
      "execution_count": 0,
      "outputs": [
        {
          "output_type": "stream",
          "text": [
            "Downloading data from https://storage.googleapis.com/tensorflow/tf-keras-datasets/train-labels-idx1-ubyte.gz\n",
            "32768/29515 [=================================] - 0s 0us/step\n",
            "Downloading data from https://storage.googleapis.com/tensorflow/tf-keras-datasets/train-images-idx3-ubyte.gz\n",
            "26427392/26421880 [==============================] - 0s 0us/step\n",
            "Downloading data from https://storage.googleapis.com/tensorflow/tf-keras-datasets/t10k-labels-idx1-ubyte.gz\n",
            "8192/5148 [===============================================] - 0s 0us/step\n",
            "Downloading data from https://storage.googleapis.com/tensorflow/tf-keras-datasets/t10k-images-idx3-ubyte.gz\n",
            "4423680/4422102 [==============================] - 0s 0us/step\n"
          ],
          "name": "stdout"
        }
      ]
    },
    {
      "cell_type": "code",
      "metadata": {
        "id": "j573Xp24iuTK",
        "colab_type": "code",
        "outputId": "724fc5ac-364a-47f6-eba9-13bf99979a3f",
        "colab": {
          "base_uri": "https://localhost:8080/",
          "height": 287
        }
      },
      "source": [
        "import pandas as pd\n",
        "import numpy as np\n",
        "import matplotlib.pyplot as plt\n",
        "c = np.reshape(train_images[1], [28,28])\n",
        "plt.imshow(c)\n"
      ],
      "execution_count": 0,
      "outputs": [
        {
          "output_type": "execute_result",
          "data": {
            "text/plain": [
              "<matplotlib.image.AxesImage at 0x7f1954a55630>"
            ]
          },
          "metadata": {
            "tags": []
          },
          "execution_count": 2
        },
        {
          "output_type": "display_data",
          "data": {
            "image/png": "[encoded data removed]",
            "text/plain": [
              "<Figure size 432x288 with 1 Axes>"
            ]
          },
          "metadata": {
            "tags": []
          }
        }
      ]
    },
    {
      "cell_type": "code",
      "metadata": {
        "id": "iluA7lGxLe2i",
        "colab_type": "code",
        "outputId": "c618aaed-3a75-4615-9dfe-ad70bfba8343",
        "colab": {
          "base_uri": "https://localhost:8080/",
          "height": 86
        }
      },
      "source": [
        "print(train_images.shape)\n",
        "print(train_labels.shape)\n",
        "print(test_images.shape)\n",
        "print(test_labels.shape)"
      ],
      "execution_count": 0,
      "outputs": [
        {
          "output_type": "stream",
          "text": [
            "(60000, 28, 28)\n",
            "(60000,)\n",
            "(10000, 28, 28)\n",
            "(10000,)\n"
          ],
          "name": "stdout"
        }
      ]
    },
    {
      "cell_type": "code",
      "metadata": {
        "id": "LIqTpoX3L54T",
        "colab_type": "code",
        "outputId": "db620773-d2e2-410a-9259-785bf04265b5",
        "colab": {
          "base_uri": "https://localhost:8080/",
          "height": 34
        }
      },
      "source": [
        "len(np.unique(train_labels))  # <----number of classes"
      ],
      "execution_count": 0,
      "outputs": [
        {
          "output_type": "execute_result",
          "data": {
            "text/plain": [
              "10"
            ]
          },
          "metadata": {
            "tags": []
          },
          "execution_count": 9
        }
      ]
    },
    {
      "cell_type": "code",
      "metadata": {
        "id": "rDt4LXqPmj0W",
        "colab_type": "code",
        "colab": {}
      },
      "source": [
        "#train_labels=train_labels.reshape([60000,-1])"
      ],
      "execution_count": 0,
      "outputs": []
    },
    {
      "cell_type": "markdown",
      "metadata": {
        "id": "K15qQudSrse5",
        "colab_type": "text"
      },
      "source": [
        "# With Keras"
      ]
    },
    {
      "cell_type": "code",
      "metadata": {
        "id": "x2KH1cBFlXg6",
        "colab_type": "code",
        "colab": {}
      },
      "source": [
        "fasion_mnist = keras.datasets.fashion_mnist\n",
        "(train_images, train_labels), (test_images, test_labels) = fasion_mnist.load_data()\n",
        "\n",
        "\n",
        "xtrain=train_images.reshape(60000, 28*28).astype('float32')/255.0\n",
        "xtest=test_images.reshape(10000, 28*28).astype('float32')/255.0\n"
      ],
      "execution_count": 0,
      "outputs": []
    },
    {
      "cell_type": "code",
      "metadata": {
        "id": "yVMuLBkLk7YF",
        "colab_type": "code",
        "outputId": "32e92590-9352-4ad1-e77b-0138e8ba4bc8",
        "colab": {
          "base_uri": "https://localhost:8080/",
          "height": 449
        }
      },
      "source": [
        "from tensorflow.keras.models import Sequential\n",
        "from tensorflow.keras.layers import Dense\n",
        "from tensorflow.keras.optimizers import SGD\n",
        "from tensorflow.keras.optimizers import RMSprop\n",
        "\n",
        "model = Sequential()\n",
        "model.add(Dense(64, input_dim=784, activation='relu'))\n",
        "model.add(Dense(10, activation='sigmoid'))\n",
        "\n",
        "model.summary()\n",
        "\n",
        "\n",
        "#model.compile(optimizer=SGD(lr=0.1), loss='binary_crossentropy', metrics=['accuracy'])\n",
        "model.compile(optimizer='adam', loss='sparse_categorical_crossentropy', metrics=['accuracy'])\n",
        "\n",
        "model.fit(xtrain, train_labels, epochs=6) \n"
      ],
      "execution_count": 0,
      "outputs": [
        {
          "output_type": "stream",
          "text": [
            "Model: \"sequential_10\"\n",
            "_________________________________________________________________\n",
            "Layer (type)                 Output Shape              Param #   \n",
            "=================================================================\n",
            "dense_14 (Dense)             (None, 64)                50240     \n",
            "_________________________________________________________________\n",
            "dense_15 (Dense)             (None, 10)                650       \n",
            "=================================================================\n",
            "Total params: 50,890\n",
            "Trainable params: 50,890\n",
            "Non-trainable params: 0\n",
            "_________________________________________________________________\n",
            "Epoch 1/6\n",
            "60000/60000 [==============================] - 4s 63us/sample - loss: 0.5524 - acc: 0.8078\n",
            "Epoch 2/6\n",
            "60000/60000 [==============================] - 4s 60us/sample - loss: 0.4079 - acc: 0.8559\n",
            "Epoch 3/6\n",
            "60000/60000 [==============================] - 4s 62us/sample - loss: 0.3657 - acc: 0.8689\n",
            "Epoch 4/6\n",
            "60000/60000 [==============================] - 4s 63us/sample - loss: 0.3402 - acc: 0.8759\n",
            "Epoch 5/6\n",
            "60000/60000 [==============================] - 4s 61us/sample - loss: 0.3197 - acc: 0.8842\n",
            "Epoch 6/6\n",
            "60000/60000 [==============================] - 4s 61us/sample - loss: 0.3059 - acc: 0.8877\n"
          ],
          "name": "stdout"
        },
        {
          "output_type": "execute_result",
          "data": {
            "text/plain": [
              "<tensorflow.python.keras.callbacks.History at 0x7f1c222bccf8>"
            ]
          },
          "metadata": {
            "tags": []
          },
          "execution_count": 182
        }
      ]
    },
    {
      "cell_type": "code",
      "metadata": {
        "id": "kVgVKPpo0xSb",
        "colab_type": "code",
        "colab": {}
      },
      "source": [
        "#model.predict(xtest)"
      ],
      "execution_count": 0,
      "outputs": []
    },
    {
      "cell_type": "code",
      "metadata": {
        "id": "BO1zYX6j0xPp",
        "colab_type": "code",
        "colab": {}
      },
      "source": [
        ""
      ],
      "execution_count": 0,
      "outputs": []
    },
    {
      "cell_type": "code",
      "metadata": {
        "id": "dfrTyepo0xEz",
        "colab_type": "code",
        "colab": {}
      },
      "source": [
        ""
      ],
      "execution_count": 0,
      "outputs": []
    },
    {
      "cell_type": "markdown",
      "metadata": {
        "id": "gcdrbU89rzUN",
        "colab_type": "text"
      },
      "source": [
        "# without keras"
      ]
    },
    {
      "cell_type": "code",
      "metadata": {
        "id": "JFm1dg4WOOYn",
        "colab_type": "code",
        "outputId": "9ed7a004-989f-49fd-ce0e-38f659a5dc48",
        "colab": {
          "base_uri": "https://localhost:8080/",
          "height": 34
        }
      },
      "source": [
        "#gspark@kw.ac.kr\n",
        "import tensorflow as tf\n",
        "from tensorflow import keras\n",
        "\n",
        "fasion_mnist = keras.datasets.fashion_mnist\n",
        "(train_images, train_labels), (test_images, test_labels) = fasion_mnist.load_data()\n",
        "\n",
        "\n",
        "xtrain=train_images.reshape(60000, 28*28).astype('float32')/255.0\n",
        "xtest=test_images.reshape(10000, 28*28).astype('float32')/255.0\n",
        "\n",
        "#train_labels=train_labels.reshape(60000, -1)\n",
        "# train_labels=tf.one_hot(train_labels, depth=10)\n",
        "# train_labels\n",
        "\n",
        "from keras.utils import to_categorical\n",
        "train_labels = to_categorical(train_labels)\n",
        "test_labels = to_categorical(test_labels)"
      ],
      "execution_count": 0,
      "outputs": [
        {
          "output_type": "stream",
          "text": [
            "Using TensorFlow backend.\n"
          ],
          "name": "stderr"
        }
      ]
    },
    {
      "cell_type": "code",
      "metadata": {
        "id": "xti11ppiXGGj",
        "colab_type": "code",
        "outputId": "a026137c-b44b-47c6-e27a-ebac8afdf1c5",
        "colab": {
          "base_uri": "https://localhost:8080/",
          "height": 34
        }
      },
      "source": [
        "test_images.shape\n",
        "test_labels.shape"
      ],
      "execution_count": 0,
      "outputs": [
        {
          "output_type": "execute_result",
          "data": {
            "text/plain": [
              "(10000, 10)"
            ]
          },
          "metadata": {
            "tags": []
          },
          "execution_count": 11
        }
      ]
    },
    {
      "cell_type": "code",
      "metadata": {
        "id": "Y_k_zT-zEVQU",
        "colab_type": "code",
        "outputId": "8c40d30b-e380-4514-8f97-d9cc39690ab1",
        "colab": {
          "base_uri": "https://localhost:8080/",
          "height": 294
        }
      },
      "source": [
        "nb_classes = 10\n",
        "\n",
        "x = tf.placeholder(tf.float32, [None, 28*28])\n",
        "y = tf.placeholder(tf.float32, [None, nb_classes])\n",
        "w = tf.Variable(tf.random_normal([28*28, nb_classes]))\n",
        "b = tf.Variable(tf.random_normal([nb_classes]))\n",
        "\n",
        "hf = tf.nn.softmax(tf.matmul(x,w)+b)\n",
        "cost = tf.reduce_mean(-tf.reduce_sum(y*tf.log(hf), axis=1))\n",
        "train = tf.train.GradientDescentOptimizer(0.1).minimize(cost)\n",
        "\n",
        "\n",
        "is_correct = tf.equal(tf.arg_max(hf,1), tf.arg_max(y,1))  \n",
        "accuracy = tf.reduce_mean(tf.cast(is_correct, tf.float32)) \n",
        "\n",
        "training_epochs = 15\n",
        "batch_size = 300\n",
        "\n",
        "\n",
        "\n",
        "\n",
        "\n",
        "sess= tf.Session()\n",
        "sess.run(tf.global_variables_initializer())\n",
        "for epoch in range(training_epochs):\n",
        "  avg_cost = 0\n",
        "  total_batch = int(xtrain.shape[0] / batch_size)\n",
        "\n",
        "  for i in range(total_batch):\n",
        "    batch_xs = xtrain[batch_size*(i) : batch_size*(i+1),:]\n",
        "    batch_ys = train_labels[batch_size*(i) : batch_size*(i+1),:]\n",
        "\n",
        "    costvalue , _ = sess.run([cost, train], feed_dict={x:batch_xs, y:batch_ys})\n",
        "\n",
        "    avg_cost += costvalue / total_batch\n",
        "\n",
        "  print('Epoch :%4d' % (epoch+1), 'cost:','{:.9f}'.format(avg_cost))\n",
        "\n",
        "accuracy = tf.reduce_mean(tf.cast(is_correct, tf.float32)) \n",
        "print ('accuracy :', sess.run(accuracy, feed_dict={x:xtest, y:test_labels}))\n"
      ],
      "execution_count": 0,
      "outputs": [
        {
          "output_type": "stream",
          "text": [
            "Epoch :   1 cost: 4.019869355\n",
            "Epoch :   2 cost: 1.828339805\n",
            "Epoch :   3 cost: 1.544734859\n",
            "Epoch :   4 cost: 1.393625230\n",
            "Epoch :   5 cost: 1.293283251\n",
            "Epoch :   6 cost: 1.219564488\n",
            "Epoch :   7 cost: 1.162016358\n",
            "Epoch :   8 cost: 1.115151587\n",
            "Epoch :   9 cost: 1.075779247\n",
            "Epoch :  10 cost: 1.041918312\n",
            "Epoch :  11 cost: 1.012272585\n",
            "Epoch :  12 cost: 0.985954202\n",
            "Epoch :  13 cost: 0.962329510\n",
            "Epoch :  14 cost: 0.940929820\n",
            "Epoch :  15 cost: 0.921398095\n",
            "accuracy : 0.7723\n"
          ],
          "name": "stdout"
        }
      ]
    },
    {
      "cell_type": "code",
      "metadata": {
        "id": "GfPO_VobyObh",
        "colab_type": "code",
        "outputId": "c6105c8c-c312-497f-c8eb-b7b84d26619f",
        "colab": {
          "base_uri": "https://localhost:8080/",
          "height": 294
        }
      },
      "source": [
        "nb_classes = 10\n",
        "\n",
        "x = tf.placeholder(tf.float32, [None, 28*28])\n",
        "y = tf.placeholder(tf.float32, [None, nb_classes])\n",
        "w = tf.Variable(tf.random_normal([28*28, nb_classes]))\n",
        "b = tf.Variable(tf.random_normal([nb_classes]))\n",
        "h1 = tf.nn.softmax(tf.matmul(x,w)+b)\n",
        "\n",
        "\n",
        "w1 = tf.Variable(tf.random_normal([nb_classes,20]))\n",
        "b1 = tf.Variable(tf.random_normal([20]))\n",
        "h2 = tf.nn.softmax(tf.matmul(h1,w1)+b1)\n",
        "\n",
        "\n",
        "w2 = tf.Variable(tf.random_normal([20, nb_classes]))\n",
        "b2 = tf.Variable(tf.random_normal([nb_classes]))\n",
        "hf = tf.nn.softmax(tf.matmul(h2,w2)+b2)\n",
        "\n",
        "\n",
        "\n",
        "cost = tf.reduce_mean(-tf.reduce_sum(y*tf.log(hf), axis=1))\n",
        "train = tf.train.GradientDescentOptimizer(0.1).minimize(cost)\n",
        "\n",
        "\n",
        "is_correct = tf.equal(tf.arg_max(hf,1), tf.arg_max(y,1))  \n",
        "accuracy = tf.reduce_mean(tf.cast(is_correct, tf.float32)) \n",
        "\n",
        "training_epochs = 15\n",
        "batch_size = 300\n",
        "\n",
        "\n",
        "\n",
        "sess= tf.Session()\n",
        "sess.run(tf.global_variables_initializer())\n",
        "for epoch in range(training_epochs):\n",
        "  avg_cost = 0\n",
        "  total_batch = int(xtrain.shape[0] / batch_size)\n",
        "\n",
        "  for i in range(total_batch):\n",
        "    batch_xs = xtrain[batch_size*(i) : batch_size*(i+1),:]\n",
        "    batch_ys = train_labels[batch_size*(i) : batch_size*(i+1),:]\n",
        "\n",
        "    costvalue , _ = sess.run([cost, train], feed_dict={x:batch_xs, y:batch_ys})\n",
        "\n",
        "    avg_cost += costvalue / total_batch\n",
        "\n",
        "  print('Epoch :%4d' % (epoch+1), 'cost:','{:.9f}'.format(avg_cost))\n",
        "\n",
        "accuracy = tf.reduce_mean(tf.cast(is_correct, tf.float32)) \n",
        "print ('accuracy :', sess.run(accuracy, feed_dict={x:xtest, y:test_labels}))\n",
        "print ('nope nope nope nope')\n"
      ],
      "execution_count": 0,
      "outputs": [
        {
          "output_type": "stream",
          "text": [
            "Epoch :   1 cost: 2.366672981\n",
            "Epoch :   2 cost: 2.155226734\n",
            "Epoch :   3 cost: 2.064041992\n",
            "Epoch :   4 cost: 1.978037542\n",
            "Epoch :   5 cost: 1.903955130\n",
            "Epoch :   6 cost: 1.844153414\n",
            "Epoch :   7 cost: 1.797132639\n",
            "Epoch :   8 cost: 1.759139465\n",
            "Epoch :   9 cost: 1.727563143\n",
            "Epoch :  10 cost: 1.699887443\n",
            "Epoch :  11 cost: 1.675585813\n",
            "Epoch :  12 cost: 1.655244241\n",
            "Epoch :  13 cost: 1.640086127\n",
            "Epoch :  14 cost: 1.627967757\n",
            "Epoch :  15 cost: 1.618279379\n",
            "accuracy : 0.2926\n"
          ],
          "name": "stdout"
        }
      ]
    },
    {
      "cell_type": "code",
      "metadata": {
        "id": "irjeF_I1yOQe",
        "colab_type": "code",
        "colab": {}
      },
      "source": [
        ""
      ],
      "execution_count": 0,
      "outputs": []
    },
    {
      "cell_type": "code",
      "metadata": {
        "id": "JyQeFWYir8mS",
        "colab_type": "code",
        "colab": {}
      },
      "source": [
        ""
      ],
      "execution_count": 0,
      "outputs": []
    }
  ]
}