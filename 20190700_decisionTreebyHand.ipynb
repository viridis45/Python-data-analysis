{
  "nbformat": 4,
  "nbformat_minor": 0,
  "metadata": {
    "colab": {
      "name": "decisionTreebyHand.ipynb",
      "version": "0.3.2",
      "provenance": [],
      "collapsed_sections": []
    },
    "kernelspec": {
      "name": "python3",
      "display_name": "Python 3"
    }
  },
  "cells": [
    {
      "cell_type": "markdown",
      "metadata": {
        "id": "sPn2Xr-_U4PP",
        "colab_type": "text"
      },
      "source": [
        "Decision Tree algorithm by hand because it is easy enough for me to do"
      ]
    },
    {
      "cell_type": "markdown",
      "metadata": {
        "id": "daE3gVZlVCOY",
        "colab_type": "text"
      },
      "source": [
        "# Preparing data"
      ]
    },
    {
      "cell_type": "code",
      "metadata": {
        "id": "dekCGW0tPCMZ",
        "colab_type": "code",
        "outputId": "f9e30230-cb4c-475c-cb05-fa07db8bea83",
        "colab": {
          "base_uri": "https://localhost:8080/",
          "height": 254
        }
      },
      "source": [
        "import pandas as pd\n",
        "\n",
        "\n",
        "# making test data that woulnd't bore me to death\n",
        "data = {\n",
        "    'name' : ['Frodo', 'Boromir', 'Barca', 'Massinissa', 'Opimius','Cornelia'],\n",
        "    'brute' : [False, True, True, True, False, False],\n",
        "    'wise' : [False, True, True, True, False, True],\n",
        "    'just' : [True, True, True, False, False, False],\n",
        "    'death' : [153, 41, 66, 90, 60, 70],\n",
        "    'liked' : [True, False, True, True, False, True]\n",
        "}\n",
        "# to think of it, using 0,1 would've been easier\n",
        "\n",
        "\n",
        "\n",
        "data = pd.DataFrame(data)\n",
        "\n",
        "# setting name as the index and everything else in column\n",
        "data = data.set_index(\"name\")\n",
        "\n",
        "# if needed, columns can be manually set and modified via:\n",
        "# data = data[ ['col_name1','col_name2','col_name3' ...]]\n",
        "# or below is easier to medofy the order :\n",
        "# neworder = [0,1,2,3,4,5]\n",
        "# data =  [data.columns[i] for i in order]\n",
        "\n",
        "# checking the data\n",
        "data"
      ],
      "execution_count": 0,
      "outputs": [
        {
          "output_type": "execute_result",
          "data": {
            "text/html": [
              "<div>\n",
              "<style scoped>\n",
              "    .dataframe tbody tr th:only-of-type {\n",
              "        vertical-align: middle;\n",
              "    }\n",
              "\n",
              "    .dataframe tbody tr th {\n",
              "        vertical-align: top;\n",
              "    }\n",
              "\n",
              "    .dataframe thead th {\n",
              "        text-align: right;\n",
              "    }\n",
              "</style>\n",
              "<table border=\"1\" class=\"dataframe\">\n",
              "  <thead>\n",
              "    <tr style=\"text-align: right;\">\n",
              "      <th></th>\n",
              "      <th>brute</th>\n",
              "      <th>wise</th>\n",
              "      <th>just</th>\n",
              "      <th>death</th>\n",
              "      <th>liked</th>\n",
              "    </tr>\n",
              "    <tr>\n",
              "      <th>name</th>\n",
              "      <th></th>\n",
              "      <th></th>\n",
              "      <th></th>\n",
              "      <th></th>\n",
              "      <th></th>\n",
              "    </tr>\n",
              "  </thead>\n",
              "  <tbody>\n",
              "    <tr>\n",
              "      <th>Frodo</th>\n",
              "      <td>False</td>\n",
              "      <td>False</td>\n",
              "      <td>True</td>\n",
              "      <td>153</td>\n",
              "      <td>True</td>\n",
              "    </tr>\n",
              "    <tr>\n",
              "      <th>Boromir</th>\n",
              "      <td>True</td>\n",
              "      <td>True</td>\n",
              "      <td>True</td>\n",
              "      <td>41</td>\n",
              "      <td>False</td>\n",
              "    </tr>\n",
              "    <tr>\n",
              "      <th>Barca</th>\n",
              "      <td>True</td>\n",
              "      <td>True</td>\n",
              "      <td>True</td>\n",
              "      <td>66</td>\n",
              "      <td>True</td>\n",
              "    </tr>\n",
              "    <tr>\n",
              "      <th>Massinissa</th>\n",
              "      <td>True</td>\n",
              "      <td>True</td>\n",
              "      <td>False</td>\n",
              "      <td>90</td>\n",
              "      <td>True</td>\n",
              "    </tr>\n",
              "    <tr>\n",
              "      <th>Opimius</th>\n",
              "      <td>False</td>\n",
              "      <td>False</td>\n",
              "      <td>False</td>\n",
              "      <td>60</td>\n",
              "      <td>False</td>\n",
              "    </tr>\n",
              "    <tr>\n",
              "      <th>Cornelia</th>\n",
              "      <td>False</td>\n",
              "      <td>True</td>\n",
              "      <td>False</td>\n",
              "      <td>70</td>\n",
              "      <td>True</td>\n",
              "    </tr>\n",
              "  </tbody>\n",
              "</table>\n",
              "</div>"
            ],
            "text/plain": [
              "            brute   wise   just  death  liked\n",
              "name                                         \n",
              "Frodo       False  False   True    153   True\n",
              "Boromir      True   True   True     41  False\n",
              "Barca        True   True   True     66   True\n",
              "Massinissa   True   True  False     90   True\n",
              "Opimius     False  False  False     60  False\n",
              "Cornelia    False   True  False     70   True"
            ]
          },
          "metadata": {
            "tags": []
          },
          "execution_count": 30
        }
      ]
    },
    {
      "cell_type": "markdown",
      "metadata": {
        "id": "0qc00ZraWcAu",
        "colab_type": "text"
      },
      "source": [
        "# Preprocessing\n",
        "\n",
        "Decision Tree is a supervised learning == need **Label** and **Feature**\n",
        "\n",
        "Sinsce this is classification,\n",
        "\n",
        "label : answers for the question. in this case, determining T/F for if they are 'liked'\n",
        "feature : information used to reach the conclusion\n"
      ]
    },
    {
      "cell_type": "code",
      "metadata": {
        "id": "Ajh54kiOeruF",
        "colab_type": "code",
        "outputId": "2b70c474-db9e-46d3-eab1-7b77cd14355e",
        "colab": {
          "base_uri": "https://localhost:8080/",
          "height": 34
        }
      },
      "source": [
        "label = 'liked'\n",
        "# and everything else goes into features :\n",
        "features = data.columns.difference([label])\n",
        "features"
      ],
      "execution_count": 0,
      "outputs": [
        {
          "output_type": "execute_result",
          "data": {
            "text/plain": [
              "Index(['brute', 'death', 'just', 'wise'], dtype='object')"
            ]
          },
          "metadata": {
            "tags": []
          },
          "execution_count": 36
        }
      ]
    },
    {
      "cell_type": "markdown",
      "metadata": {
        "id": "NKUKl_cOiXlD",
        "colab_type": "text"
      },
      "source": [
        "# designing a decision tree\n",
        "1. Create **condition** through **features**\n",
        "2. determine important **condition** depending on criterions, such as gini impurity, MSE, etc\n",
        "3. Create a tree with the important conditions"
      ]
    },
    {
      "cell_type": "markdown",
      "metadata": {
        "id": "GxtPvEP1jh4b",
        "colab_type": "text"
      },
      "source": [
        "1. Creating conditions\n",
        "\n",
        ">> segmenting each features.\n",
        "\n",
        ">> i.e : if a feature was 'score' score<50, score<70, score<85< score<100 etc"
      ]
    },
    {
      "cell_type": "code",
      "metadata": {
        "id": "QcXUaQ01iXuq",
        "colab_type": "code",
        "outputId": "cd52503a-5949-481c-deaf-bac8f3acf109",
        "colab": {
          "base_uri": "https://localhost:8080/",
          "height": 166
        }
      },
      "source": [
        "# two scenarios:\n",
        "# True/False given one condition\n",
        "# True/False given range\n",
        "def categorical_condition(data, feature, value):\n",
        "  return data[feature] == value\n",
        "\n",
        "def continuous_condition(data, feature, value):\n",
        "  return data[feature] < value\n",
        "\n",
        "\n",
        "# combine those two to make condition\n",
        "# this function should be able to determine if it is categorical or continuous\n",
        "# and call one between above two functions\n",
        "def make_condition(method, feature, value):\n",
        "  def call_condition(data):\n",
        "    return method(data, feature, value)\n",
        "  return call_condition\n",
        "\n",
        "\n",
        "\n",
        "# try this on prepared data\n",
        "# condition = make_condition(categorical_condition, 'just', True) # meaning return only those are True on 'brute'\n",
        "# data[condition(data)]\n",
        "\n",
        "# another one\n",
        "condition2 = make_condition(continuous_condition, 'death', 60) #returning those who died before age 60. hurts my heart.\n",
        "data[condition(data)]"
      ],
      "execution_count": 0,
      "outputs": [
        {
          "output_type": "execute_result",
          "data": {
            "text/html": [
              "<div>\n",
              "<style scoped>\n",
              "    .dataframe tbody tr th:only-of-type {\n",
              "        vertical-align: middle;\n",
              "    }\n",
              "\n",
              "    .dataframe tbody tr th {\n",
              "        vertical-align: top;\n",
              "    }\n",
              "\n",
              "    .dataframe thead th {\n",
              "        text-align: right;\n",
              "    }\n",
              "</style>\n",
              "<table border=\"1\" class=\"dataframe\">\n",
              "  <thead>\n",
              "    <tr style=\"text-align: right;\">\n",
              "      <th></th>\n",
              "      <th>brute</th>\n",
              "      <th>wise</th>\n",
              "      <th>just</th>\n",
              "      <th>death</th>\n",
              "      <th>liked</th>\n",
              "    </tr>\n",
              "    <tr>\n",
              "      <th>name</th>\n",
              "      <th></th>\n",
              "      <th></th>\n",
              "      <th></th>\n",
              "      <th></th>\n",
              "      <th></th>\n",
              "    </tr>\n",
              "  </thead>\n",
              "  <tbody>\n",
              "    <tr>\n",
              "      <th>Frodo</th>\n",
              "      <td>False</td>\n",
              "      <td>False</td>\n",
              "      <td>True</td>\n",
              "      <td>153</td>\n",
              "      <td>True</td>\n",
              "    </tr>\n",
              "    <tr>\n",
              "      <th>Boromir</th>\n",
              "      <td>True</td>\n",
              "      <td>True</td>\n",
              "      <td>True</td>\n",
              "      <td>41</td>\n",
              "      <td>False</td>\n",
              "    </tr>\n",
              "    <tr>\n",
              "      <th>Barca</th>\n",
              "      <td>True</td>\n",
              "      <td>True</td>\n",
              "      <td>True</td>\n",
              "      <td>66</td>\n",
              "      <td>True</td>\n",
              "    </tr>\n",
              "  </tbody>\n",
              "</table>\n",
              "</div>"
            ],
            "text/plain": [
              "         brute   wise  just  death  liked\n",
              "name                                     \n",
              "Frodo    False  False  True    153   True\n",
              "Boromir   True   True  True     41  False\n",
              "Barca     True   True  True     66   True"
            ]
          },
          "metadata": {
            "tags": []
          },
          "execution_count": 40
        }
      ]
    },
    {
      "cell_type": "code",
      "metadata": {
        "id": "p-emQBJN6u65",
        "colab_type": "code",
        "colab": {}
      },
      "source": [
        "# using above, make function that generates conditions automatically\n",
        "# so if the feature is bool (T/F) then it calls categorical\n",
        "# else, (if the feature is int, float, etc) then it calls continuous\n",
        "\n",
        "def make_condition_list(data, features):\n",
        "  condition_list = {}\n",
        "  \n",
        "  for feature in features:\n",
        "    if data[feature].dtype == bool: #if T/F data\n",
        "      description = f\"{feature} == True\" # only need one then\n",
        "      condition = make_condition(categorical_condition, feature, True) #took 'true' for example\n",
        "      condition_list[description] = condition #this goes into condition\n",
        "    else: # if ranged data\n",
        "      value_list = data[feature].unique() #take unique values\n",
        "      value_list.sort() #sort them\n",
        "      value_list = value_list[1:] #taking out the smallest value. could do that as the largest one too and modify 'continuous_condition'\n",
        "      \n",
        "      \n",
        "      \n",
        "      for value in value_list:\n",
        "        description = f\"{feature} < {value}\"\n",
        "        condition = make_condition(continuous_condition, feature, value)\n",
        "        condition_list[description] = condition\n",
        "        \n",
        "  return condition_list\n",
        "    "
      ],
      "execution_count": 0,
      "outputs": []
    },
    {
      "cell_type": "code",
      "metadata": {
        "id": "2l3LXrsniX1j",
        "colab_type": "code",
        "outputId": "8ff545b3-e20c-4713-f5ec-f3735e3d03c3",
        "colab": {
          "base_uri": "https://localhost:8080/",
          "height": 142
        }
      },
      "source": [
        "# test it\n",
        "\n",
        "condition_list = make_condition_list(data, features)\n",
        "print(condition_list)\n",
        "\n",
        "\n",
        "print(data[condition_list['brute == True'](data)])"
      ],
      "execution_count": 0,
      "outputs": [
        {
          "output_type": "stream",
          "text": [
            "{'brute == True': <function make_condition.<locals>.call_condition at 0x7efc8abfa378>, 'death < 60': <function make_condition.<locals>.call_condition at 0x7efc8abfa2f0>, 'death < 66': <function make_condition.<locals>.call_condition at 0x7efc8abfa268>, 'death < 70': <function make_condition.<locals>.call_condition at 0x7efc8abfa730>, 'death < 90': <function make_condition.<locals>.call_condition at 0x7efc8abfa840>, 'death < 153': <function make_condition.<locals>.call_condition at 0x7efc8abfae18>, 'just == True': <function make_condition.<locals>.call_condition at 0x7efc8abfa8c8>, 'wise == True': <function make_condition.<locals>.call_condition at 0x7efc8abfa598>}\n",
            "            brute  wise   just  death  liked\n",
            "name                                        \n",
            "Boromir      True  True   True     41  False\n",
            "Barca        True  True   True     66   True\n",
            "Massinissa   True  True  False     90   True\n"
          ],
          "name": "stdout"
        }
      ]
    },
    {
      "cell_type": "markdown",
      "metadata": {
        "id": "nmrmdt6WKeC7",
        "colab_type": "text"
      },
      "source": [
        "# Criterion \n",
        "determines what feature is more detrimental and what is less\n",
        "\n",
        "less potent feature will be located on lower node or will not be used at all\n",
        "\n",
        "Classification -- Gini Impurity\n",
        "\n",
        "regression -  mean squared error\n",
        "\n",
        "also entroty, mean absolute error"
      ]
    },
    {
      "cell_type": "code",
      "metadata": {
        "id": "YW75d2shLrv5",
        "colab_type": "code",
        "colab": {}
      },
      "source": [
        ""
      ],
      "execution_count": 0,
      "outputs": []
    },
    {
      "cell_type": "markdown",
      "metadata": {
        "id": "bll3Wqu7KeGr",
        "colab_type": "text"
      },
      "source": [
        "## 1. Gini Impurity\n",
        "\n",
        "$$\n",
        " I_{G}(p) = 1 - (p_{true})^{2} - (p_{false})^{2}\n",
        "$$\n",
        "$(P_{true})^{2}$ == possibility the result is true\n",
        "\n",
        "$(P_{false})^{2}$ == possibility the result is false\n",
        "\n",
        "The goal is to get 0, to get a perfectly divided result. means 0.5 is the worst, in case everything is half and half\n",
        "\n",
        "\n"
      ]
    },
    {
      "cell_type": "code",
      "metadata": {
        "id": "7cFu2dNqKRug",
        "colab_type": "code",
        "colab": {}
      },
      "source": [
        "#making gini impurity for true and false, binary classification\n",
        "def gini(data, label):\n",
        "  if len(data) == 0:\n",
        "    return 0\n",
        "  \n",
        "  true_prob = data[label].mean()\n",
        "  false_prob = 1 - true_prob\n",
        "  \n",
        "  gini = 1 - (true_prob **2) - (false_prob **2)\n",
        "  \n",
        "  return gini\n",
        "\n",
        "#okay so how about multi-class?"
      ],
      "execution_count": 0,
      "outputs": []
    },
    {
      "cell_type": "markdown",
      "metadata": {
        "id": "_8VY_4rfU3FQ",
        "colab_type": "text"
      },
      "source": [
        "## 2 . multi-class gini impurity\n",
        "$$ {I} _{G}(p) = 1 - \\sum _{i=1}^{J}{p_{i}}^{2} $$\n",
        "subtract posibility^2 of each class from 1\n"
      ]
    },
    {
      "cell_type": "code",
      "metadata": {
        "id": "JmwpJufOVXoE",
        "colab_type": "code",
        "colab": {}
      },
      "source": [
        "#re-defining gini so that it can address everything\n",
        "def gini(data, label):\n",
        "  if len(data) == 0:\n",
        "    return 0\n",
        "  \n",
        "  gini = 1 # initialize\n",
        "  class_list = data[label].unique()\n",
        "  \n",
        "  for class_value in class_list :\n",
        "    prob = len( data [data[label] == class_value] ) / len(data)\n",
        "    \n",
        "    gini = gini - (prob ** 2)\n",
        "    \n",
        "  return gini\n",
        "  "
      ],
      "execution_count": 0,
      "outputs": []
    },
    {
      "cell_type": "code",
      "metadata": {
        "id": "oRVkfJp-YjYJ",
        "colab_type": "code",
        "outputId": "254e54e9-330e-4229-81a2-a57af712663a",
        "colab": {
          "base_uri": "https://localhost:8080/",
          "height": 34
        }
      },
      "source": [
        "gini(data, 'liked')"
      ],
      "execution_count": 0,
      "outputs": [
        {
          "output_type": "execute_result",
          "data": {
            "text/plain": [
              "0.4444444444444445"
            ]
          },
          "metadata": {
            "tags": []
          },
          "execution_count": 55
        }
      ]
    },
    {
      "cell_type": "markdown",
      "metadata": {
        "id": "_czNXPNKaCSs",
        "colab_type": "text"
      },
      "source": [
        "## 3.  Entropy\n",
        "$$H_{i}=-\\sum _{k=1}^{n}\\ {p_{i,k}}*log_{2}({p_{i,k})}$$\n",
        "\n",
        "measures the chaos : 50/50 is therefore 0.5\n",
        "\n",
        "\n",
        "\n",
        "### ex) H(10,20)\n",
        ">> $ log\\frac{10}{20} - \\frac{10}{20} log\\frac{10}{20} $\n",
        "\n",
        "There isn't much difference between Entropy and Gini Impurity,\n",
        "\n",
        "but Gini Impurity computes faster, and entropy makes more balanced tree\n",
        "\n",
        "\n"
      ]
    },
    {
      "cell_type": "markdown",
      "metadata": {
        "id": "L716I8XvYzIn",
        "colab_type": "text"
      },
      "source": [
        "## 4. mean squared error\n",
        "\n",
        "This is for Regression.\n",
        "$$\n",
        " {MSE} ={\\frac {1}{n}}\\sum _{i=1}^{n}(y_{i} - {\\hat {y_{i}}})^{2}\n",
        "$$\n",
        " $y_{i} $== actual value, $\\hat{y_{i}}$ == prediction\n",
        " \n",
        " \n",
        " so mean of square of real value - predicted values\n",
        " \n",
        " \n",
        " so lower MSE the better. Decision tree will evolve where returned MSE is the lowest."
      ]
    },
    {
      "cell_type": "code",
      "metadata": {
        "id": "LhLFFddYZ9mM",
        "colab_type": "code",
        "colab": {}
      },
      "source": [
        "def eval_mse(data, label):\n",
        "  if len(data) == 0:\n",
        "    return 0\n",
        "  \n",
        "  mean = data[label].mean()\n",
        "  mse = ((data[label] - mean) ** 2).mean()\n",
        "  \n",
        "  return mse"
      ],
      "execution_count": 0,
      "outputs": []
    },
    {
      "cell_type": "markdown",
      "metadata": {
        "id": "dNarVf9IlEIh",
        "colab_type": "text"
      },
      "source": [
        "## Get Criterion score\n",
        "so there are two criterion to test : gini impurity and MSE"
      ]
    },
    {
      "cell_type": "code",
      "metadata": {
        "id": "EvlMyH2OfuhN",
        "colab_type": "code",
        "colab": {}
      },
      "source": [
        ""
      ],
      "execution_count": 0,
      "outputs": []
    },
    {
      "cell_type": "code",
      "metadata": {
        "id": "vjhFLuiYdNJN",
        "colab_type": "code",
        "colab": {}
      },
      "source": [
        ""
      ],
      "execution_count": 0,
      "outputs": []
    },
    {
      "cell_type": "code",
      "metadata": {
        "id": "RTfuw-K6dNm8",
        "colab_type": "code",
        "colab": {}
      },
      "source": [
        ""
      ],
      "execution_count": 0,
      "outputs": []
    },
    {
      "cell_type": "code",
      "metadata": {
        "id": "K56wFFHCiOXo",
        "colab_type": "code",
        "colab": {}
      },
      "source": [
        ""
      ],
      "execution_count": 0,
      "outputs": []
    }
  ]
}