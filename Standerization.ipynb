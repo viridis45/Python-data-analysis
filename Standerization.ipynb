{
  "nbformat": 4,
  "nbformat_minor": 0,
  "metadata": {
    "colab": {
      "name": "Standerization.ipynb",
      "version": "0.3.2",
      "provenance": [],
      "collapsed_sections": []
    },
    "kernelspec": {
      "name": "python3",
      "display_name": "Python 3"
    }
  },
  "cells": [
    {
      "cell_type": "code",
      "metadata": {
        "id": "4V5Yih71J1Pb",
        "colab_type": "code",
        "colab": {}
      },
      "source": [
        "import matplotlib.pyplot as plt\n",
        "from google.colab import drive\n",
        "import pandas as pd\n",
        "import numpy as np\n",
        "import math\n",
        "import os\n",
        "#drive.mount('/content/gdrive')\n",
        "root = 'gdrive/My Drive/colab/titanic/train.csv'\n",
        "df1 = pd.read_csv(root)"
      ],
      "execution_count": 0,
      "outputs": []
    },
    {
      "cell_type": "code",
      "metadata": {
        "id": "V4tqCSCcJ8L2",
        "colab_type": "code",
        "outputId": "08e714ae-885d-42fe-eeb8-b25de9c3f427",
        "colab": {
          "base_uri": "https://localhost:8080/",
          "height": 148
        }
      },
      "source": [
        "df1['Age'].value_counts(sort=True, bins=[10,20,30,40,50,60,70])"
      ],
      "execution_count": 0,
      "outputs": [
        {
          "output_type": "execute_result",
          "data": {
            "text/plain": [
              "(20.0, 30.0]     230\n",
              "(30.0, 40.0]     155\n",
              "(9.999, 20.0]    117\n",
              "(40.0, 50.0]      86\n",
              "(50.0, 60.0]      42\n",
              "(60.0, 70.0]      17\n",
              "Name: Age, dtype: int64"
            ]
          },
          "metadata": {
            "tags": []
          },
          "execution_count": 3
        }
      ]
    },
    {
      "cell_type": "code",
      "metadata": {
        "id": "VN55XkpfJ__Z",
        "colab_type": "code",
        "outputId": "a3e4b7e6-4cf1-402a-daa8-a927579b1393",
        "colab": {
          "base_uri": "https://localhost:8080/",
          "height": 36
        }
      },
      "source": [
        "data = np.arange(10,30,2)\n",
        "data"
      ],
      "execution_count": 0,
      "outputs": [
        {
          "output_type": "execute_result",
          "data": {
            "text/plain": [
              "array([10, 12, 14, 16, 18, 20, 22, 24, 26, 28])"
            ]
          },
          "metadata": {
            "tags": []
          },
          "execution_count": 56
        }
      ]
    },
    {
      "cell_type": "code",
      "metadata": {
        "id": "Lo7alMPVNwcs",
        "colab_type": "code",
        "outputId": "6d7ad511-a43c-4c14-b528-8c6f220f1e65",
        "colab": {
          "base_uri": "https://localhost:8080/",
          "height": 36
        }
      },
      "source": [
        "from numpy import *\n",
        "print(mean(data, axis=0))\n",
        "std_data = (data-mean(data,axis=0)) / std(data, axis=0)"
      ],
      "execution_count": 0,
      "outputs": [
        {
          "output_type": "stream",
          "text": [
            "19.0\n"
          ],
          "name": "stdout"
        }
      ]
    },
    {
      "cell_type": "code",
      "metadata": {
        "id": "-Iwc6GmuSC18",
        "colab_type": "code",
        "colab": {}
      },
      "source": [
        "import scipy.stats as ss"
      ],
      "execution_count": 0,
      "outputs": []
    },
    {
      "cell_type": "code",
      "metadata": {
        "id": "L7GJwdMfSW30",
        "colab_type": "code",
        "outputId": "41b64121-064d-4c0f-d9ea-e7d88fd07e36",
        "colab": {
          "base_uri": "https://localhost:8080/",
          "height": 55
        }
      },
      "source": [
        "ss.zscore(data)"
      ],
      "execution_count": 0,
      "outputs": [
        {
          "output_type": "execute_result",
          "data": {
            "text/plain": [
              "array([ 1.12770882,  1.29354835, -1.35988416, -0.86236556, -1.0282051 ,\n",
              "       -1.0282051 , -0.03316791,  1.29354835,  0.79602975, -0.19900744])"
            ]
          },
          "metadata": {
            "tags": []
          },
          "execution_count": 24
        }
      ]
    },
    {
      "cell_type": "code",
      "metadata": {
        "id": "VHy0EQ2lSvy_",
        "colab_type": "code",
        "colab": {}
      },
      "source": [
        "from sklearn.preprocessing import StandardScaler"
      ],
      "execution_count": 0,
      "outputs": []
    },
    {
      "cell_type": "code",
      "metadata": {
        "id": "ZFD3Gan7SzU5",
        "colab_type": "code",
        "outputId": "47b37cd2-1cb0-4e11-ac55-2e01dab28209",
        "colab": {
          "base_uri": "https://localhost:8080/",
          "height": 36
        }
      },
      "source": [
        "data=data.reshape(-1,1)\n",
        "std_data=StandardScaler().fit_transform(data)\n",
        "median(std_data)"
      ],
      "execution_count": 0,
      "outputs": [
        {
          "output_type": "execute_result",
          "data": {
            "text/plain": [
              "0.0"
            ]
          },
          "metadata": {
            "tags": []
          },
          "execution_count": 92
        }
      ]
    },
    {
      "cell_type": "code",
      "metadata": {
        "id": "yVWXeHk-YhUP",
        "colab_type": "code",
        "colab": {}
      },
      "source": [
        ""
      ],
      "execution_count": 0,
      "outputs": []
    },
    {
      "cell_type": "markdown",
      "metadata": {
        "id": "d1RdH5SdYhvV",
        "colab_type": "text"
      },
      "source": [
        "# 이상치가 포함되어있는 데이터셋을 표준화하기\n",
        ">> so that mean = 0, std = 1"
      ]
    },
    {
      "cell_type": "code",
      "metadata": {
        "id": "1_sv7M4YToQR",
        "colab_type": "code",
        "colab": {}
      },
      "source": [
        "#이상치가 있는 데이터셋의 표준화 -- robust scalar\n",
        "#평군, 쵸준편차는 이상키의 영향을 크게 받기 때문\n",
        "#중앙값(Q2), IQR(Q3-Q1)\n",
        "#Robust scaler x-median() / IQR"
      ],
      "execution_count": 0,
      "outputs": []
    },
    {
      "cell_type": "code",
      "metadata": {
        "id": "lHQQSCBjVxsb",
        "colab_type": "code",
        "colab": {}
      },
      "source": [
        "mu, sigma = 10, 3\n",
        "np.random.seed(42)\n",
        "x=mu+sigma*np.random.randn(100)\n",
        "import matplotlib.pyplot as plt\n"
      ],
      "execution_count": 0,
      "outputs": []
    },
    {
      "cell_type": "code",
      "metadata": {
        "id": "EMEnc209WQhN",
        "colab_type": "code",
        "outputId": "e9141c2f-376b-4f87-9b87-1d3539982927",
        "colab": {
          "base_uri": "https://localhost:8080/",
          "height": 307
        }
      },
      "source": [
        "plt.hist(x)\n",
        "print(mean(x))\n",
        "print(std(x))"
      ],
      "execution_count": 0,
      "outputs": [
        {
          "output_type": "stream",
          "text": [
            "9.688460447817718\n",
            "2.7108485299338883\n"
          ],
          "name": "stdout"
        },
        {
          "output_type": "display_data",
          "data": {
            "image/png": "[encoded data removed]",
            "text/plain": [
              "<Figure size 432x288 with 1 Axes>"
            ]
          },
          "metadata": {
            "tags": []
          }
        }
      ]
    },
    {
      "cell_type": "markdown",
      "metadata": {
        "id": "sYrLqBjzYu7V",
        "colab_type": "text"
      },
      "source": [
        ">> ## 여기에 이상치를 줍니다"
      ]
    },
    {
      "cell_type": "code",
      "metadata": {
        "id": "TwRvIo1JW8_W",
        "colab_type": "code",
        "outputId": "ed112303-1f5d-4faf-95e4-0b1f4870b826",
        "colab": {
          "base_uri": "https://localhost:8080/",
          "height": 381
        }
      },
      "source": [
        "x[95:100]=100\n",
        "print(mean(x))\n",
        "plt.hist(x)"
      ],
      "execution_count": 0,
      "outputs": [
        {
          "output_type": "stream",
          "text": [
            "14.222534840086327\n"
          ],
          "name": "stdout"
        },
        {
          "output_type": "execute_result",
          "data": {
            "text/plain": [
              "(array([74., 21.,  0.,  0.,  0.,  0.,  0.,  0.,  0.,  5.]),\n",
              " array([  2.14076469,  11.92668822,  21.71261175,  31.49853528,\n",
              "         41.28445881,  51.07038234,  60.85630588,  70.64222941,\n",
              "         80.42815294,  90.21407647, 100.        ]),\n",
              " <a list of 10 Patch objects>)"
            ]
          },
          "metadata": {
            "tags": []
          },
          "execution_count": 52
        },
        {
          "output_type": "display_data",
          "data": {
            "image/png": "[encoded data removed]",
            "text/plain": [
              "<Figure size 432x288 with 1 Axes>"
            ]
          },
          "metadata": {
            "tags": []
          }
        }
      ]
    },
    {
      "cell_type": "code",
      "metadata": {
        "id": "blDGNLSkY5ZB",
        "colab_type": "code",
        "outputId": "78ae81a7-7f7d-4581-ef38-be679c19d868",
        "colab": {
          "base_uri": "https://localhost:8080/",
          "height": 437
        }
      },
      "source": [
        "plt.hist(x, bins=np.arange(0,101,2))"
      ],
      "execution_count": 0,
      "outputs": [
        {
          "output_type": "execute_result",
          "data": {
            "text/plain": [
              "(array([ 0.,  1.,  8., 13., 30., 23., 12.,  8.,  0.,  0.,  0.,  0.,  0.,\n",
              "         0.,  0.,  0.,  0.,  0.,  0.,  0.,  0.,  0.,  0.,  0.,  0.,  0.,\n",
              "         0.,  0.,  0.,  0.,  0.,  0.,  0.,  0.,  0.,  0.,  0.,  0.,  0.,\n",
              "         0.,  0.,  0.,  0.,  0.,  0.,  0.,  0.,  0.,  0.,  5.]),\n",
              " array([  0,   2,   4,   6,   8,  10,  12,  14,  16,  18,  20,  22,  24,\n",
              "         26,  28,  30,  32,  34,  36,  38,  40,  42,  44,  46,  48,  50,\n",
              "         52,  54,  56,  58,  60,  62,  64,  66,  68,  70,  72,  74,  76,\n",
              "         78,  80,  82,  84,  86,  88,  90,  92,  94,  96,  98, 100]),\n",
              " <a list of 50 Patch objects>)"
            ]
          },
          "metadata": {
            "tags": []
          },
          "execution_count": 54
        },
        {
          "output_type": "display_data",
          "data": {
            "image/png": "[encoded data removed]",
            "text/plain": [
              "<Figure size 432x288 with 1 Axes>"
            ]
          },
          "metadata": {
            "tags": []
          }
        }
      ]
    },
    {
      "cell_type": "markdown",
      "metadata": {
        "id": "Wn2-IpZIhxXY",
        "colab_type": "text"
      },
      "source": [
        "## Testing Standard Scaler\n",
        ">> STD_sc = x - mean(x) / std\n",
        "\n",
        ">> therefore prone to outliers"
      ]
    },
    {
      "cell_type": "code",
      "metadata": {
        "id": "ZCmI72VIY8ML",
        "colab_type": "code",
        "outputId": "efb96ddd-d809-415c-bf5b-a6e185c13819",
        "colab": {
          "base_uri": "https://localhost:8080/",
          "height": 381
        }
      },
      "source": [
        "x = x.reshape(-1,1)\n",
        "print(np.shape(x))\n",
        "std_x = StandardScaler().fit_transform(x)\n",
        "plt.hist(std_x) #it wasn't very effective..!"
      ],
      "execution_count": 0,
      "outputs": [
        {
          "output_type": "stream",
          "text": [
            "(9, 1)\n"
          ],
          "name": "stdout"
        },
        {
          "output_type": "execute_result",
          "data": {
            "text/plain": [
              "(array([1., 1., 2., 0., 1., 0., 2., 0., 1., 1.]),\n",
              " array([-1.49099863, -1.17525775, -0.85951686, -0.54377597, -0.22803509,\n",
              "         0.0877058 ,  0.40344669,  0.71918758,  1.03492846,  1.35066935,\n",
              "         1.66641024]),\n",
              " <a list of 10 Patch objects>)"
            ]
          },
          "metadata": {
            "tags": []
          },
          "execution_count": 117
        },
        {
          "output_type": "display_data",
          "data": {
            "image/png": "[encoded data removed]",
            "text/plain": [
              "<Figure size 432x288 with 1 Axes>"
            ]
          },
          "metadata": {
            "tags": []
          }
        }
      ]
    },
    {
      "cell_type": "code",
      "metadata": {
        "id": "abpqk4CebPnH",
        "colab_type": "code",
        "outputId": "387856b8-2721-423f-e193-dbcf17f7db4a",
        "colab": {
          "base_uri": "https://localhost:8080/",
          "height": 363
        }
      },
      "source": [
        "std_o=std_x[std_x<4]\n",
        "plt.hist(std_o, bins=np.arange(-1,1,0.2))"
      ],
      "execution_count": 0,
      "outputs": [
        {
          "output_type": "execute_result",
          "data": {
            "text/plain": [
              "(array([ 0.,  1.,  9., 43., 35.,  7.,  0.,  0.,  0.]),\n",
              " array([-1.00000000e+00, -8.00000000e-01, -6.00000000e-01, -4.00000000e-01,\n",
              "        -2.00000000e-01, -2.22044605e-16,  2.00000000e-01,  4.00000000e-01,\n",
              "         6.00000000e-01,  8.00000000e-01]),\n",
              " <a list of 9 Patch objects>)"
            ]
          },
          "metadata": {
            "tags": []
          },
          "execution_count": 99
        },
        {
          "output_type": "display_data",
          "data": {
            "image/png": "[encoded data removed]",
            "text/plain": [
              "<Figure size 432x288 with 1 Axes>"
            ]
          },
          "metadata": {
            "tags": []
          }
        }
      ]
    },
    {
      "cell_type": "markdown",
      "metadata": {
        "id": "9Lrq3CYDhV0U",
        "colab_type": "text"
      },
      "source": [
        "## Testing Robust Scaler\n",
        ">> robust scalers use median instead of mean, which is less prone to the outliers\n"
      ]
    },
    {
      "cell_type": "code",
      "metadata": {
        "id": "Yz3y5Rf5b4du",
        "colab_type": "code",
        "colab": {}
      },
      "source": [
        "mean(x)\n",
        "median(x)\n",
        "Q1=percentile(x, 25)\n",
        "Q3=percentile(x, 75)\n",
        "IQR = Q3 - Q1"
      ],
      "execution_count": 0,
      "outputs": []
    },
    {
      "cell_type": "code",
      "metadata": {
        "id": "_zLdKYPwdoqI",
        "colab_type": "code",
        "outputId": "248a6ef5-d78d-4303-caca-5ffa98a15c1b",
        "colab": {
          "base_uri": "https://localhost:8080/",
          "height": 381
        }
      },
      "source": [
        "from sklearn.preprocessing import RobustScaler\n",
        "rbs_x = RobustScaler().fit_transform(x)\n",
        "print('median: ',median(rbs_x), 'mean: ', mean(rbs_x))\n",
        "rbs_o=rbs_x[rbs_x<5]\n",
        "plt.hist(rbs_o)"
      ],
      "execution_count": 0,
      "outputs": [
        {
          "output_type": "stream",
          "text": [
            "median:  0.0 mean:  1.1764297439010134\n"
          ],
          "name": "stdout"
        },
        {
          "output_type": "execute_result",
          "data": {
            "text/plain": [
              "(array([ 1.,  4.,  5.,  8., 19., 15., 19., 11.,  6.,  7.]),\n",
              " array([-2.0654536 , -1.7054622 , -1.3454708 , -0.9854794 , -0.62548801,\n",
              "        -0.26549661,  0.09449479,  0.45448619,  0.81447759,  1.17446899,\n",
              "         1.53446039]),\n",
              " <a list of 10 Patch objects>)"
            ]
          },
          "metadata": {
            "tags": []
          },
          "execution_count": 100
        },
        {
          "output_type": "display_data",
          "data": {
            "image/png": "[encoded data removed]",
            "text/plain": [
              "<Figure size 432x288 with 1 Axes>"
            ]
          },
          "metadata": {
            "tags": []
          }
        }
      ]
    },
    {
      "cell_type": "markdown",
      "metadata": {
        "id": "hgLCEnE9lAnw",
        "colab_type": "text"
      },
      "source": [
        "## Min Max Scaling\n",
        ">> Xn = x - x_min / x_max - x_min\n",
        "\n",
        ">> is done through MinMaxScaler()"
      ]
    },
    {
      "cell_type": "code",
      "metadata": {
        "id": "fegVGvhhlO7H",
        "colab_type": "code",
        "outputId": "026f575f-6ed0-4f31-bb19-42485fda9d93",
        "colab": {
          "base_uri": "https://localhost:8080/",
          "height": 92
        }
      },
      "source": [
        "from sklearn.preprocessing import MinMaxScaler\n",
        "\n",
        "x= np.array([[9,-1,2],\n",
        "            [5,0,1],\n",
        "            [1,10,4],\n",
        "            [4,7,-2]])\n",
        "\n",
        "# column 단위의 min.max 계산\n",
        "x.min(axis=0)\n",
        "x.max(axis=0)\n",
        "scaled = (x - x.min(axis=0)) / (x.max(axis=0)- x.min(axis=0))\n",
        "scaled"
      ],
      "execution_count": 0,
      "outputs": [
        {
          "output_type": "execute_result",
          "data": {
            "text/plain": [
              "array([[1.        , 0.        , 0.66666667],\n",
              "       [0.5       , 0.09090909, 0.5       ],\n",
              "       [0.        , 1.        , 1.        ],\n",
              "       [0.375     , 0.72727273, 0.        ]])"
            ]
          },
          "metadata": {
            "tags": []
          },
          "execution_count": 111
        }
      ]
    },
    {
      "cell_type": "markdown",
      "metadata": {
        "id": "WW4zp--UoLo4",
        "colab_type": "text"
      },
      "source": [
        "Method 1:"
      ]
    },
    {
      "cell_type": "code",
      "metadata": {
        "id": "hU8TB7uCmNKL",
        "colab_type": "code",
        "outputId": "823b899f-68a6-42eb-8602-c277066b50e4",
        "colab": {
          "base_uri": "https://localhost:8080/",
          "height": 92
        }
      },
      "source": [
        "x_minmax=MinMaxScaler().fit_transform(x)\n",
        "x_minmax"
      ],
      "execution_count": 0,
      "outputs": [
        {
          "output_type": "execute_result",
          "data": {
            "text/plain": [
              "array([[1.        , 0.        , 0.66666667],\n",
              "       [0.5       , 0.09090909, 0.5       ],\n",
              "       [0.        , 1.        , 1.        ],\n",
              "       [0.375     , 0.72727273, 0.        ]])"
            ]
          },
          "metadata": {
            "tags": []
          },
          "execution_count": 112
        }
      ]
    },
    {
      "cell_type": "markdown",
      "metadata": {
        "id": "W0_k9cIHoOiB",
        "colab_type": "text"
      },
      "source": [
        "Method 2:"
      ]
    },
    {
      "cell_type": "code",
      "metadata": {
        "id": "fwndqFi5iMPT",
        "colab_type": "code",
        "outputId": "db61d249-48b9-4c31-f967-45b3454d8880",
        "colab": {
          "base_uri": "https://localhost:8080/",
          "height": 92
        }
      },
      "source": [
        "from sklearn.preprocessing import minmax_scale\n",
        "minmax_scale(x,axis=0)"
      ],
      "execution_count": 0,
      "outputs": [
        {
          "output_type": "execute_result",
          "data": {
            "text/plain": [
              "array([[1.        , 0.        , 0.66666667],\n",
              "       [0.5       , 0.09090909, 0.5       ],\n",
              "       [0.        , 1.        , 1.        ],\n",
              "       [0.375     , 0.72727273, 0.        ]])"
            ]
          },
          "metadata": {
            "tags": []
          },
          "execution_count": 114
        }
      ]
    },
    {
      "cell_type": "markdown",
      "metadata": {
        "id": "rq5Y-PhWobkB",
        "colab_type": "text"
      },
      "source": [
        "## 이항변수화 변환\n",
        ">> 연속형 변수값을 0 또는 1로 변환\n",
        "\n",
        ">> [explannation](http://sebastianraschka.com/Articles/2014_about_feature_scaling.html#standardization-and-min-max-scaling)"
      ]
    },
    {
      "cell_type": "code",
      "metadata": {
        "id": "RIqfgP81o6KD",
        "colab_type": "code",
        "colab": {}
      },
      "source": [
        "from sklearn.preprocessing import Binarizer\n",
        "x = np.array([[5,-3,2],[7,-1,0],[0,9,5]])"
      ],
      "execution_count": 0,
      "outputs": []
    },
    {
      "cell_type": "markdown",
      "metadata": {
        "id": "D8VTG6UOp9tz",
        "colab_type": "text"
      },
      "source": [
        "기준값 (threshold)을 3으로 주는 경우"
      ]
    },
    {
      "cell_type": "code",
      "metadata": {
        "id": "pPq6yBn0pThy",
        "colab_type": "code",
        "outputId": "f9fc684f-4941-4568-d4e3-c1361e61075f",
        "colab": {
          "base_uri": "https://localhost:8080/",
          "height": 73
        }
      },
      "source": [
        "bnr = Binarizer(3).fit(x)\n",
        "bnr.transform(x)"
      ],
      "execution_count": 0,
      "outputs": [
        {
          "output_type": "execute_result",
          "data": {
            "text/plain": [
              "array([[1, 0, 0],\n",
              "       [1, 0, 0],\n",
              "       [0, 1, 1]])"
            ]
          },
          "metadata": {
            "tags": []
          },
          "execution_count": 124
        }
      ]
    },
    {
      "cell_type": "code",
      "metadata": {
        "id": "-crH0W69qw8j",
        "colab_type": "code",
        "outputId": "90f808bc-9cea-4528-dc97-0dd49c80cd74",
        "colab": {
          "base_uri": "https://localhost:8080/",
          "height": 73
        }
      },
      "source": [
        "bnr2 = Binarizer(2).fit(x)\n",
        "bnr2.transform(x) ## threshold and down goes 0, up goes 1"
      ],
      "execution_count": 0,
      "outputs": [
        {
          "output_type": "execute_result",
          "data": {
            "text/plain": [
              "array([[1, 0, 0],\n",
              "       [1, 0, 0],\n",
              "       [0, 1, 1]])"
            ]
          },
          "metadata": {
            "tags": []
          },
          "execution_count": 126
        }
      ]
    },
    {
      "cell_type": "code",
      "metadata": {
        "id": "Aewc_QSmqp8H",
        "colab_type": "code",
        "colab": {}
      },
      "source": [
        ""
      ],
      "execution_count": 0,
      "outputs": []
    },
    {
      "cell_type": "code",
      "metadata": {
        "id": "q0gv-W6Yoe9j",
        "colab_type": "code",
        "colab": {}
      },
      "source": [
        ""
      ],
      "execution_count": 0,
      "outputs": []
    },
    {
      "cell_type": "code",
      "metadata": {
        "id": "3R_7W9INoQIf",
        "colab_type": "code",
        "outputId": "4a04a54a-c4f2-4b8e-b8bd-dfa4a9a3b237",
        "colab": {
          "base_uri": "https://localhost:8080/",
          "height": 281
        }
      },
      "source": [
        "tsla = pd.read_csv('gdrive/My Drive/colab/TSLA.csv').iloc[:,[0,4]]\n",
        "tgt = tsla['Close'].values.reshape(-1,1)\n",
        "import sklearn.preprocessing as skp\n",
        "\n",
        "tgt_s = skp.StandardScaler().fit_transform(tgt)\n",
        "tgt_r = skp.RobustScaler().fit_transform(tgt)\n",
        "tgt_m = skp.minmax_scale(tgt,axis=0)\n",
        "\n",
        "\n",
        "plt.hist(tgt_s, bins=(np.arange(min(tgt_s),max(tgt_s),.1)), label='standard')\n",
        "plt.hist(tgt_r, bins=(np.arange(min(tgt_r),max(tgt_r),.1)), label='robust')\n",
        "plt.hist(tgt_m, bins=(np.arange(min(tgt_m),max(tgt_m),.1)), label='minmax')\n",
        "plt.title('what am i doing')\n",
        "plt.legend()\n",
        "plt.show()\n"
      ],
      "execution_count": 0,
      "outputs": [
        {
          "output_type": "display_data",
          "data": {
            "image/png": "[encoded data removed]",
            "text/plain": [
              "<Figure size 432x288 with 1 Axes>"
            ]
          },
          "metadata": {
            "tags": []
          }
        }
      ]
    },
    {
      "cell_type": "code",
      "metadata": {
        "id": "dbrcOVDd7sXI",
        "colab_type": "code",
        "colab": {}
      },
      "source": [
        ""
      ],
      "execution_count": 0,
      "outputs": []
    }
  ]
}