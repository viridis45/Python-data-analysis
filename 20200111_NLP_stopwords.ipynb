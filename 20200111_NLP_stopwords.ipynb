{
  "nbformat": 4,
  "nbformat_minor": 0,
  "metadata": {
    "colab": {
      "name": "20200111_NLP_stopwords.ipynb",
      "provenance": [],
      "collapsed_sections": [
        "qs6vwholZ780",
        "CxHN3xBmausY",
        "kh4ejlwNfMG3",
        "-ebwWhhfrsMR",
        "HSxjwZ6ONhL1",
        "uwOUi-YzUpuB"
      ],
      "toc_visible": true,
      "include_colab_link": true
    },
    "kernelspec": {
      "name": "python3",
      "display_name": "Python 3"
    },
    "accelerator": "GPU"
  },
  "cells": [
    {
      "cell_type": "markdown",
      "metadata": {
        "id": "view-in-github",
        "colab_type": "text"
      },
      "source": [
        "<a href=\"https://colab.research.google.com/github/viridis45/Python-data-analysis/blob/master/20200111_NLP_stopwords.ipynb\" target=\"_parent\"><img src=\"https://colab.research.google.com/assets/colab-badge.svg\" alt=\"Open In Colab\"/></a>"
      ]
    },
    {
      "cell_type": "markdown",
      "metadata": {
        "id": "qs6vwholZ780",
        "colab_type": "text"
      },
      "source": [
        "# Mecab 설치 (3~4분 소요)"
      ]
    },
    {
      "cell_type": "code",
      "metadata": {
        "id": "lVs6vi2UZrY8",
        "colab_type": "code",
        "colab": {}
      },
      "source": [
        "import time\n",
        "a = time.time()\n",
        "#=============================================================\n",
        "#-------------------------기본 설정----------------------------\n",
        "#=============================================================\n",
        "\n",
        "!apt-get update\n",
        "!apt-get install g++ openjdk-8-jdk python-dev python3-dev\n",
        "\n",
        "!pip3 install JPype1-py3 \n",
        "\n",
        "!pip3 install konlpy\n",
        "\n",
        "!JAVA_HOME=\"/usr/lib/jvm/java-8-openjdk-amd64\"\n",
        "\n",
        "\n",
        "\n",
        "#=============================================================\n",
        "#----------------------Mecab 다운로드--------------------------\n",
        "#=============================================================\n",
        "import os\n",
        "os.chdir('/tmp/')\n",
        "!curl -LO https://bitbucket.org/eunjeon/mecab-ko/downloads/mecab-0.996-ko-0.9.1.tar.gz\n",
        "!tar zxfv mecab-0.996-ko-0.9.1.tar.gz\n",
        "os.chdir('/tmp/mecab-0.996-ko-0.9.1')\n",
        "!./configure\n",
        "!make\n",
        "!make check\n",
        "!make install\n",
        "\n",
        "#=============================================================\n",
        "#-----------------------automke 설치--------------------------\n",
        "#=============================================================\n",
        "! sudo apt-get update\n",
        "! sudo apt-get install autoconf\n",
        "\n",
        "os.chdir('/tmp')\n",
        "!curl -LO http://ftpmirror.gnu.org/automake/automake-1.11.tar.gz\n",
        "!tar -zxvf automake-1.11.tar.gz\n",
        "os.chdir('/tmp/automake-1.11')\n",
        "!./configure\n",
        "!make\n",
        "!make install\n",
        "\n",
        "#=============================================================\n",
        "#----------------------mecab-ko-dic  -------------------------\n",
        "#=============================================================\n",
        "import os\n",
        "os.chdir('/tmp')\n",
        "!curl -LO https://bitbucket.org/eunjeon/mecab-ko-dic/downloads/mecab-ko-dic-2.0.1-20150920.tar.gz\n",
        "!tar -zxvf mecab-ko-dic-2.0.1-20150920.tar.gz\n",
        "os.chdir('/tmp/mecab-ko-dic-2.0.1-20150920')\n",
        "!./autogen.sh\n",
        "!./configure\n",
        "!make\n",
        "\n",
        "!make install\n",
        "\n",
        "\n",
        "\n",
        "#=============================================================\n",
        "#----------------------파이썬과 연동  -------------------------\n",
        "#=============================================================\n",
        "import os\n",
        "os.chdir('/content')\n",
        "\n",
        "!git clone https://bitbucket.org/eunjeon/mecab-python-0.996.git\n",
        "os.chdir('/content/mecab-python-0.996')\n",
        "\n",
        "!python3 setup.py build\n",
        "!python3 setup.py install\n",
        "\n",
        "print(time.time()-a)"
      ],
      "execution_count": 0,
      "outputs": []
    },
    {
      "cell_type": "markdown",
      "metadata": {
        "id": "CxHN3xBmausY",
        "colab_type": "text"
      },
      "source": [
        "# Meacb 테스트"
      ]
    },
    {
      "cell_type": "code",
      "metadata": {
        "id": "Ftzj4dPyaAJv",
        "colab_type": "code",
        "colab": {}
      },
      "source": [
        "from konlpy.tag import Mecab\n",
        "import pandas as pd\n",
        "mecab = Mecab()\n",
        "\n",
        "tagsets = pd.DataFrame()\n",
        "N = 45\n",
        "tagsets[\"Mecab-기호\"] = list(mecab.tagset.keys()) + list(\"*\" * (N - len(mecab.tagset))) \n",
        "tagsets[\"Mecab-품사\"] = list(mecab.tagset.values()) + list(\"*\" * (N - len(mecab.tagset)))\n",
        "\n",
        "tagsets"
      ],
      "execution_count": 0,
      "outputs": []
    },
    {
      "cell_type": "code",
      "metadata": {
        "id": "87-g3N9DZ7jG",
        "colab_type": "code",
        "outputId": "efbf233c-3fd5-44f7-d17e-f19dd0fd656d",
        "colab": {
          "base_uri": "https://localhost:8080/",
          "height": 118
        }
      },
      "source": [
        "from konlpy.tag import Mecab\n",
        "\n",
        "\n",
        "mecab = Mecab()\n",
        "\n",
        "print(mecab.morphs('안녕하세요'))\n",
        "print(mecab.pos('안녕하세요'))\n",
        "print(mecab.pos('햇살론')) # 햇살/ 론으로 구분되어 나와요\n",
        "print(mecab.pos('CES'))\n",
        "print(mecab.pos('QPR'))\n",
        "print(mecab.pos('OSEN'))"
      ],
      "execution_count": 0,
      "outputs": [
        {
          "output_type": "stream",
          "text": [
            "['안녕', '하', '세요']\n",
            "[('안녕', 'NNG'), ('하', 'XSV'), ('세요', 'EP+EF')]\n",
            "[('햇살', 'NNG'), ('론', 'XSN')]\n",
            "[('CES', 'SL')]\n",
            "[('QPR', 'SL')]\n",
            "[('OSEN', 'SL')]\n"
          ],
          "name": "stdout"
        }
      ]
    },
    {
      "cell_type": "code",
      "metadata": {
        "id": "RF02V61s-LQR",
        "colab_type": "code",
        "outputId": "511f95ec-3063-4cd9-9db4-be4b50565f52",
        "colab": {
          "base_uri": "https://localhost:8080/",
          "height": 34
        }
      },
      "source": [
        "b=dict()\n",
        "for i in mecab.pos('안녕하세요'):\n",
        "  \n",
        "  for j in i[1].split('+'):\n",
        "    if j in b:\n",
        "      b[j]+=1\n",
        "    else :\n",
        "      b[j] = 1\n",
        "b\n",
        "    \n",
        "  "
      ],
      "execution_count": 0,
      "outputs": [
        {
          "output_type": "execute_result",
          "data": {
            "text/plain": [
              "{'EF': 1, 'EP': 1, 'NNG': 1, 'XSV': 1}"
            ]
          },
          "metadata": {
            "tags": []
          },
          "execution_count": 49
        }
      ]
    },
    {
      "cell_type": "markdown",
      "metadata": {
        "id": "N41wIwl9Kflo",
        "colab_type": "text"
      },
      "source": [
        "]# 구버젼 사전추가"
      ]
    },
    {
      "cell_type": "code",
      "metadata": {
        "id": "PLu8xxPsK1YX",
        "colab_type": "code",
        "colab": {}
      },
      "source": [
        "import pandas as pd\n",
        "nnp = pd.read_csv('/tmp/mecab-ko-dic-2.0.1-20150920/user-dic/nnp.csv')\n",
        "nnp2 = nnp.copy()\n",
        "\n",
        "# 새 단어 리스트\n",
        "newwords=['햇살론'] #길이가 길어지면 csv파일을 불러오도록 수정합니다\n",
        "for i in range(len(newwords)):\n",
        "  nnp2.iloc[i,0], nnp2.iloc[i,7] = newwords[i], newwords[i]\n",
        "\n",
        "# 사용자 단어파일 생성\n",
        "nnp2.to_csv('/tmp/mecab-ko-dic-2.0.1-20150920/user-dic/nnp2.csv', index=False, header=False)\n",
        "\n",
        "\n",
        "# 사용자 사전 추가\n",
        "import os\n",
        "os.chdir('/tmp/mecab-ko-dic-2.0.1-20150920/')\n",
        "! tools/add-userdic.sh\n",
        "\n",
        "os.chdir('/tmp/mecab-ko-dic-2.0.1-20150920/')\n",
        "! make install"
      ],
      "execution_count": 0,
      "outputs": []
    },
    {
      "cell_type": "code",
      "metadata": {
        "id": "0M_My92qKytT",
        "colab_type": "code",
        "outputId": "b7f899a2-a04a-4e2a-da2c-0f2e4fb64199",
        "colab": {
          "base_uri": "https://localhost:8080/"
        }
      },
      "source": [
        "# 확인하기\n",
        "from konlpy.tag import Mecab\n",
        "mecab = Mecab()\n",
        "\n",
        "print(mecab.morphs('안녕하세요'))\n",
        "print(mecab.pos('안녕하세요'))\n",
        "print(mecab.pos('햇살론')) # 햇살론이 추가됨 야호"
      ],
      "execution_count": 0,
      "outputs": [
        {
          "output_type": "stream",
          "text": [
            "['안녕', '하', '세요']\n",
            "[('안녕', 'NNG'), ('하', 'XSV'), ('세요', 'EP+EF')]\n",
            "[('햇살론', 'NNP')]\n"
          ],
          "name": "stdout"
        }
      ]
    },
    {
      "cell_type": "markdown",
      "metadata": {
        "id": "kh4ejlwNfMG3",
        "colab_type": "text"
      },
      "source": [
        "# 데이터 로드"
      ]
    },
    {
      "cell_type": "code",
      "metadata": {
        "id": "eVJ2I2DsfhvM",
        "colab_type": "code",
        "outputId": "0d2ffeda-3689-4fc6-ae6f-b02b802c3179",
        "colab": {
          "base_uri": "https://localhost:8080/",
          "height": 121
        }
      },
      "source": [
        "from google.colab import drive\n",
        "drive.mount('/content/drive')"
      ],
      "execution_count": 0,
      "outputs": [
        {
          "output_type": "stream",
          "text": [
            "Go to this URL in a browser: https://accounts.google.com/o/oauth2/auth?client_id=947318989803-6bn6qk8qdgf4n4g3pfee6491hc0brc4i.apps.googleusercontent.com&redirect_uri=urn%3aietf%3awg%3aoauth%3a2.0%3aoob&response_type=code&scope=email%20https%3a%2f%2fwww.googleapis.com%2fauth%2fdocs.test%20https%3a%2f%2fwww.googleapis.com%2fauth%2fdrive%20https%3a%2f%2fwww.googleapis.com%2fauth%2fdrive.photos.readonly%20https%3a%2f%2fwww.googleapis.com%2fauth%2fpeopleapi.readonly\n",
            "\n",
            "Enter your authorization code:\n",
            "··········\n",
            "Mounted at /content/drive\n"
          ],
          "name": "stdout"
        }
      ]
    },
    {
      "cell_type": "markdown",
      "metadata": {
        "id": "PDgDjvAvGEWj",
        "colab_type": "text"
      },
      "source": [
        "# 키워드포함하는 숫자 치환하기"
      ]
    },
    {
      "cell_type": "markdown",
      "metadata": {
        "id": "-ebwWhhfrsMR",
        "colab_type": "text"
      },
      "source": [
        "## 연습장"
      ]
    },
    {
      "cell_type": "code",
      "metadata": {
        "id": "X8VMDq2vSNe1",
        "colab_type": "code",
        "outputId": "fe35cb8d-2f03-4db3-89e1-f02251526287",
        "colab": {
          "base_uri": "https://localhost:8080/",
          "height": 50
        }
      },
      "source": [
        "#===============================================\n",
        "#             plan 2020.01.02-1225\n",
        "#===============================================\n",
        "#[숫자|X|-] 혼합 4개 이상\n",
        "# '[\\d|X]+-[\\d|X|-]+' 숫자로만 있는것들은 어떻게 거를까요?\n",
        "# : x를 하나도 포함하지 않는다면\n",
        "# 키워드 거르기\n",
        "#[\\d|X|-]{5,}\n",
        "#(entry[combination.start()-10:combination.end()])\n",
        "\n",
        "\n",
        "#================데이터 불러오기\n",
        "import pandas as pd\n",
        "import regex as re\n",
        "train = '/content/drive/My Drive/financo/data/train.csv'\n",
        "trainfile = pd.read_csv(train).copy()\n",
        "targetdata = trainfile[['text', 'smishing']].rename(columns={'text':'document', 'smishing':'label'})\n",
        "\n",
        "\n",
        "\n",
        "#================사용할 데이터 구간 선택하기\n",
        "sampledata = targetdata.copy() #전체\n",
        "#sampledata = targetdata.iloc[:int(targetdata.shape[0]/3),:] # 전체의 1/3\n",
        "#sampledata = targetdata.iloc[30:33,:].copy()\n",
        "\n",
        "\n",
        "#================main\n",
        "keywords = ['계좌','금액','통장','이체','예금주']\n",
        "\n",
        "print(sampledata.shape)\n",
        "altered = 0\n",
        "combo = 0\n",
        "\n",
        "lis = []\n",
        "for entry in sampledata['document']:\n",
        "#  for combination in re.finditer(r'[\\d|X]+-[\\d|X|-]+', entry):\n",
        "  for combination in re.finditer(r'(\\d|X)+-(\\d|X|-)+', entry):\n",
        "    if (combination.end()-combination.start()) > 4:\n",
        "      combo+=1\n",
        "      pad = str(entry)[combination.start()-15:combination.end()+15]\n",
        "      lis.append(pad)\n",
        "      for keyword in keywords:\n",
        "        if keyword in pad:\n",
        "          altered+=1\n",
        "          break # 키워드가 발견되면 다음 combination으로 넘어가도록 합니다\n",
        "\n",
        "print(f'총 {combo}개의 번호들 중 {altered}개가 해당됨. {altered/combo*100}%')\n",
        "\n",
        "\n",
        "# 치환하기\n",
        "# 다른 키워드들 고르기\n",
        "# 나머지 개수\n"
      ],
      "execution_count": 0,
      "outputs": [
        {
          "output_type": "stream",
          "text": [
            "(295945, 2)\n",
            "총 78355개의 번호들 중 495개가 해당됨. 0.6317401569778571%\n"
          ],
          "name": "stdout"
        }
      ]
    },
    {
      "cell_type": "code",
      "metadata": {
        "id": "uVKj4HM0iwBv",
        "colab_type": "code",
        "outputId": "70b52808-beea-4966-87fa-3a806a721868",
        "colab": {
          "base_uri": "https://localhost:8080/",
          "height": 34
        }
      },
      "source": [
        "import pandas as pd\n",
        "import regex as re\n",
        "\n",
        "\n",
        "\n",
        "def changeword(entry): #apply this onto column\n",
        "  keywords = ['계좌','금액','통장','이체','예금주']\n",
        "  phone = 'CES'\n",
        "  bankaccount = 'QPR'\n",
        "  for combination in re.finditer(r'(\\d|X)+-(\\d|X|-)+', entry):\n",
        "    if len(combination.group()) > 4:\n",
        "      for keyword in keywords:\n",
        "        pad = entry[combination.start()-10 : combination.end()+10]\n",
        "        if keyword in pad:\n",
        "          combinationlen = combination.end() - combination.start()\n",
        "          entry = entry[:combination.start()] + bankaccount + entry[combination.start()+combinationlen:]\n",
        "  return entry\n",
        "\n",
        "\n",
        "train = '/content/drive/My Drive/financo/data/train.csv'\n",
        "trainfile = pd.read_csv(train).copy()\n",
        "trainfile['text'] = trainfile['text'].apply(changeword)\n",
        "trainfile['text'] = trainfile['text'].str.replace(r'(\\d|X)+-(\\d|X|-)+', 'CES')\n",
        "\n",
        "trainfile[trainfile['text'].str.contains('CES')].shape\n",
        "\n",
        "\n"
      ],
      "execution_count": 0,
      "outputs": [
        {
          "output_type": "execute_result",
          "data": {
            "text/plain": [
              "(42592, 5)"
            ]
          },
          "metadata": {
            "tags": []
          },
          "execution_count": 25
        }
      ]
    },
    {
      "cell_type": "code",
      "metadata": {
        "id": "UmdCvuicJ1hn",
        "colab_type": "code",
        "outputId": "96dad9d9-c8a0-4cc3-ebff-63f163c9a21e",
        "colab": {
          "base_uri": "https://localhost:8080/",
          "height": 34
        }
      },
      "source": [
        "exportfilename = 'trainfile_200106.csv'\n",
        "\n",
        "import os\n",
        "os.chdir('/content/')\n",
        "trainfile.to_csv( exportfilename, encoding='cp949', index=False)\n",
        "! dir"
      ],
      "execution_count": 0,
      "outputs": [
        {
          "output_type": "stream",
          "text": [
            "drive  mecab-python-0.996  sample_data\ttrainfile_200106.csv\n"
          ],
          "name": "stdout"
        }
      ]
    },
    {
      "cell_type": "code",
      "metadata": {
        "id": "s2Td44yEMqtP",
        "colab_type": "code",
        "outputId": "b58ebf32-5327-4077-a075-09a6cfe7abaa",
        "colab": {
          "base_uri": "https://localhost:8080/",
          "height": 50
        }
      },
      "source": [
        "csvfile = '/content/mecab-python-0.996/processed_0111.csv'\n",
        "\n",
        "tt = pd.read_csv(csvfile, encoding='cp949')\n",
        "\n",
        "from konlpy.tag import Mecab\n",
        "import pandas as pd\n",
        "mecab = Mecab()\n",
        "\n",
        "def Mecaber(raw_sentence):\n",
        "  return ' '.join(mecab.morphs(raw_sentence))\n",
        "import time\n",
        "\n",
        "a = time.time()\n",
        "print('processing...')\n",
        "tt['text'] = tt['text'].apply(Mecaber)\n",
        "\n",
        "print(time.time() - a)\n",
        "\n"
      ],
      "execution_count": 0,
      "outputs": [
        {
          "output_type": "stream",
          "text": [
            "processing...\n",
            "118.69765114784241\n"
          ],
          "name": "stdout"
        }
      ]
    },
    {
      "cell_type": "code",
      "metadata": {
        "id": "LW39D5JWBjw9",
        "colab_type": "code",
        "outputId": "5df76909-db2c-45ac-a6d3-9d075249734f",
        "colab": {
          "base_uri": "https://localhost:8080/",
          "height": 34
        }
      },
      "source": [
        "! pwd"
      ],
      "execution_count": 0,
      "outputs": [
        {
          "output_type": "stream",
          "text": [
            "/content/mecab-python-0.996\n"
          ],
          "name": "stdout"
        }
      ]
    },
    {
      "cell_type": "code",
      "metadata": {
        "id": "0B9k1d1TAb7L",
        "colab_type": "code",
        "colab": {}
      },
      "source": [
        "tt.to_csv('train_p.csv', encoding='cp949')"
      ],
      "execution_count": 0,
      "outputs": []
    },
    {
      "cell_type": "code",
      "metadata": {
        "id": "6DbBgXkcNK_Y",
        "colab_type": "code",
        "colab": {}
      },
      "source": [
        "mecabfilename = 'train200106_num_mec.csv'\n",
        "tt.to_csv(mecabfilename, encoding='cp949', index=False)"
      ],
      "execution_count": 0,
      "outputs": []
    },
    {
      "cell_type": "code",
      "metadata": {
        "id": "H5FHMCZbQyDR",
        "colab_type": "code",
        "outputId": "540d897e-00be-4b2d-fdf2-208258887ddb",
        "colab": {
          "base_uri": "https://localhost:8080/",
          "height": 166
        }
      },
      "source": [
        "ttt = pd.read_csv(mecabfilename, encoding='cp949')\n",
        "ttt['text']=ttt['text'].str.replace('XXX', 'OSEN')\n",
        "ttt.to_csv('num_mec_noun.csv', encoding='cp949', index=False)\n",
        "ttt = pd.read_csv('num_mec_noun.csv', encoding='cp949')\n",
        "ttt.head(4)"
      ],
      "execution_count": 0,
      "outputs": [
        {
          "output_type": "execute_result",
          "data": {
            "text/html": [
              "<div>\n",
              "<style scoped>\n",
              "    .dataframe tbody tr th:only-of-type {\n",
              "        vertical-align: middle;\n",
              "    }\n",
              "\n",
              "    .dataframe tbody tr th {\n",
              "        vertical-align: top;\n",
              "    }\n",
              "\n",
              "    .dataframe thead th {\n",
              "        text-align: right;\n",
              "    }\n",
              "</style>\n",
              "<table border=\"1\" class=\"dataframe\">\n",
              "  <thead>\n",
              "    <tr style=\"text-align: right;\">\n",
              "      <th></th>\n",
              "      <th>Unnamed: 0</th>\n",
              "      <th>id</th>\n",
              "      <th>year_month</th>\n",
              "      <th>text</th>\n",
              "      <th>smishing</th>\n",
              "    </tr>\n",
              "  </thead>\n",
              "  <tbody>\n",
              "    <tr>\n",
              "      <th>0</th>\n",
              "      <td>0</td>\n",
              "      <td>0</td>\n",
              "      <td>2017-01</td>\n",
              "      <td>OSEN 은 행성 산 OSEN 팀장 입니다 . 행복 한 주말 되 세요</td>\n",
              "      <td>0</td>\n",
              "    </tr>\n",
              "    <tr>\n",
              "      <th>1</th>\n",
              "      <td>1</td>\n",
              "      <td>1</td>\n",
              "      <td>2017-01</td>\n",
              "      <td>오늘 도 많이 웃 으시 는 하루 시작 하 세요 OSEN 은행 진월동 VIP 라운지 ...</td>\n",
              "      <td>0</td>\n",
              "    </tr>\n",
              "    <tr>\n",
              "      <th>2</th>\n",
              "      <td>2</td>\n",
              "      <td>2</td>\n",
              "      <td>2017-01</td>\n",
              "      <td>안녕 하 십니까 고객 님 . OSEN 은행 입니다 . 금일 납부 하 셔야 할 금액 ...</td>\n",
              "      <td>0</td>\n",
              "    </tr>\n",
              "    <tr>\n",
              "      <th>3</th>\n",
              "      <td>3</td>\n",
              "      <td>4</td>\n",
              "      <td>2017-01</td>\n",
              "      <td>OSEN 고객 님 안녕 하 세요 OSEN 은행 OSEN 지점 입니다 지난 한 해 동...</td>\n",
              "      <td>0</td>\n",
              "    </tr>\n",
              "  </tbody>\n",
              "</table>\n",
              "</div>"
            ],
            "text/plain": [
              "   Unnamed: 0  id  ...                                               text smishing\n",
              "0           0   0  ...             OSEN 은 행성 산 OSEN 팀장 입니다 . 행복 한 주말 되 세요        0\n",
              "1           1   1  ...  오늘 도 많이 웃 으시 는 하루 시작 하 세요 OSEN 은행 진월동 VIP 라운지 ...        0\n",
              "2           2   2  ...  안녕 하 십니까 고객 님 . OSEN 은행 입니다 . 금일 납부 하 셔야 할 금액 ...        0\n",
              "3           3   4  ...  OSEN 고객 님 안녕 하 세요 OSEN 은행 OSEN 지점 입니다 지난 한 해 동...        0\n",
              "\n",
              "[4 rows x 5 columns]"
            ]
          },
          "metadata": {
            "tags": []
          },
          "execution_count": 40
        }
      ]
    },
    {
      "cell_type": "markdown",
      "metadata": {
        "id": "HSxjwZ6ONhL1",
        "colab_type": "text"
      },
      "source": [
        "## one ring to rule them all"
      ]
    },
    {
      "cell_type": "code",
      "metadata": {
        "id": "vNBcALF7KFKM",
        "colab_type": "code",
        "colab": {}
      },
      "source": [
        "import pandas as pd\n",
        "import re\n",
        "\n",
        "\n",
        "def nums_mec_noun(csvfile, outputfilename):\n",
        "  csvfile = pd.read_csv(csvfile)\n",
        "\n",
        "  def changeword(entry): #apply this onto column\n",
        "    keywords = ['계좌','금액','통장','이체','예금주']\n",
        "    bankaccount = ' QPR '\n",
        "    for combination in re.finditer(r'(\\d|X)+-(\\d|X|-)+', entry):\n",
        "      if len(combination.group()) > 4:\n",
        "        for keyword in keywords:\n",
        "          pad = entry[combination.start()-10 : combination.end()+10]\n",
        "          if keyword in pad:\n",
        "            combinationlen = combination.end() - combination.start()\n",
        "            entry = entry[:combination.start()] + bankaccount + entry[combination.start()+combinationlen:]\n",
        "    return entry\n",
        "\n",
        "  # mecab = Mecab()\n",
        "  # from konlpy.tag import Mecab\n",
        "  # def Mecaber(raw_sentence):\n",
        "  #   return ' '.join(mecab.morphs(raw_sentence))\n",
        "\n",
        "\n",
        "  csvfile['text'] = csvfile['text'].apply(changeword)\n",
        "  csvfile['text'] = csvfile['text'].str.replace(r'(\\d|X)+-(\\d|X|-)+', ' CES ') #전화번호\n",
        "  csvfile['text'] = csvfile['text'].str.replace('X{4,}', ' 국정원 ') # 기타번호\n",
        "  csvfile['text'] = csvfile['text'].str.replace('X{3}', ' OSEN ') # 명사\n",
        "  #csvfile['text'] = csvfile['text'].apply(Mecaber)\n",
        "\n",
        "  csvfile.to_csv(outputfilename, encoding='cp949', index=False)\n",
        "\n",
        "\n",
        "#nums_mec_noun('/content/drive/My Drive/financo/data/public_test.csv', 'test_01082020.csv')\n",
        "#nums_mec_noun('/content/drive/My Drive/financo/data/train.csv', 'train_010920.csv')\n",
        "# train.py에서 embed(), preprocessor.vocab.to_tokens(preprocessor.preprocess('안녕')))\n",
        "# sklearn.metrics import roc_auc_score"
      ],
      "execution_count": 0,
      "outputs": []
    },
    {
      "cell_type": "markdown",
      "metadata": {
        "id": "OwSBJy5WV783",
        "colab_type": "text"
      },
      "source": [
        "## and in the darkness bind them_master"
      ]
    },
    {
      "cell_type": "code",
      "metadata": {
        "id": "N74BFtIILFSc",
        "colab_type": "code",
        "colab": {}
      },
      "source": [
        "def XXX_btw_words(entry):\n",
        "  pattern = re.compile('x', re.IGNORECASE)\n",
        "  if len(pattern.findall(entry)) > (len(entry)*.75):\n",
        "    entry=''\n",
        "  return entry\n",
        "\n",
        "def email_url_filter(text):\n",
        "  e_pattern = r'''(?:[a-z0-9!#$%&'*+/=?^_`{|}~-]+(?:\\.[a-z0-9!#$%&'*+/=?^_`{|}~-]+)*|\"(?:[\\x01-\\x08\\x0b\\x0c\\x0e-\\x1f\\x21\\x23-\\x5b\\x5d-\\x7f]|\\\\[\\x01-\\x09\\x0b\\x0c\\x0e-\\x7f])*\")@(?:(?:[a-z0-9](?:[a-z0-9-]*[a-z0-9])?\\.)+[a-z0-9](?:[a-z0-9-]*[a-z0-9])?|\\[(?:(?:25[0-5]|2[0-4][0-9]|[01]?[0-9][0-9]?)\\.){3}(?:25[0-5]|2[0-4][0-9]|[01]?[0-9][0-9]?|[a-z0-9-]*[a-z0-9]:(?:[\\x01-\\x08\\x0b\\x0c\\x0e-\\x1f\\x21-\\x5a\\x53-\\x7f]|\\\\[\\x01-\\x09\\x0b\\x0c\\x0e-\\x7f])+)\\])'''\n",
        "  u_pattern = r'http[s]?(?:[a-zA-Z]|[0-9]|[$-_@.&+]|[!*\\(\\),|]|(?:%[0-9a-fA-F][0-9a-fA-F]))+' #당근마켓, 우리데이터에 맞게 변형\n",
        "  u_pattern = r'[a-zA-Z1-9]*[.][a-zA-Z1-9.]*(co|com|kr|org)+'\n",
        "  \n",
        "  text = re.sub(e_pattern, ' 슈퍼스타 ', text)\n",
        "  text = re.sub(u_pattern, ' 드래곤 ', text)\n",
        "  return text\n",
        "\n",
        "\n",
        "def bankaccount_filter(entry):\n",
        "  keywords = ['계좌','금액','통장','이체','예금주']\n",
        "  bankaccount = ' QPR '\n",
        "  for combination in re.finditer(r'(\\d|X|x)+-(\\d|X|x|-)+', entry):\n",
        "    if len(combination.group()) > 4:\n",
        "      for keyword in keywords:\n",
        "        pad = entry[combination.start()-10 : combination.end()+10]\n",
        "        if keyword in pad:\n",
        "          combinationlen = combination.end() - combination.start()\n",
        "          entry = entry[:combination.start()] + bankaccount + entry[combination.start()+combinationlen:]\n",
        "  return entry\n",
        "\n",
        "\n",
        "def price_filter(text): \n",
        "  re_pattern = r'\\d{1,3}[,\\.]\\d{1,3}[만\\천]?\\s?[원]|\\d{1,5}[만\\천]?\\s?[원]'#당근마켓\n",
        "  re_pattern2 = r'[일/이/삼/사/오/육/칠/팔/구/십/백][만\\천]\\s?[원]'#당근마켓\n",
        "  re_pattern3 = r'[0-9]+( ){0,1}[원|만|억|천]+'\n",
        "  \n",
        "  text = re.sub(re_pattern, ' 황금어장 ', text)\n",
        "  text = re.sub(re_pattern2, ' 황금어장 ', text)\n",
        "  text = re.sub(re_pattern3, ' 황금어장 ', text)\n",
        "  return text\n",
        "\n",
        "\n",
        "def XXX_filter(text):\n",
        "  telnum = r'(\\d|X|x)+-(\\d|X|x|-)+' # -를 포함하는 번호\n",
        "  telnum2 = r'(\\d{3}(-|.)\\d{3}(-|.)\\d{4})'\n",
        "  othernum = r'\\d{0,}[x|X]{4,}' # 3개 초과인 다른것들\n",
        "  noun = r'[X|x]{3}' # XXX는 보통 고유명사\n",
        "  noun2 = r'\\W[X|x]{2}\\W'\n",
        "  \n",
        "  text = re.sub(telnum, ' CES ', text)\n",
        "  text = re.sub(telnum2, ' CES ', text)\n",
        "  text = re.sub(othernum, ' 국정원 ', text)\n",
        "  text = re.sub(noun, ' OSEN ', text)\n",
        "  text = re.sub(noun2, ' OSEN ', text)\n",
        "\n",
        "  return text\n",
        "\n",
        "def numerical_tel_filter(text):\n",
        "  tel = r'(\\d{3}(-| |.)\\d{3}(-|.| )\\d{4})'\n",
        "  text = re.sub(tel, ' CES ', text)\n",
        "  return text\n",
        "\n",
        "\n",
        "\n",
        "\n",
        "#==============================================\n",
        "#\n",
        "#                 main ish\n",
        "#\n",
        "#==============================================\n",
        "import pandas as pd\n",
        "import re\n",
        "def master(csvfile, outputfilename):\n",
        "  if type(csvfile) == str:\n",
        "    csvfile = pd.read_csv(csvfile)\n",
        "\n",
        "  csvfile['text'] = csvfile['text'].apply(XXX_btw_words)\n",
        "\n",
        "  csvfile['text'] = csvfile['text'].apply(email_url_filter)\n",
        "  csvfile['text'] = csvfile['text'].apply(bankaccount_filter)\n",
        "  csvfile['text'] = csvfile['text'].apply(price_filter)\n",
        "  csvfile['text'] = csvfile['text'].apply(XXX_filter)\n",
        "  csvfile['text'] = csvfile['text'].apply(numerical_tel_filter)\n",
        "  csvfile = csvfile[csvfile['text'].str.len() > 1]\n",
        "\n",
        "\n",
        "  if type(outputfilename) == str:\n",
        "    csvfile.to_csv(outputfilename, encoding='cp949', index=False)\n",
        "  \n",
        "  return csvfile\n"
      ],
      "execution_count": 0,
      "outputs": []
    },
    {
      "cell_type": "code",
      "metadata": {
        "id": "RhRKSjTcNmUI",
        "colab_type": "code",
        "outputId": "1fa32de4-078b-47f0-cdc6-e4ee6612e954",
        "colab": {
          "base_uri": "https://localhost:8080/",
          "height": 34
        }
      },
      "source": [
        "# 학습파일 전환\n",
        "\n",
        "dd = pd.read_csv('/content/drive/My Drive/financo/data/train.csv')\n",
        "\n",
        "import time\n",
        "a = time.time()\n",
        "master(dd, 'train_processed.csv')\n",
        "print(time.time() - a)"
      ],
      "execution_count": 0,
      "outputs": [
        {
          "output_type": "stream",
          "text": [
            "34.41531276702881\n"
          ],
          "name": "stdout"
        }
      ]
    },
    {
      "cell_type": "code",
      "metadata": {
        "id": "I0XnrkM8dg7H",
        "colab_type": "code",
        "outputId": "86bfd63f-0674-4dad-d03f-cfc1e39bca82",
        "colab": {
          "base_uri": "https://localhost:8080/",
          "height": 34
        }
      },
      "source": [
        "! pwd"
      ],
      "execution_count": 0,
      "outputs": [
        {
          "output_type": "stream",
          "text": [
            "/content/mecab-python-0.996\n"
          ],
          "name": "stdout"
        }
      ]
    },
    {
      "cell_type": "code",
      "metadata": {
        "id": "ZI2agX8hNiAh",
        "colab_type": "code",
        "outputId": "529b6e85-748d-416d-ec70-6691c32501fc",
        "colab": {
          "base_uri": "https://localhost:8080/",
          "height": 34
        }
      },
      "source": [
        "# 테스트파일 전환\n",
        "dd = pd.read_csv('/content/drive/My Drive/financo/data/public_test.csv')\n",
        "\n",
        "import time\n",
        "a = time.time()\n",
        "master(dd, 'test.csv')\n",
        "print(time.time() - a)"
      ],
      "execution_count": 0,
      "outputs": [
        {
          "output_type": "stream",
          "text": [
            "0.45470595359802246\n"
          ],
          "name": "stdout"
        }
      ]
    },
    {
      "cell_type": "markdown",
      "metadata": {
        "id": "uwOUi-YzUpuB",
        "colab_type": "text"
      },
      "source": [
        "# 기타"
      ]
    },
    {
      "cell_type": "code",
      "metadata": {
        "id": "3jkRzrD75LVy",
        "colab_type": "code",
        "outputId": "bf5caff2-31ba-4230-9fe4-609f845add96",
        "colab": {
          "base_uri": "https://localhost:8080/",
          "height": 50
        }
      },
      "source": [
        "original = pd.read_csv('/content/drive/My Drive/financo/data/train.csv')\n",
        "changed = pd.read_csv('/content/processed_0110.csv', encoding='cp949')\n",
        "\n",
        "count = 0\n",
        "same = 0\n",
        "for i in range(original.shape[0]):\n",
        "  if original['text'][i] != changed['text'][i]:\n",
        "   count += 1\n",
        "  else :\n",
        "    same += 1\n",
        "\n",
        "print(count)\n",
        "print(same)\n"
      ],
      "execution_count": 0,
      "outputs": [
        {
          "output_type": "stream",
          "text": [
            "292880\n",
            "3065\n"
          ],
          "name": "stdout"
        }
      ]
    },
    {
      "cell_type": "code",
      "metadata": {
        "id": "uDXEVHKNd9kd",
        "colab_type": "code",
        "outputId": "8948382a-6a73-4377-b6eb-6af8091f615a",
        "colab": {
          "base_uri": "https://localhost:8080/",
          "height": 70
        }
      },
      "source": [
        "num = 1338\n",
        "print(original[ original['id'] == num]['text'])\n",
        "# print(changed[ changed['id'] == num]['text'])"
      ],
      "execution_count": 0,
      "outputs": [
        {
          "output_type": "stream",
          "text": [
            "1216    XXX 고객님XXX님 담보대출완제금액은20170117일기준으로원금: 165283186약정이자: 508721조기상환수수료: 1162374연체이자: 1785총금액: 166XXXXXX입니다.XXX은행옥포XXX올림\n",
            "Name: text, dtype: object\n"
          ],
          "name": "stdout"
        }
      ]
    },
    {
      "cell_type": "code",
      "metadata": {
        "id": "9KXheEG0fRPO",
        "colab_type": "code",
        "outputId": "c5f513b9-66ef-4e6a-c507-6d4dedac1dae",
        "colab": {
          "base_uri": "https://localhost:8080/",
          "height": 110
        }
      },
      "source": [
        "changed[ changed['id'] == num]"
      ],
      "execution_count": 0,
      "outputs": [
        {
          "output_type": "execute_result",
          "data": {
            "text/html": [
              "<div>\n",
              "<style scoped>\n",
              "    .dataframe tbody tr th:only-of-type {\n",
              "        vertical-align: middle;\n",
              "    }\n",
              "\n",
              "    .dataframe tbody tr th {\n",
              "        vertical-align: top;\n",
              "    }\n",
              "\n",
              "    .dataframe thead th {\n",
              "        text-align: right;\n",
              "    }\n",
              "</style>\n",
              "<table border=\"1\" class=\"dataframe\">\n",
              "  <thead>\n",
              "    <tr style=\"text-align: right;\">\n",
              "      <th></th>\n",
              "      <th>Unnamed: 0</th>\n",
              "      <th>id</th>\n",
              "      <th>year_month</th>\n",
              "      <th>text</th>\n",
              "      <th>smishing</th>\n",
              "    </tr>\n",
              "  </thead>\n",
              "  <tbody>\n",
              "    <tr>\n",
              "      <th>1216</th>\n",
              "      <td>1216</td>\n",
              "      <td>1338</td>\n",
              "      <td>2017-01</td>\n",
              "      <td>OSEN  고객님 OSEN 님 담보대출완제금액은20170117일기준으로원금: 165283186약정이자: 508721조기상환수수료: 1162374연체이자: 1785총금액:  국정원 입니다. OSEN 은행옥포 OSEN 올림</td>\n",
              "      <td>0</td>\n",
              "    </tr>\n",
              "  </tbody>\n",
              "</table>\n",
              "</div>"
            ],
            "text/plain": [
              "      Unnamed: 0  ...  smishing\n",
              "1216  1216        ...  0       \n",
              "\n",
              "[1 rows x 5 columns]"
            ]
          },
          "metadata": {
            "tags": []
          },
          "execution_count": 86
        }
      ]
    },
    {
      "cell_type": "code",
      "metadata": {
        "id": "oikEKi-Rflw-",
        "colab_type": "code",
        "outputId": "921c953d-b1ff-4dd6-bd52-adad8eb38430",
        "colab": {
          "base_uri": "https://localhost:8080/",
          "height": 34
        }
      },
      "source": [
        "original[ original['text'].str.contains('open.kakao') ]['smishing'].unique()"
      ],
      "execution_count": 0,
      "outputs": [
        {
          "output_type": "execute_result",
          "data": {
            "text/plain": [
              "array([1])"
            ]
          },
          "metadata": {
            "tags": []
          },
          "execution_count": 70
        }
      ]
    },
    {
      "cell_type": "code",
      "metadata": {
        "id": "AkmFhFnQ1I4-",
        "colab_type": "code",
        "outputId": "4a668850-169f-46e4-e593-696078683306",
        "colab": {
          "base_uri": "https://localhost:8080/",
          "height": 34
        }
      },
      "source": [
        "changed[ changed['text'].str.contains('open.kakao') ]['smishing'].unique()"
      ],
      "execution_count": 0,
      "outputs": [
        {
          "output_type": "execute_result",
          "data": {
            "text/plain": [
              "array([], dtype=int64)"
            ]
          },
          "metadata": {
            "tags": []
          },
          "execution_count": 71
        }
      ]
    },
    {
      "cell_type": "markdown",
      "metadata": {
        "id": "QFrl-0XpRZ_6",
        "colab_type": "text"
      },
      "source": [
        "## 뒤집기\n"
      ]
    },
    {
      "cell_type": "code",
      "metadata": {
        "id": "8MJmi2kNRT3W",
        "colab_type": "code",
        "colab": {}
      },
      "source": [
        "original = pd.read_csv('/content/drive/My Drive/financo/data/train.csv')\n",
        "\n",
        "\n",
        "ccandidates = pd.DataFrame()\n",
        "candidates = original[ original['text'].str.len() > 100][['text','smishing']]\n",
        "candidate = master(candidates, _)\n",
        "print('rev completed')\n",
        "candidate['text'] = candidate['text'].str[::-1]\n",
        "\n",
        "# 뒤집어진 키워드 도로 뒤집기\n",
        "rkw = []\n",
        "kw = ['슈퍼스타','드래곤','국정원','QPR','CES','OSEN','황금어장']\n",
        "for i in kw:\n",
        "  rkw.append(i[::-1])\n",
        "\n",
        "for i in range(len(rkw)):\n",
        "  candidate['text'] = candidate['text'].str.replace(rkw[i], kw[i])\n",
        "\n",
        "\n",
        "\n",
        "master(original, _).append(candidate, sort=False).to_csv('train.csv', encoding='cp949')"
      ],
      "execution_count": 0,
      "outputs": []
    },
    {
      "cell_type": "code",
      "metadata": {
        "id": "E8HpuD68l-QG",
        "colab_type": "code",
        "colab": {}
      },
      "source": [
        ""
      ],
      "execution_count": 0,
      "outputs": []
    },
    {
      "cell_type": "markdown",
      "metadata": {
        "id": "ybcqr9mvlJSW",
        "colab_type": "text"
      },
      "source": [
        "## 긴것들을 더해볼까"
      ]
    },
    {
      "cell_type": "code",
      "metadata": {
        "id": "uOI59WdGlI8q",
        "colab_type": "code",
        "colab": {}
      },
      "source": [
        "import pandas as pd\n",
        "original = pd.read_csv('/content/mecab-python-0.996/train_p.csv', encoding='cp949')"
      ],
      "execution_count": 0,
      "outputs": []
    },
    {
      "cell_type": "code",
      "metadata": {
        "id": "WtBJMUALRvoq",
        "colab_type": "code",
        "outputId": "9df55522-5239-4228-8560-c2b51dffdd56",
        "colab": {
          "base_uri": "https://localhost:8080/",
          "height": 67
        }
      },
      "source": [
        "original[original['text'].str.len() > 350]['smishing'].value_counts()\n",
        "\n",
        "#스미싱 데이터가 총 18703 건이라는것을 감안하면 거의 모든 스미싱 데이터의 대부분이 읽히고있지 않는다는것을 알 수 있다 흑흑흑\n",
        "# 지금은 250 토큰을 받아들이고 있기 떄문에 문장을 잘라서 넣어주는 방법을 사용?\n",
        "# 어디서 잘라주는가가 관건이네\n",
        "# 버트끼리 엮어서 끝에 히든레이어\n",
        "# 앞, 끝부분을 잘라이어\n",
        "# 클래시피케이션 레이어 증가시키기\n",
        "# fully connected layer증가 -- 기존에 학습한것을 잃어버릴 수 있음 -- decay조정"
      ],
      "execution_count": 0,
      "outputs": [
        {
          "output_type": "execute_result",
          "data": {
            "text/plain": [
              "0    33871\n",
              "1    18583\n",
              "Name: smishing, dtype: int64"
            ]
          },
          "metadata": {
            "tags": []
          },
          "execution_count": 21
        }
      ]
    },
    {
      "cell_type": "code",
      "metadata": {
        "id": "E_eBR1n4N658",
        "colab_type": "code",
        "colab": {}
      },
      "source": [
        "candidates = pd.DataFrame()\n",
        "candidates = original[ (original['text'].str.len() > 350) & (original['smishing'] == 1)][['text','smishing']]\n",
        "def secondhalf(entry):\n",
        "  return entry[350:]\n",
        "\n",
        "candidates['text'] = candidates['text'].apply(secondhalf)\n",
        "\n",
        "\n",
        "original.append(candidates, sort=False).to_csv('train_XXX_khaiii_append.csv', encoding='cp949')\n"
      ],
      "execution_count": 0,
      "outputs": []
    },
    {
      "cell_type": "code",
      "metadata": {
        "id": "wT9ceB0xnVb2",
        "colab_type": "code",
        "outputId": "ac54d108-4c29-402a-c321-90d3e0fe423a",
        "colab": {
          "base_uri": "https://localhost:8080/",
          "height": 67
        }
      },
      "source": [
        "original[original['text'].str.len() > 0]['smishing'].value_counts()"
      ],
      "execution_count": 0,
      "outputs": [
        {
          "output_type": "execute_result",
          "data": {
            "text/plain": [
              "0    277242\n",
              "1     18703\n",
              "Name: smishing, dtype: int64"
            ]
          },
          "metadata": {
            "tags": []
          },
          "execution_count": 26
        }
      ]
    },
    {
      "cell_type": "code",
      "metadata": {
        "id": "I2tFKODJT7-t",
        "colab_type": "code",
        "outputId": "e8a410a8-efe6-4575-bfa1-cd0b211a38a7",
        "colab": {
          "base_uri": "https://localhost:8080/",
          "height": 402
        }
      },
      "source": [
        "pd.read_csv('/content/mecab-python-0.996/test_p.csv', encoding = 'cp949')"
      ],
      "execution_count": 0,
      "outputs": [
        {
          "output_type": "execute_result",
          "data": {
            "text/html": [
              "<div>\n",
              "<style scoped>\n",
              "    .dataframe tbody tr th:only-of-type {\n",
              "        vertical-align: middle;\n",
              "    }\n",
              "\n",
              "    .dataframe tbody tr th {\n",
              "        vertical-align: top;\n",
              "    }\n",
              "\n",
              "    .dataframe thead th {\n",
              "        text-align: right;\n",
              "    }\n",
              "</style>\n",
              "<table border=\"1\" class=\"dataframe\">\n",
              "  <thead>\n",
              "    <tr style=\"text-align: right;\">\n",
              "      <th></th>\n",
              "      <th>Unnamed: 0</th>\n",
              "      <th>id</th>\n",
              "      <th>year_month</th>\n",
              "      <th>text</th>\n",
              "    </tr>\n",
              "  </thead>\n",
              "  <tbody>\n",
              "    <tr>\n",
              "      <th>0</th>\n",
              "      <td>0</td>\n",
              "      <td>340000</td>\n",
              "      <td>2019-01</td>\n",
              "      <td>OSEN 고객 님 ! 안녕 하 세요 ? 새롭 게 시작 하 는 한 주 행복 가득 하 ...</td>\n",
              "    </tr>\n",
              "    <tr>\n",
              "      <th>1</th>\n",
              "      <td>1</td>\n",
              "      <td>340001</td>\n",
              "      <td>2019-01</td>\n",
              "      <td>긴급 안내 OSEN 은행 가락동 지점 - 헬리오 OSEN 기본 OSEN 대출 이자 ...</td>\n",
              "    </tr>\n",
              "    <tr>\n",
              "      <th>2</th>\n",
              "      <td>2</td>\n",
              "      <td>340002</td>\n",
              "      <td>2019-01</td>\n",
              "      <td>OSEN 고객 님 안녕 하 세요 올해 는 미세먼지 가 유난 인 거 같 습니다 . 엊...</td>\n",
              "    </tr>\n",
              "    <tr>\n",
              "      <th>3</th>\n",
              "      <td>3</td>\n",
              "      <td>340003</td>\n",
              "      <td>2019-01</td>\n",
              "      <td>OSEN 고객 님 찾아온 행운 을 잡 으셨 나요 ? 못 잡 으셨다면 이번 에 다시 ...</td>\n",
              "    </tr>\n",
              "    <tr>\n",
              "      <th>4</th>\n",
              "      <td>4</td>\n",
              "      <td>340004</td>\n",
              "      <td>2019-01</td>\n",
              "      <td>OSEN 고객 님 새해 복 많이 받 으세요 OSEN 은행 코스트코 퇴직 연금 담당자...</td>\n",
              "    </tr>\n",
              "    <tr>\n",
              "      <th>...</th>\n",
              "      <td>...</td>\n",
              "      <td>...</td>\n",
              "      <td>...</td>\n",
              "      <td>...</td>\n",
              "    </tr>\n",
              "    <tr>\n",
              "      <th>1621</th>\n",
              "      <td>1621</td>\n",
              "      <td>341621</td>\n",
              "      <td>2019-04</td>\n",
              "      <td>( 광고 ) OSEN 고객 님 안녕 하 십니까 ! ! 고객 님 의 소중 한 업무 처...</td>\n",
              "    </tr>\n",
              "    <tr>\n",
              "      <th>1622</th>\n",
              "      <td>1622</td>\n",
              "      <td>341622</td>\n",
              "      <td>2019-04</td>\n",
              "      <td>고객 님 항상 저희 지점 을 거래 해 주 셔서 감사 합니다 본점 서비스 설문 전화 ...</td>\n",
              "    </tr>\n",
              "    <tr>\n",
              "      <th>1623</th>\n",
              "      <td>1623</td>\n",
              "      <td>341623</td>\n",
              "      <td>2019-04</td>\n",
              "      <td>OSEN 고객 님 저희 OSEN 은행 OSEN 지점 을 이용 해 주 셔서 감사 드립...</td>\n",
              "    </tr>\n",
              "    <tr>\n",
              "      <th>1624</th>\n",
              "      <td>1624</td>\n",
              "      <td>341624</td>\n",
              "      <td>2019-04</td>\n",
              "      <td>( 광고 ) 알림 신청 하 면 매일 현금 황금어장 ! OSEN 부동산 리브 온 지금...</td>\n",
              "    </tr>\n",
              "    <tr>\n",
              "      <th>1625</th>\n",
              "      <td>1625</td>\n",
              "      <td>341625</td>\n",
              "      <td>2019-04</td>\n",
              "      <td>( 광고 ) OSEN 고객 님 안녕 하 세요 . OSEN 봉 OSEN 점 OSEN ...</td>\n",
              "    </tr>\n",
              "  </tbody>\n",
              "</table>\n",
              "<p>1626 rows × 4 columns</p>\n",
              "</div>"
            ],
            "text/plain": [
              "      Unnamed: 0  ...                                               text\n",
              "0              0  ...  OSEN 고객 님 ! 안녕 하 세요 ? 새롭 게 시작 하 는 한 주 행복 가득 하 ...\n",
              "1              1  ...  긴급 안내 OSEN 은행 가락동 지점 - 헬리오 OSEN 기본 OSEN 대출 이자 ...\n",
              "2              2  ...  OSEN 고객 님 안녕 하 세요 올해 는 미세먼지 가 유난 인 거 같 습니다 . 엊...\n",
              "3              3  ...  OSEN 고객 님 찾아온 행운 을 잡 으셨 나요 ? 못 잡 으셨다면 이번 에 다시 ...\n",
              "4              4  ...  OSEN 고객 님 새해 복 많이 받 으세요 OSEN 은행 코스트코 퇴직 연금 담당자...\n",
              "...          ...  ...                                                ...\n",
              "1621        1621  ...  ( 광고 ) OSEN 고객 님 안녕 하 십니까 ! ! 고객 님 의 소중 한 업무 처...\n",
              "1622        1622  ...  고객 님 항상 저희 지점 을 거래 해 주 셔서 감사 합니다 본점 서비스 설문 전화 ...\n",
              "1623        1623  ...  OSEN 고객 님 저희 OSEN 은행 OSEN 지점 을 이용 해 주 셔서 감사 드립...\n",
              "1624        1624  ...  ( 광고 ) 알림 신청 하 면 매일 현금 황금어장 ! OSEN 부동산 리브 온 지금...\n",
              "1625        1625  ...  ( 광고 ) OSEN 고객 님 안녕 하 세요 . OSEN 봉 OSEN 점 OSEN ...\n",
              "\n",
              "[1626 rows x 4 columns]"
            ]
          },
          "metadata": {
            "tags": []
          },
          "execution_count": 41
        }
      ]
    },
    {
      "cell_type": "code",
      "metadata": {
        "id": "YhyKb8iUqS80",
        "colab_type": "code",
        "outputId": "4fc597b1-ab85-4bd6-9def-6d2128ac8caf",
        "colab": {
          "base_uri": "https://localhost:8080/",
          "height": 218
        }
      },
      "source": [
        "original[(original['text'].str.len() > 350) & (original['smishing']==1)]['text'].str.len()"
      ],
      "execution_count": 0,
      "outputs": [
        {
          "output_type": "execute_result",
          "data": {
            "text/plain": [
              "9          917\n",
              "23         399\n",
              "31         941\n",
              "40         937\n",
              "50         905\n",
              "          ... \n",
              "295927     911\n",
              "295932    1034\n",
              "295934     911\n",
              "295936     474\n",
              "295937     826\n",
              "Name: text, Length: 18108, dtype: int64"
            ]
          },
          "metadata": {
            "tags": []
          },
          "execution_count": 38
        }
      ]
    }
  ]
}